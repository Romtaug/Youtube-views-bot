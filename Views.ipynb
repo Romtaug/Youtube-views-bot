{
  "cells": [
    {
      "cell_type": "code",
      "execution_count": 10,
      "metadata": {},
      "outputs": [],
      "source": [
        "# 🎯 CIBLE : lien de la vidéo YouTube à booster en vues\n",
        "video_link = \"https://www.youtube.com/watch?v=FyznRjoS8pM\""
      ]
    },
    {
      "cell_type": "markdown",
      "metadata": {},
      "source": [
        "# 📊 Script YouTube View Simulator – Selenium + Edge\n",
        "\n",
        "## 🎯 Objectif\n",
        "Simuler automatiquement des vues **réalistes** sur une vidéo YouTube en :\n",
        "- Ouvrant Edge avec profil utilisateur temporaire\n",
        "- Simulant des clics réels (boutons cookies, lecture)\n",
        "- Attendant un temps de visionnage aléatoire\n",
        "- Nettoyant chaque session pour relancer une vue propre\n",
        "\n",
        "## ⚙️ Technologies\n",
        "- `Selenium` (automatisation navigateur)\n",
        "- `Edge WebDriver`\n",
        "- `fake_useragent` (user-agent randomisé)\n",
        "- `time`, `random`, `os`, `shutil`\n",
        "\n",
        "## 🔁 Fonctionnement\n",
        "- **watch_video_edge(url, watch_time=40)** :\n",
        "  - Lance navigateur avec faux profil\n",
        "  - Interagit avec les boutons \"Lire la suite\" et \"Tout refuser\"\n",
        "  - Skippe la pub si détectée\n",
        "  - Joue manuellement la vidéo si arrêtée\n",
        "  - Attend un `watch_duration` ≥ 35 secondes\n",
        "\n",
        "- **Boucle principale** :\n",
        "  - `nb_views` fois → appelle la fonction\n",
        "  - Affiche le numéro de vue\n",
        "  - Pause entre 3 et 9 secondes entre chaque\n",
        "\n",
        "## ⏱️ Temps estimé global\n",
        "```python\n",
        "estimated_total = nb_views * (40 + 45 + 9)\n",
        "print(f\"Temps max estimé : {estimated_total // 60}min {estimated_total % 60}s\")"
      ]
    },
    {
      "cell_type": "code",
      "execution_count": null,
      "metadata": {},
      "outputs": [
        {
          "name": "stdout",
          "output_type": "stream",
          "text": [
            "\n",
            "⏳ Temps max estimé pour 1000 vues : 18h 53min 20s\n",
            "\n"
          ]
        },
        {
          "name": "stderr",
          "output_type": "stream",
          "text": [
            "📊 Progression:   0%|                                  | 0/1000 [00:00<?, ?it/s]"
          ]
        },
        {
          "name": "stdout",
          "output_type": "stream",
          "text": [
            "\n",
            "🔥 Vue n°1\n",
            "📺 Ouverture de https://www.youtube.com/watch?v=FyznRjoS8pM\n",
            "📜 JS 'Lire la suite' cliqué\n",
            "🛡️ JS 'Tout refuser' cliqué\n",
            "⏳ Pas de pub à skipper\n",
            "▶️ Lecture manuelle déclenchée\n",
            "⌛ Visionnage : 16s\n",
            "✅ Vue simulée\n"
          ]
        },
        {
          "name": "stderr",
          "output_type": "stream",
          "text": [
            "📊 Progression:   0%|                       | 1/1000 [00:46<12:57:41, 46.71s/it]"
          ]
        },
        {
          "name": "stdout",
          "output_type": "stream",
          "text": [
            "\n",
            "🔥 Vue n°2\n",
            "📺 Ouverture de https://www.youtube.com/watch?v=FyznRjoS8pM\n",
            "📜 JS 'Lire la suite' cliqué\n",
            "🛡️ JS 'Tout refuser' cliqué\n",
            "⏳ Pas de pub à skipper\n",
            "▶️ Lecture manuelle déclenchée\n",
            "⌛ Visionnage : 17s\n",
            "✅ Vue simulée\n"
          ]
        },
        {
          "name": "stderr",
          "output_type": "stream",
          "text": [
            "📊 Progression:   0%|                       | 2/1000 [01:36<13:31:48, 48.81s/it]"
          ]
        },
        {
          "name": "stdout",
          "output_type": "stream",
          "text": [
            "\n",
            "🔥 Vue n°3\n",
            "📺 Ouverture de https://www.youtube.com/watch?v=FyznRjoS8pM\n",
            "📜 JS 'Lire la suite' cliqué\n",
            "🛡️ JS 'Tout refuser' cliqué\n",
            "⏳ Pas de pub à skipper\n",
            "▶️ Lecture manuelle déclenchée\n",
            "⌛ Visionnage : 16s\n",
            "✅ Vue simulée\n"
          ]
        },
        {
          "name": "stderr",
          "output_type": "stream",
          "text": [
            "📊 Progression:   0%|                       | 3/1000 [02:28<13:52:26, 50.10s/it]"
          ]
        },
        {
          "name": "stdout",
          "output_type": "stream",
          "text": [
            "\n",
            "🔥 Vue n°4\n",
            "📺 Ouverture de https://www.youtube.com/watch?v=FyznRjoS8pM\n",
            "📜 JS 'Lire la suite' cliqué\n",
            "🛡️ JS 'Tout refuser' cliqué\n",
            "⏳ Pas de pub à skipper\n",
            "▶️ Lecture manuelle déclenchée\n",
            "⌛ Visionnage : 15s\n",
            "✅ Vue simulée\n"
          ]
        },
        {
          "name": "stderr",
          "output_type": "stream",
          "text": [
            "📊 Progression:   0%|                       | 4/1000 [03:19<13:59:46, 50.59s/it]"
          ]
        },
        {
          "name": "stdout",
          "output_type": "stream",
          "text": [
            "\n",
            "🔥 Vue n°5\n",
            "📺 Ouverture de https://www.youtube.com/watch?v=FyznRjoS8pM\n",
            "📜 JS 'Lire la suite' cliqué\n",
            "🛡️ JS 'Tout refuser' cliqué\n",
            "⏳ Pas de pub à skipper\n",
            "▶️ Lecture manuelle déclenchée\n",
            "⌛ Visionnage : 15s\n",
            "✅ Vue simulée\n"
          ]
        },
        {
          "name": "stderr",
          "output_type": "stream",
          "text": [
            "📊 Progression:   0%|                       | 5/1000 [04:08<13:43:58, 49.69s/it]"
          ]
        },
        {
          "name": "stdout",
          "output_type": "stream",
          "text": [
            "\n",
            "🔥 Vue n°6\n",
            "📺 Ouverture de https://www.youtube.com/watch?v=FyznRjoS8pM\n",
            "📜 JS 'Lire la suite' cliqué\n",
            "🛡️ JS 'Tout refuser' cliqué\n",
            "⏳ Pas de pub à skipper\n",
            "▶️ Lecture manuelle déclenchée\n",
            "⌛ Visionnage : 15s\n",
            "✅ Vue simulée\n"
          ]
        },
        {
          "name": "stderr",
          "output_type": "stream",
          "text": [
            "📊 Progression:   1%|▏                      | 6/1000 [04:58<13:47:12, 49.93s/it]"
          ]
        },
        {
          "name": "stdout",
          "output_type": "stream",
          "text": [
            "\n",
            "🔥 Vue n°7\n",
            "📺 Ouverture de https://www.youtube.com/watch?v=FyznRjoS8pM\n",
            "📜 JS 'Lire la suite' cliqué\n",
            "🛡️ JS 'Tout refuser' cliqué\n",
            "⏳ Pas de pub à skipper\n",
            "▶️ Lecture manuelle déclenchée\n",
            "⌛ Visionnage : 17s\n",
            "✅ Vue simulée\n"
          ]
        },
        {
          "name": "stderr",
          "output_type": "stream",
          "text": [
            "📊 Progression:   1%|▏                      | 7/1000 [05:48<13:45:39, 49.89s/it]"
          ]
        },
        {
          "name": "stdout",
          "output_type": "stream",
          "text": [
            "\n",
            "🔥 Vue n°8\n",
            "📺 Ouverture de https://www.youtube.com/watch?v=FyznRjoS8pM\n",
            "📜 JS 'Lire la suite' cliqué\n",
            "🛡️ JS 'Tout refuser' cliqué\n",
            "⏳ Pas de pub à skipper\n",
            "▶️ Lecture manuelle déclenchée\n",
            "⌛ Visionnage : 15s\n",
            "✅ Vue simulée\n"
          ]
        },
        {
          "name": "stderr",
          "output_type": "stream",
          "text": [
            "📊 Progression:   1%|▏                      | 8/1000 [06:38<13:49:13, 50.15s/it]"
          ]
        },
        {
          "name": "stdout",
          "output_type": "stream",
          "text": [
            "\n",
            "🔥 Vue n°9\n",
            "📺 Ouverture de https://www.youtube.com/watch?v=FyznRjoS8pM\n",
            "📜 JS 'Lire la suite' cliqué\n",
            "🛡️ JS 'Tout refuser' cliqué\n",
            "⏳ Pas de pub à skipper\n",
            "▶️ Lecture manuelle déclenchée\n",
            "⌛ Visionnage : 16s\n",
            "✅ Vue simulée\n"
          ]
        },
        {
          "name": "stderr",
          "output_type": "stream",
          "text": [
            "📊 Progression:   1%|▏                      | 9/1000 [07:32<14:03:13, 51.05s/it]"
          ]
        },
        {
          "name": "stdout",
          "output_type": "stream",
          "text": [
            "\n",
            "🔥 Vue n°10\n",
            "📺 Ouverture de https://www.youtube.com/watch?v=FyznRjoS8pM\n",
            "📜 JS 'Lire la suite' cliqué\n",
            "🛡️ JS 'Tout refuser' cliqué\n",
            "⏳ Pas de pub à skipper\n",
            "▶️ Lecture manuelle déclenchée\n",
            "⌛ Visionnage : 15s\n",
            "✅ Vue simulée\n"
          ]
        },
        {
          "name": "stderr",
          "output_type": "stream",
          "text": [
            "📊 Progression:   1%|▏                     | 10/1000 [08:20<13:50:50, 50.35s/it]"
          ]
        },
        {
          "name": "stdout",
          "output_type": "stream",
          "text": [
            "\n",
            "🔥 Vue n°11\n",
            "📺 Ouverture de https://www.youtube.com/watch?v=FyznRjoS8pM\n",
            "📜 JS 'Lire la suite' cliqué\n",
            "🛡️ JS 'Tout refuser' cliqué\n",
            "⏳ Pas de pub à skipper\n",
            "▶️ Lecture manuelle déclenchée\n",
            "⌛ Visionnage : 16s\n",
            "✅ Vue simulée\n"
          ]
        },
        {
          "name": "stderr",
          "output_type": "stream",
          "text": [
            "📊 Progression:   1%|▏                     | 11/1000 [09:12<13:56:40, 50.76s/it]"
          ]
        },
        {
          "name": "stdout",
          "output_type": "stream",
          "text": [
            "\n",
            "🔥 Vue n°12\n",
            "📺 Ouverture de https://www.youtube.com/watch?v=FyznRjoS8pM\n",
            "📜 JS 'Lire la suite' cliqué\n",
            "🛡️ JS 'Tout refuser' cliqué\n",
            "⏳ Pas de pub à skipper\n",
            "▶️ Lecture manuelle déclenchée\n",
            "⌛ Visionnage : 17s\n",
            "✅ Vue simulée\n"
          ]
        },
        {
          "name": "stderr",
          "output_type": "stream",
          "text": [
            "📊 Progression:   1%|▎                     | 12/1000 [10:00<13:41:04, 49.86s/it]"
          ]
        },
        {
          "name": "stdout",
          "output_type": "stream",
          "text": [
            "\n",
            "🔥 Vue n°13\n",
            "📺 Ouverture de https://www.youtube.com/watch?v=FyznRjoS8pM\n",
            "📜 JS 'Lire la suite' cliqué\n",
            "🛡️ JS 'Tout refuser' cliqué\n",
            "⏳ Pas de pub à skipper\n",
            "▶️ Lecture manuelle déclenchée\n",
            "⌛ Visionnage : 15s\n",
            "✅ Vue simulée\n"
          ]
        },
        {
          "name": "stderr",
          "output_type": "stream",
          "text": [
            "📊 Progression:   1%|▎                     | 13/1000 [10:46<13:20:44, 48.68s/it]"
          ]
        },
        {
          "name": "stdout",
          "output_type": "stream",
          "text": [
            "\n",
            "🔥 Vue n°14\n",
            "📺 Ouverture de https://www.youtube.com/watch?v=FyznRjoS8pM\n",
            "📜 JS 'Lire la suite' cliqué\n",
            "🛡️ JS 'Tout refuser' cliqué\n",
            "⏳ Pas de pub à skipper\n",
            "▶️ Lecture manuelle déclenchée\n",
            "⌛ Visionnage : 16s\n",
            "✅ Vue simulée\n"
          ]
        },
        {
          "name": "stderr",
          "output_type": "stream",
          "text": [
            "📊 Progression:   1%|▎                     | 14/1000 [11:35<13:23:00, 48.86s/it]"
          ]
        },
        {
          "name": "stdout",
          "output_type": "stream",
          "text": [
            "\n",
            "🔥 Vue n°15\n",
            "📺 Ouverture de https://www.youtube.com/watch?v=FyznRjoS8pM\n",
            "📜 JS 'Lire la suite' cliqué\n",
            "🛡️ JS 'Tout refuser' cliqué\n",
            "⏳ Pas de pub à skipper\n",
            "▶️ Lecture manuelle déclenchée\n",
            "⌛ Visionnage : 16s\n",
            "✅ Vue simulée\n"
          ]
        },
        {
          "name": "stderr",
          "output_type": "stream",
          "text": [
            "📊 Progression:   2%|▎                     | 15/1000 [12:20<13:05:20, 47.84s/it]"
          ]
        },
        {
          "name": "stdout",
          "output_type": "stream",
          "text": [
            "\n",
            "🔥 Vue n°16\n",
            "📺 Ouverture de https://www.youtube.com/watch?v=FyznRjoS8pM\n",
            "📜 JS 'Lire la suite' cliqué\n",
            "🛡️ JS 'Tout refuser' cliqué\n",
            "⏳ Pas de pub à skipper\n",
            "▶️ Lecture manuelle déclenchée\n",
            "⌛ Visionnage : 17s\n",
            "✅ Vue simulée\n"
          ]
        },
        {
          "name": "stderr",
          "output_type": "stream",
          "text": [
            "📊 Progression:   2%|▎                     | 16/1000 [13:11<13:16:24, 48.56s/it]"
          ]
        },
        {
          "name": "stdout",
          "output_type": "stream",
          "text": [
            "\n",
            "🔥 Vue n°17\n",
            "📺 Ouverture de https://www.youtube.com/watch?v=FyznRjoS8pM\n",
            "📜 JS 'Lire la suite' cliqué\n",
            "🛡️ JS 'Tout refuser' cliqué\n",
            "⏳ Pas de pub à skipper\n",
            "▶️ Lecture manuelle déclenchée\n",
            "⌛ Visionnage : 16s\n",
            "✅ Vue simulée\n"
          ]
        },
        {
          "name": "stderr",
          "output_type": "stream",
          "text": [
            "📊 Progression:   2%|▎                     | 17/1000 [13:59<13:16:12, 48.60s/it]"
          ]
        },
        {
          "name": "stdout",
          "output_type": "stream",
          "text": [
            "\n",
            "🔥 Vue n°18\n",
            "📺 Ouverture de https://www.youtube.com/watch?v=FyznRjoS8pM\n",
            "📜 JS 'Lire la suite' cliqué\n",
            "🛡️ JS 'Tout refuser' cliqué\n",
            "⏳ Pas de pub à skipper\n",
            "▶️ Lecture manuelle déclenchée\n",
            "⌛ Visionnage : 15s\n",
            "✅ Vue simulée\n"
          ]
        },
        {
          "name": "stderr",
          "output_type": "stream",
          "text": [
            "📊 Progression:   2%|▍                     | 18/1000 [14:50<13:23:30, 49.09s/it]"
          ]
        },
        {
          "name": "stdout",
          "output_type": "stream",
          "text": [
            "\n",
            "🔥 Vue n°19\n",
            "📺 Ouverture de https://www.youtube.com/watch?v=FyznRjoS8pM\n",
            "📜 JS 'Lire la suite' cliqué\n",
            "🛡️ JS 'Tout refuser' cliqué\n",
            "⏳ Pas de pub à skipper\n",
            "▶️ Lecture manuelle déclenchée\n",
            "⌛ Visionnage : 15s\n",
            "✅ Vue simulée\n"
          ]
        },
        {
          "name": "stderr",
          "output_type": "stream",
          "text": [
            "📊 Progression:   2%|▍                     | 19/1000 [15:38<13:19:21, 48.89s/it]"
          ]
        },
        {
          "name": "stdout",
          "output_type": "stream",
          "text": [
            "\n",
            "🔥 Vue n°20\n",
            "📺 Ouverture de https://www.youtube.com/watch?v=FyznRjoS8pM\n",
            "📜 JS 'Lire la suite' cliqué\n",
            "🛡️ JS 'Tout refuser' cliqué\n",
            "⏳ Pas de pub à skipper\n",
            "▶️ Lecture manuelle déclenchée\n",
            "⌛ Visionnage : 16s\n",
            "✅ Vue simulée\n"
          ]
        },
        {
          "name": "stderr",
          "output_type": "stream",
          "text": [
            "📊 Progression:   2%|▍                     | 20/1000 [16:31<13:39:42, 50.19s/it]"
          ]
        },
        {
          "name": "stdout",
          "output_type": "stream",
          "text": [
            "\n",
            "🔥 Vue n°21\n",
            "📺 Ouverture de https://www.youtube.com/watch?v=FyznRjoS8pM\n",
            "📜 JS 'Lire la suite' cliqué\n",
            "🛡️ JS 'Tout refuser' cliqué\n",
            "⏳ Pas de pub à skipper\n",
            "▶️ Lecture manuelle déclenchée\n",
            "⌛ Visionnage : 16s\n",
            "✅ Vue simulée\n"
          ]
        },
        {
          "name": "stderr",
          "output_type": "stream",
          "text": [
            "📊 Progression:   2%|▍                     | 21/1000 [17:28<14:09:09, 52.04s/it]"
          ]
        },
        {
          "name": "stdout",
          "output_type": "stream",
          "text": [
            "\n",
            "🔥 Vue n°22\n",
            "📺 Ouverture de https://www.youtube.com/watch?v=FyznRjoS8pM\n",
            "📜 JS 'Lire la suite' cliqué\n",
            "🛡️ JS 'Tout refuser' cliqué\n",
            "⏳ Pas de pub à skipper\n",
            "▶️ Lecture manuelle déclenchée\n",
            "⌛ Visionnage : 17s\n",
            "✅ Vue simulée\n"
          ]
        },
        {
          "name": "stderr",
          "output_type": "stream",
          "text": [
            "📊 Progression:   2%|▍                     | 22/1000 [18:27<14:44:35, 54.27s/it]"
          ]
        },
        {
          "name": "stdout",
          "output_type": "stream",
          "text": [
            "\n",
            "🔥 Vue n°23\n",
            "📺 Ouverture de https://www.youtube.com/watch?v=FyznRjoS8pM\n",
            "📜 JS 'Lire la suite' cliqué\n",
            "🛡️ JS 'Tout refuser' cliqué\n",
            "⏳ Pas de pub à skipper\n",
            "▶️ Lecture manuelle déclenchée\n",
            "⌛ Visionnage : 15s\n",
            "✅ Vue simulée\n"
          ]
        },
        {
          "name": "stderr",
          "output_type": "stream",
          "text": [
            "📊 Progression:   2%|▌                     | 23/1000 [19:20<14:35:25, 53.76s/it]"
          ]
        },
        {
          "name": "stdout",
          "output_type": "stream",
          "text": [
            "\n",
            "🔥 Vue n°24\n",
            "📺 Ouverture de https://www.youtube.com/watch?v=FyznRjoS8pM\n",
            "📜 JS 'Lire la suite' cliqué\n",
            "🛡️ JS 'Tout refuser' cliqué\n",
            "⏳ Pas de pub à skipper\n",
            "▶️ Lecture manuelle déclenchée\n",
            "⌛ Visionnage : 17s\n",
            "✅ Vue simulée\n"
          ]
        },
        {
          "name": "stderr",
          "output_type": "stream",
          "text": [
            "📊 Progression:   2%|▌                     | 24/1000 [20:14<14:37:17, 53.93s/it]"
          ]
        },
        {
          "name": "stdout",
          "output_type": "stream",
          "text": [
            "\n",
            "🔥 Vue n°25\n",
            "📺 Ouverture de https://www.youtube.com/watch?v=FyznRjoS8pM\n",
            "📜 JS 'Lire la suite' cliqué\n",
            "🛡️ JS 'Tout refuser' cliqué\n",
            "⏳ Pas de pub à skipper\n",
            "▶️ Lecture manuelle déclenchée\n",
            "⌛ Visionnage : 15s\n",
            "✅ Vue simulée\n"
          ]
        },
        {
          "name": "stderr",
          "output_type": "stream",
          "text": [
            "📊 Progression:   2%|▌                     | 25/1000 [21:04<14:15:45, 52.66s/it]"
          ]
        },
        {
          "name": "stdout",
          "output_type": "stream",
          "text": [
            "\n",
            "🔥 Vue n°26\n",
            "📺 Ouverture de https://www.youtube.com/watch?v=FyznRjoS8pM\n",
            "📜 JS 'Lire la suite' cliqué\n",
            "🛡️ JS 'Tout refuser' cliqué\n",
            "⏳ Pas de pub à skipper\n",
            "▶️ Lecture manuelle déclenchée\n",
            "⌛ Visionnage : 15s\n",
            "✅ Vue simulée\n"
          ]
        },
        {
          "name": "stderr",
          "output_type": "stream",
          "text": [
            "📊 Progression:   3%|▌                     | 26/1000 [21:48<13:35:06, 50.21s/it]"
          ]
        },
        {
          "name": "stdout",
          "output_type": "stream",
          "text": [
            "\n",
            "🔥 Vue n°27\n",
            "📺 Ouverture de https://www.youtube.com/watch?v=FyznRjoS8pM\n",
            "📜 JS 'Lire la suite' cliqué\n",
            "🛡️ JS 'Tout refuser' cliqué\n",
            "⏳ Pas de pub à skipper\n",
            "▶️ Lecture manuelle déclenchée\n",
            "⌛ Visionnage : 16s\n",
            "✅ Vue simulée\n"
          ]
        },
        {
          "name": "stderr",
          "output_type": "stream",
          "text": [
            "📊 Progression:   3%|▌                     | 27/1000 [22:37<13:28:51, 49.88s/it]"
          ]
        },
        {
          "name": "stdout",
          "output_type": "stream",
          "text": [
            "\n",
            "🔥 Vue n°28\n",
            "📺 Ouverture de https://www.youtube.com/watch?v=FyznRjoS8pM\n",
            "📜 JS 'Lire la suite' cliqué\n",
            "🛡️ JS 'Tout refuser' cliqué\n",
            "⏳ Pas de pub à skipper\n",
            "▶️ Lecture manuelle déclenchée\n",
            "⌛ Visionnage : 16s\n",
            "✅ Vue simulée\n"
          ]
        },
        {
          "name": "stderr",
          "output_type": "stream",
          "text": [
            "📊 Progression:   3%|▌                     | 28/1000 [23:27<13:25:39, 49.73s/it]"
          ]
        },
        {
          "name": "stdout",
          "output_type": "stream",
          "text": [
            "\n",
            "🔥 Vue n°29\n",
            "📺 Ouverture de https://www.youtube.com/watch?v=FyznRjoS8pM\n",
            "📜 JS 'Lire la suite' cliqué\n",
            "🛡️ JS 'Tout refuser' cliqué\n",
            "⏳ Pas de pub à skipper\n",
            "▶️ Lecture manuelle déclenchée\n",
            "⌛ Visionnage : 16s\n",
            "✅ Vue simulée\n"
          ]
        },
        {
          "name": "stderr",
          "output_type": "stream",
          "text": [
            "📊 Progression:   3%|▋                     | 29/1000 [24:19<13:37:26, 50.51s/it]"
          ]
        },
        {
          "name": "stdout",
          "output_type": "stream",
          "text": [
            "\n",
            "🔥 Vue n°30\n",
            "📺 Ouverture de https://www.youtube.com/watch?v=FyznRjoS8pM\n",
            "📜 JS 'Lire la suite' cliqué\n",
            "🛡️ JS 'Tout refuser' cliqué\n",
            "⏳ Pas de pub à skipper\n",
            "▶️ Lecture manuelle déclenchée\n",
            "⌛ Visionnage : 15s\n",
            "✅ Vue simulée\n"
          ]
        },
        {
          "name": "stderr",
          "output_type": "stream",
          "text": [
            "📊 Progression:   3%|▋                     | 30/1000 [25:11<13:45:11, 51.04s/it]"
          ]
        },
        {
          "name": "stdout",
          "output_type": "stream",
          "text": [
            "\n",
            "🔥 Vue n°31\n",
            "📺 Ouverture de https://www.youtube.com/watch?v=FyznRjoS8pM\n",
            "📜 JS 'Lire la suite' cliqué\n",
            "🛡️ JS 'Tout refuser' cliqué\n",
            "⏳ Pas de pub à skipper\n",
            "▶️ Lecture manuelle déclenchée\n",
            "⌛ Visionnage : 15s\n",
            "✅ Vue simulée\n"
          ]
        },
        {
          "name": "stderr",
          "output_type": "stream",
          "text": [
            "📊 Progression:   3%|▋                     | 31/1000 [25:59<13:30:16, 50.17s/it]"
          ]
        },
        {
          "name": "stdout",
          "output_type": "stream",
          "text": [
            "\n",
            "🔥 Vue n°32\n",
            "📺 Ouverture de https://www.youtube.com/watch?v=FyznRjoS8pM\n",
            "📜 JS 'Lire la suite' cliqué\n",
            "🛡️ JS 'Tout refuser' cliqué\n",
            "⏳ Pas de pub à skipper\n",
            "▶️ Lecture manuelle déclenchée\n",
            "⌛ Visionnage : 16s\n",
            "✅ Vue simulée\n"
          ]
        },
        {
          "name": "stderr",
          "output_type": "stream",
          "text": [
            "📊 Progression:   3%|▋                     | 32/1000 [26:52<13:42:32, 50.98s/it]"
          ]
        },
        {
          "name": "stdout",
          "output_type": "stream",
          "text": [
            "\n",
            "🔥 Vue n°33\n",
            "📺 Ouverture de https://www.youtube.com/watch?v=FyznRjoS8pM\n",
            "📜 JS 'Lire la suite' cliqué\n",
            "🛡️ JS 'Tout refuser' cliqué\n",
            "⏳ Pas de pub à skipper\n",
            "▶️ Lecture manuelle déclenchée\n",
            "⌛ Visionnage : 16s\n",
            "✅ Vue simulée\n"
          ]
        },
        {
          "name": "stderr",
          "output_type": "stream",
          "text": [
            "📊 Progression:   3%|▋                     | 33/1000 [27:37<13:09:47, 49.00s/it]"
          ]
        },
        {
          "name": "stdout",
          "output_type": "stream",
          "text": [
            "\n",
            "🔥 Vue n°34\n",
            "📺 Ouverture de https://www.youtube.com/watch?v=FyznRjoS8pM\n",
            "📜 JS 'Lire la suite' cliqué\n",
            "🛡️ JS 'Tout refuser' cliqué\n",
            "⏳ Pas de pub à skipper\n",
            "▶️ Lecture manuelle déclenchée\n",
            "⌛ Visionnage : 17s\n",
            "✅ Vue simulée\n"
          ]
        },
        {
          "name": "stderr",
          "output_type": "stream",
          "text": [
            "📊 Progression:   3%|▋                     | 34/1000 [28:32<13:37:59, 50.81s/it]"
          ]
        },
        {
          "name": "stdout",
          "output_type": "stream",
          "text": [
            "\n",
            "🔥 Vue n°35\n",
            "📺 Ouverture de https://www.youtube.com/watch?v=FyznRjoS8pM\n",
            "📜 JS 'Lire la suite' cliqué\n",
            "🛡️ JS 'Tout refuser' cliqué\n",
            "⏳ Pas de pub à skipper\n",
            "▶️ Lecture manuelle déclenchée\n",
            "⌛ Visionnage : 16s\n",
            "✅ Vue simulée\n"
          ]
        },
        {
          "name": "stderr",
          "output_type": "stream",
          "text": [
            "📊 Progression:   4%|▊                     | 35/1000 [29:20<13:26:06, 50.12s/it]"
          ]
        },
        {
          "name": "stdout",
          "output_type": "stream",
          "text": [
            "\n",
            "🔥 Vue n°36\n",
            "📺 Ouverture de https://www.youtube.com/watch?v=FyznRjoS8pM\n",
            "📜 JS 'Lire la suite' cliqué\n",
            "🛡️ JS 'Tout refuser' cliqué\n",
            "⏳ Pas de pub à skipper\n",
            "▶️ Lecture manuelle déclenchée\n",
            "⌛ Visionnage : 17s\n",
            "✅ Vue simulée\n"
          ]
        },
        {
          "name": "stderr",
          "output_type": "stream",
          "text": [
            "📊 Progression:   4%|▊                     | 36/1000 [30:10<13:25:10, 50.11s/it]"
          ]
        },
        {
          "name": "stdout",
          "output_type": "stream",
          "text": [
            "\n",
            "🔥 Vue n°37\n",
            "📺 Ouverture de https://www.youtube.com/watch?v=FyznRjoS8pM\n",
            "📜 JS 'Lire la suite' cliqué\n",
            "🛡️ JS 'Tout refuser' cliqué\n",
            "⏳ Pas de pub à skipper\n",
            "▶️ Lecture manuelle déclenchée\n",
            "⌛ Visionnage : 16s\n",
            "✅ Vue simulée\n"
          ]
        },
        {
          "name": "stderr",
          "output_type": "stream",
          "text": [
            "📊 Progression:   4%|▊                     | 37/1000 [30:58<13:10:24, 49.25s/it]"
          ]
        },
        {
          "name": "stdout",
          "output_type": "stream",
          "text": [
            "\n",
            "🔥 Vue n°38\n",
            "📺 Ouverture de https://www.youtube.com/watch?v=FyznRjoS8pM\n",
            "📜 JS 'Lire la suite' cliqué\n",
            "🛡️ JS 'Tout refuser' cliqué\n",
            "⏳ Pas de pub à skipper\n",
            "▶️ Lecture manuelle déclenchée\n",
            "⌛ Visionnage : 16s\n",
            "✅ Vue simulée\n"
          ]
        },
        {
          "name": "stderr",
          "output_type": "stream",
          "text": [
            "📊 Progression:   4%|▊                     | 38/1000 [31:47<13:12:16, 49.41s/it]"
          ]
        },
        {
          "name": "stdout",
          "output_type": "stream",
          "text": [
            "\n",
            "🔥 Vue n°39\n",
            "📺 Ouverture de https://www.youtube.com/watch?v=FyznRjoS8pM\n",
            "📜 JS 'Lire la suite' cliqué\n",
            "🛡️ JS 'Tout refuser' cliqué\n",
            "⏳ Pas de pub à skipper\n",
            "▶️ Lecture manuelle déclenchée\n",
            "⌛ Visionnage : 16s\n",
            "✅ Vue simulée\n"
          ]
        },
        {
          "name": "stderr",
          "output_type": "stream",
          "text": [
            "📊 Progression:   4%|▊                     | 39/1000 [32:39<13:21:46, 50.06s/it]"
          ]
        },
        {
          "name": "stdout",
          "output_type": "stream",
          "text": [
            "\n",
            "🔥 Vue n°40\n",
            "📺 Ouverture de https://www.youtube.com/watch?v=FyznRjoS8pM\n",
            "📜 JS 'Lire la suite' cliqué\n",
            "🛡️ JS 'Tout refuser' cliqué\n",
            "⏳ Pas de pub à skipper\n",
            "▶️ Lecture manuelle déclenchée\n",
            "⌛ Visionnage : 16s\n",
            "✅ Vue simulée\n"
          ]
        },
        {
          "name": "stderr",
          "output_type": "stream",
          "text": [
            "📊 Progression:   4%|▉                     | 40/1000 [33:28<13:15:37, 49.73s/it]"
          ]
        },
        {
          "name": "stdout",
          "output_type": "stream",
          "text": [
            "\n",
            "🔥 Vue n°41\n",
            "📺 Ouverture de https://www.youtube.com/watch?v=FyznRjoS8pM\n",
            "📜 JS 'Lire la suite' cliqué\n",
            "🛡️ JS 'Tout refuser' cliqué\n",
            "⏳ Pas de pub à skipper\n",
            "⏯️ Vidéo déjà en lecture ou bouton non détecté\n",
            "⌛ Visionnage : 16s\n",
            "✅ Vue simulée\n"
          ]
        },
        {
          "name": "stderr",
          "output_type": "stream",
          "text": [
            "📊 Progression:   4%|▉                     | 41/1000 [34:14<12:57:41, 48.66s/it]"
          ]
        },
        {
          "name": "stdout",
          "output_type": "stream",
          "text": [
            "\n",
            "🔥 Vue n°42\n",
            "📺 Ouverture de https://www.youtube.com/watch?v=FyznRjoS8pM\n",
            "📜 JS 'Lire la suite' cliqué\n",
            "🛡️ JS 'Tout refuser' cliqué\n",
            "⏳ Pas de pub à skipper\n",
            "▶️ Lecture manuelle déclenchée\n",
            "⌛ Visionnage : 15s\n",
            "✅ Vue simulée\n"
          ]
        },
        {
          "name": "stderr",
          "output_type": "stream",
          "text": [
            "📊 Progression:   4%|▉                     | 42/1000 [35:00<12:45:57, 47.97s/it]"
          ]
        },
        {
          "name": "stdout",
          "output_type": "stream",
          "text": [
            "\n",
            "🔥 Vue n°43\n",
            "📺 Ouverture de https://www.youtube.com/watch?v=FyznRjoS8pM\n",
            "📜 JS 'Lire la suite' cliqué\n",
            "🛡️ JS 'Tout refuser' cliqué\n",
            "⏳ Pas de pub à skipper\n",
            "▶️ Lecture manuelle déclenchée\n",
            "⌛ Visionnage : 17s\n",
            "✅ Vue simulée\n"
          ]
        },
        {
          "name": "stderr",
          "output_type": "stream",
          "text": [
            "📊 Progression:   4%|▉                     | 43/1000 [35:48<12:45:15, 47.98s/it]"
          ]
        },
        {
          "name": "stdout",
          "output_type": "stream",
          "text": [
            "\n",
            "🔥 Vue n°44\n",
            "📺 Ouverture de https://www.youtube.com/watch?v=FyznRjoS8pM\n",
            "📜 JS 'Lire la suite' cliqué\n",
            "🛡️ JS 'Tout refuser' cliqué\n",
            "⏳ Pas de pub à skipper\n",
            "⏯️ Vidéo déjà en lecture ou bouton non détecté\n",
            "⌛ Visionnage : 17s\n",
            "✅ Vue simulée\n"
          ]
        },
        {
          "name": "stderr",
          "output_type": "stream",
          "text": [
            "📊 Progression:   4%|▉                     | 44/1000 [36:32<12:25:45, 46.80s/it]"
          ]
        },
        {
          "name": "stdout",
          "output_type": "stream",
          "text": [
            "\n",
            "🔥 Vue n°45\n",
            "📺 Ouverture de https://www.youtube.com/watch?v=FyznRjoS8pM\n",
            "📜 JS 'Lire la suite' cliqué\n",
            "🛡️ JS 'Tout refuser' cliqué\n",
            "⏳ Pas de pub à skipper\n",
            "▶️ Lecture manuelle déclenchée\n",
            "⌛ Visionnage : 16s\n",
            "✅ Vue simulée\n"
          ]
        },
        {
          "name": "stderr",
          "output_type": "stream",
          "text": [
            "📊 Progression:   4%|▉                     | 45/1000 [37:27<12:59:44, 48.99s/it]"
          ]
        },
        {
          "name": "stdout",
          "output_type": "stream",
          "text": [
            "\n",
            "🔥 Vue n°46\n",
            "📺 Ouverture de https://www.youtube.com/watch?v=FyznRjoS8pM\n",
            "📜 JS 'Lire la suite' cliqué\n",
            "🛡️ JS 'Tout refuser' cliqué\n",
            "⏳ Pas de pub à skipper\n",
            "▶️ Lecture manuelle déclenchée\n",
            "⌛ Visionnage : 15s\n",
            "✅ Vue simulée\n"
          ]
        },
        {
          "name": "stderr",
          "output_type": "stream",
          "text": [
            "📊 Progression:   5%|█                     | 46/1000 [38:13<12:44:34, 48.09s/it]"
          ]
        },
        {
          "name": "stdout",
          "output_type": "stream",
          "text": [
            "\n",
            "🔥 Vue n°47\n",
            "📺 Ouverture de https://www.youtube.com/watch?v=FyznRjoS8pM\n",
            "📜 JS 'Lire la suite' cliqué\n",
            "🛡️ JS 'Tout refuser' cliqué\n",
            "⏳ Pas de pub à skipper\n",
            "▶️ Lecture manuelle déclenchée\n",
            "⌛ Visionnage : 15s\n",
            "✅ Vue simulée\n"
          ]
        },
        {
          "name": "stderr",
          "output_type": "stream",
          "text": [
            "📊 Progression:   5%|█                     | 47/1000 [39:00<12:38:48, 47.77s/it]"
          ]
        },
        {
          "name": "stdout",
          "output_type": "stream",
          "text": [
            "\n",
            "🔥 Vue n°48\n",
            "📺 Ouverture de https://www.youtube.com/watch?v=FyznRjoS8pM\n",
            "📜 JS 'Lire la suite' cliqué\n",
            "🛡️ JS 'Tout refuser' cliqué\n",
            "⏳ Pas de pub à skipper\n",
            "▶️ Lecture manuelle déclenchée\n",
            "⌛ Visionnage : 16s\n",
            "✅ Vue simulée\n"
          ]
        },
        {
          "name": "stderr",
          "output_type": "stream",
          "text": [
            "📊 Progression:   5%|█                     | 48/1000 [39:49<12:47:31, 48.37s/it]"
          ]
        },
        {
          "name": "stdout",
          "output_type": "stream",
          "text": [
            "\n",
            "🔥 Vue n°49\n",
            "📺 Ouverture de https://www.youtube.com/watch?v=FyznRjoS8pM\n",
            "📜 JS 'Lire la suite' cliqué\n",
            "🛡️ JS 'Tout refuser' cliqué\n",
            "⏳ Pas de pub à skipper\n",
            "▶️ Lecture manuelle déclenchée\n",
            "⌛ Visionnage : 17s\n",
            "✅ Vue simulée\n"
          ]
        },
        {
          "name": "stderr",
          "output_type": "stream",
          "text": [
            "📊 Progression:   5%|█                     | 49/1000 [40:41<12:59:58, 49.21s/it]"
          ]
        },
        {
          "name": "stdout",
          "output_type": "stream",
          "text": [
            "\n",
            "🔥 Vue n°50\n",
            "📺 Ouverture de https://www.youtube.com/watch?v=FyznRjoS8pM\n",
            "📜 JS 'Lire la suite' cliqué\n",
            "🛡️ JS 'Tout refuser' cliqué\n",
            "⏳ Pas de pub à skipper\n",
            "▶️ Lecture manuelle déclenchée\n",
            "⌛ Visionnage : 17s\n",
            "✅ Vue simulée\n"
          ]
        },
        {
          "name": "stderr",
          "output_type": "stream",
          "text": [
            "📊 Progression:   5%|█                     | 50/1000 [41:31<13:07:09, 49.72s/it]"
          ]
        },
        {
          "name": "stdout",
          "output_type": "stream",
          "text": [
            "\n",
            "🔥 Vue n°51\n",
            "📺 Ouverture de https://www.youtube.com/watch?v=FyznRjoS8pM\n",
            "📜 JS 'Lire la suite' cliqué\n",
            "🛡️ JS 'Tout refuser' cliqué\n",
            "⏳ Pas de pub à skipper\n",
            "▶️ Lecture manuelle déclenchée\n",
            "⌛ Visionnage : 15s\n",
            "✅ Vue simulée\n"
          ]
        },
        {
          "name": "stderr",
          "output_type": "stream",
          "text": [
            "📊 Progression:   5%|█                     | 51/1000 [42:23<13:14:44, 50.25s/it]"
          ]
        },
        {
          "name": "stdout",
          "output_type": "stream",
          "text": [
            "\n",
            "🔥 Vue n°52\n",
            "📺 Ouverture de https://www.youtube.com/watch?v=FyznRjoS8pM\n",
            "📜 JS 'Lire la suite' cliqué\n",
            "🛡️ JS 'Tout refuser' cliqué\n",
            "⏳ Pas de pub à skipper\n",
            "▶️ Lecture manuelle déclenchée\n",
            "⌛ Visionnage : 15s\n",
            "✅ Vue simulée\n"
          ]
        },
        {
          "name": "stderr",
          "output_type": "stream",
          "text": [
            "📊 Progression:   5%|█▏                    | 52/1000 [43:11<13:04:40, 49.66s/it]"
          ]
        },
        {
          "name": "stdout",
          "output_type": "stream",
          "text": [
            "\n",
            "🔥 Vue n°53\n",
            "📺 Ouverture de https://www.youtube.com/watch?v=FyznRjoS8pM\n",
            "📜 JS 'Lire la suite' cliqué\n",
            "🛡️ JS 'Tout refuser' cliqué\n",
            "⏳ Pas de pub à skipper\n",
            "▶️ Lecture manuelle déclenchée\n",
            "⌛ Visionnage : 16s\n",
            "✅ Vue simulée\n"
          ]
        },
        {
          "name": "stderr",
          "output_type": "stream",
          "text": [
            "📊 Progression:   5%|█▏                    | 53/1000 [44:00<12:58:46, 49.34s/it]"
          ]
        },
        {
          "name": "stdout",
          "output_type": "stream",
          "text": [
            "\n",
            "🔥 Vue n°54\n",
            "📺 Ouverture de https://www.youtube.com/watch?v=FyznRjoS8pM\n",
            "📜 JS 'Lire la suite' cliqué\n",
            "🛡️ JS 'Tout refuser' cliqué\n",
            "⏳ Pas de pub à skipper\n",
            "▶️ Lecture manuelle déclenchée\n",
            "⌛ Visionnage : 15s\n",
            "✅ Vue simulée\n"
          ]
        },
        {
          "name": "stderr",
          "output_type": "stream",
          "text": [
            "📊 Progression:   5%|█▏                    | 54/1000 [44:49<12:56:13, 49.23s/it]"
          ]
        },
        {
          "name": "stdout",
          "output_type": "stream",
          "text": [
            "\n",
            "🔥 Vue n°55\n",
            "📺 Ouverture de https://www.youtube.com/watch?v=FyznRjoS8pM\n",
            "📜 JS 'Lire la suite' cliqué\n",
            "🛡️ JS 'Tout refuser' cliqué\n",
            "⏳ Pas de pub à skipper\n",
            "▶️ Lecture manuelle déclenchée\n",
            "⌛ Visionnage : 17s\n",
            "✅ Vue simulée\n"
          ]
        },
        {
          "name": "stderr",
          "output_type": "stream",
          "text": [
            "📊 Progression:   6%|█▏                    | 55/1000 [45:38<12:57:34, 49.37s/it]"
          ]
        },
        {
          "name": "stdout",
          "output_type": "stream",
          "text": [
            "\n",
            "🔥 Vue n°56\n",
            "📺 Ouverture de https://www.youtube.com/watch?v=FyznRjoS8pM\n",
            "📜 JS 'Lire la suite' cliqué\n",
            "🛡️ JS 'Tout refuser' cliqué\n",
            "⏳ Pas de pub à skipper\n",
            "▶️ Lecture manuelle déclenchée\n",
            "⌛ Visionnage : 15s\n",
            "✅ Vue simulée\n"
          ]
        },
        {
          "name": "stderr",
          "output_type": "stream",
          "text": [
            "📊 Progression:   6%|█▏                    | 56/1000 [46:26<12:46:32, 48.72s/it]"
          ]
        },
        {
          "name": "stdout",
          "output_type": "stream",
          "text": [
            "\n",
            "🔥 Vue n°57\n",
            "📺 Ouverture de https://www.youtube.com/watch?v=FyznRjoS8pM\n",
            "📜 JS 'Lire la suite' cliqué\n",
            "🛡️ JS 'Tout refuser' cliqué\n",
            "⏳ Pas de pub à skipper\n",
            "⏯️ Vidéo déjà en lecture ou bouton non détecté\n",
            "⌛ Visionnage : 15s\n",
            "✅ Vue simulée\n"
          ]
        },
        {
          "name": "stderr",
          "output_type": "stream",
          "text": [
            "📊 Progression:   6%|█▎                    | 57/1000 [47:09<12:21:38, 47.19s/it]"
          ]
        },
        {
          "name": "stdout",
          "output_type": "stream",
          "text": [
            "\n",
            "🔥 Vue n°58\n",
            "📺 Ouverture de https://www.youtube.com/watch?v=FyznRjoS8pM\n",
            "📜 JS 'Lire la suite' cliqué\n",
            "🛡️ JS 'Tout refuser' cliqué\n",
            "⏳ Pas de pub à skipper\n",
            "▶️ Lecture manuelle déclenchée\n",
            "⌛ Visionnage : 16s\n",
            "✅ Vue simulée\n"
          ]
        },
        {
          "name": "stderr",
          "output_type": "stream",
          "text": [
            "📊 Progression:   6%|█▎                    | 58/1000 [47:59<12:33:45, 48.01s/it]"
          ]
        },
        {
          "name": "stdout",
          "output_type": "stream",
          "text": [
            "\n",
            "🔥 Vue n°59\n",
            "📺 Ouverture de https://www.youtube.com/watch?v=FyznRjoS8pM\n",
            "📜 JS 'Lire la suite' cliqué\n",
            "🛡️ JS 'Tout refuser' cliqué\n",
            "⏳ Pas de pub à skipper\n",
            "▶️ Lecture manuelle déclenchée\n",
            "⌛ Visionnage : 16s\n",
            "✅ Vue simulée\n"
          ]
        },
        {
          "name": "stderr",
          "output_type": "stream",
          "text": [
            "📊 Progression:   6%|█▎                    | 59/1000 [48:53<13:00:46, 49.78s/it]"
          ]
        },
        {
          "name": "stdout",
          "output_type": "stream",
          "text": [
            "\n",
            "🔥 Vue n°60\n",
            "📺 Ouverture de https://www.youtube.com/watch?v=FyznRjoS8pM\n",
            "📜 JS 'Lire la suite' cliqué\n",
            "🛡️ JS 'Tout refuser' cliqué\n",
            "⏳ Pas de pub à skipper\n",
            "▶️ Lecture manuelle déclenchée\n",
            "⌛ Visionnage : 16s\n",
            "✅ Vue simulée\n"
          ]
        },
        {
          "name": "stderr",
          "output_type": "stream",
          "text": [
            "📊 Progression:   6%|█▎                    | 60/1000 [49:37<12:32:24, 48.03s/it]"
          ]
        },
        {
          "name": "stdout",
          "output_type": "stream",
          "text": [
            "\n",
            "🔥 Vue n°61\n",
            "📺 Ouverture de https://www.youtube.com/watch?v=FyznRjoS8pM\n",
            "📜 JS 'Lire la suite' cliqué\n",
            "🛡️ JS 'Tout refuser' cliqué\n",
            "⏳ Pas de pub à skipper\n",
            "▶️ Lecture manuelle déclenchée\n",
            "⌛ Visionnage : 17s\n",
            "✅ Vue simulée\n"
          ]
        },
        {
          "name": "stderr",
          "output_type": "stream",
          "text": [
            "📊 Progression:   6%|█▎                    | 61/1000 [50:29<12:47:38, 49.05s/it]"
          ]
        },
        {
          "name": "stdout",
          "output_type": "stream",
          "text": [
            "\n",
            "🔥 Vue n°62\n",
            "📺 Ouverture de https://www.youtube.com/watch?v=FyznRjoS8pM\n",
            "📜 JS 'Lire la suite' cliqué\n",
            "🛡️ JS 'Tout refuser' cliqué\n",
            "⏳ Pas de pub à skipper\n",
            "▶️ Lecture manuelle déclenchée\n",
            "⌛ Visionnage : 16s\n",
            "✅ Vue simulée\n"
          ]
        },
        {
          "name": "stderr",
          "output_type": "stream",
          "text": [
            "📊 Progression:   6%|█▎                    | 62/1000 [51:17<12:44:10, 48.88s/it]"
          ]
        },
        {
          "name": "stdout",
          "output_type": "stream",
          "text": [
            "\n",
            "🔥 Vue n°63\n",
            "📺 Ouverture de https://www.youtube.com/watch?v=FyznRjoS8pM\n",
            "📜 JS 'Lire la suite' cliqué\n",
            "🛡️ JS 'Tout refuser' cliqué\n",
            "⏳ Pas de pub à skipper\n",
            "▶️ Lecture manuelle déclenchée\n",
            "⌛ Visionnage : 17s\n",
            "✅ Vue simulée\n"
          ]
        },
        {
          "name": "stderr",
          "output_type": "stream",
          "text": [
            "📊 Progression:   6%|█▍                    | 63/1000 [52:09<12:56:26, 49.72s/it]"
          ]
        },
        {
          "name": "stdout",
          "output_type": "stream",
          "text": [
            "\n",
            "🔥 Vue n°64\n",
            "📺 Ouverture de https://www.youtube.com/watch?v=FyznRjoS8pM\n",
            "📜 JS 'Lire la suite' cliqué\n",
            "🛡️ JS 'Tout refuser' cliqué\n",
            "⏳ Pas de pub à skipper\n",
            "▶️ Lecture manuelle déclenchée\n",
            "⌛ Visionnage : 17s\n",
            "✅ Vue simulée\n"
          ]
        },
        {
          "name": "stderr",
          "output_type": "stream",
          "text": [
            "📊 Progression:   6%|█▍                    | 64/1000 [53:01<13:07:31, 50.48s/it]"
          ]
        },
        {
          "name": "stdout",
          "output_type": "stream",
          "text": [
            "\n",
            "🔥 Vue n°65\n",
            "📺 Ouverture de https://www.youtube.com/watch?v=FyznRjoS8pM\n",
            "📜 JS 'Lire la suite' cliqué\n",
            "🛡️ JS 'Tout refuser' cliqué\n",
            "⏳ Pas de pub à skipper\n",
            "▶️ Lecture manuelle déclenchée\n",
            "⌛ Visionnage : 16s\n",
            "✅ Vue simulée\n"
          ]
        },
        {
          "name": "stderr",
          "output_type": "stream",
          "text": [
            "📊 Progression:   6%|█▍                    | 65/1000 [53:59<13:42:10, 52.76s/it]"
          ]
        },
        {
          "name": "stdout",
          "output_type": "stream",
          "text": [
            "\n",
            "🔥 Vue n°66\n",
            "📺 Ouverture de https://www.youtube.com/watch?v=FyznRjoS8pM\n",
            "📜 JS 'Lire la suite' cliqué\n",
            "🛡️ JS 'Tout refuser' cliqué\n",
            "⏳ Pas de pub à skipper\n",
            "▶️ Lecture manuelle déclenchée\n",
            "⌛ Visionnage : 16s\n",
            "✅ Vue simulée\n"
          ]
        },
        {
          "name": "stderr",
          "output_type": "stream",
          "text": [
            "📊 Progression:   7%|█▍                    | 66/1000 [54:46<13:15:19, 51.09s/it]"
          ]
        },
        {
          "name": "stdout",
          "output_type": "stream",
          "text": [
            "\n",
            "🔥 Vue n°67\n",
            "📺 Ouverture de https://www.youtube.com/watch?v=FyznRjoS8pM\n",
            "📜 JS 'Lire la suite' cliqué\n",
            "🛡️ JS 'Tout refuser' cliqué\n",
            "⏳ Pas de pub à skipper\n",
            "▶️ Lecture manuelle déclenchée\n",
            "⌛ Visionnage : 16s\n",
            "✅ Vue simulée\n"
          ]
        },
        {
          "name": "stderr",
          "output_type": "stream",
          "text": [
            "📊 Progression:   7%|█▍                    | 67/1000 [55:42<13:38:27, 52.63s/it]"
          ]
        },
        {
          "name": "stdout",
          "output_type": "stream",
          "text": [
            "\n",
            "🔥 Vue n°68\n",
            "📺 Ouverture de https://www.youtube.com/watch?v=FyznRjoS8pM\n",
            "📜 JS 'Lire la suite' cliqué\n",
            "🛡️ JS 'Tout refuser' cliqué\n",
            "⏳ Pas de pub à skipper\n",
            "▶️ Lecture manuelle déclenchée\n",
            "⌛ Visionnage : 15s\n",
            "✅ Vue simulée\n"
          ]
        },
        {
          "name": "stderr",
          "output_type": "stream",
          "text": [
            "📊 Progression:   7%|█▍                    | 68/1000 [56:33<13:26:51, 51.94s/it]"
          ]
        },
        {
          "name": "stdout",
          "output_type": "stream",
          "text": [
            "\n",
            "🔥 Vue n°69\n",
            "📺 Ouverture de https://www.youtube.com/watch?v=FyznRjoS8pM\n",
            "📜 JS 'Lire la suite' cliqué\n",
            "🛡️ JS 'Tout refuser' cliqué\n",
            "⏳ Pas de pub à skipper\n",
            "▶️ Lecture manuelle déclenchée\n",
            "⌛ Visionnage : 16s\n",
            "✅ Vue simulée\n"
          ]
        },
        {
          "name": "stderr",
          "output_type": "stream",
          "text": [
            "📊 Progression:   7%|█▌                    | 69/1000 [57:22<13:15:06, 51.24s/it]"
          ]
        },
        {
          "name": "stdout",
          "output_type": "stream",
          "text": [
            "\n",
            "🔥 Vue n°70\n",
            "📺 Ouverture de https://www.youtube.com/watch?v=FyznRjoS8pM\n",
            "📜 JS 'Lire la suite' cliqué\n",
            "🛡️ JS 'Tout refuser' cliqué\n",
            "⏳ Pas de pub à skipper\n",
            "▶️ Lecture manuelle déclenchée\n",
            "⌛ Visionnage : 15s\n",
            "✅ Vue simulée\n"
          ]
        },
        {
          "name": "stderr",
          "output_type": "stream",
          "text": [
            "📊 Progression:   7%|█▌                    | 70/1000 [58:13<13:10:11, 50.98s/it]"
          ]
        },
        {
          "name": "stdout",
          "output_type": "stream",
          "text": [
            "\n",
            "🔥 Vue n°71\n",
            "📺 Ouverture de https://www.youtube.com/watch?v=FyznRjoS8pM\n",
            "📜 JS 'Lire la suite' cliqué\n",
            "🛡️ JS 'Tout refuser' cliqué\n",
            "⏳ Pas de pub à skipper\n",
            "▶️ Lecture manuelle déclenchée\n",
            "⌛ Visionnage : 16s\n",
            "✅ Vue simulée\n"
          ]
        },
        {
          "name": "stderr",
          "output_type": "stream",
          "text": [
            "📊 Progression:   7%|█▌                    | 71/1000 [59:04<13:10:24, 51.05s/it]"
          ]
        },
        {
          "name": "stdout",
          "output_type": "stream",
          "text": [
            "\n",
            "🔥 Vue n°72\n",
            "📺 Ouverture de https://www.youtube.com/watch?v=FyznRjoS8pM\n",
            "📜 JS 'Lire la suite' cliqué\n",
            "🛡️ JS 'Tout refuser' cliqué\n",
            "⏳ Pas de pub à skipper\n",
            "▶️ Lecture manuelle déclenchée\n",
            "⌛ Visionnage : 15s\n",
            "✅ Vue simulée\n"
          ]
        },
        {
          "name": "stderr",
          "output_type": "stream",
          "text": [
            "📊 Progression:   7%|█▌                    | 72/1000 [59:50<12:44:54, 49.46s/it]"
          ]
        },
        {
          "name": "stdout",
          "output_type": "stream",
          "text": [
            "\n",
            "🔥 Vue n°73\n",
            "📺 Ouverture de https://www.youtube.com/watch?v=FyznRjoS8pM\n",
            "📜 JS 'Lire la suite' cliqué\n",
            "🛡️ JS 'Tout refuser' cliqué\n",
            "⏳ Pas de pub à skipper\n",
            "▶️ Lecture manuelle déclenchée\n",
            "⌛ Visionnage : 17s\n",
            "✅ Vue simulée\n"
          ]
        },
        {
          "name": "stderr",
          "output_type": "stream",
          "text": [
            "📊 Progression:   7%|█▍                  | 73/1000 [1:00:40<12:49:16, 49.79s/it]"
          ]
        },
        {
          "name": "stdout",
          "output_type": "stream",
          "text": [
            "\n",
            "🔥 Vue n°74\n",
            "📺 Ouverture de https://www.youtube.com/watch?v=FyznRjoS8pM\n",
            "📜 JS 'Lire la suite' cliqué\n",
            "🛡️ JS 'Tout refuser' cliqué\n",
            "⏳ Pas de pub à skipper\n",
            "▶️ Lecture manuelle déclenchée\n",
            "⌛ Visionnage : 15s\n",
            "✅ Vue simulée\n"
          ]
        },
        {
          "name": "stderr",
          "output_type": "stream",
          "text": [
            "📊 Progression:   7%|█▍                  | 74/1000 [1:01:26<12:28:05, 48.47s/it]"
          ]
        },
        {
          "name": "stdout",
          "output_type": "stream",
          "text": [
            "\n",
            "🔥 Vue n°75\n",
            "📺 Ouverture de https://www.youtube.com/watch?v=FyznRjoS8pM\n",
            "📜 JS 'Lire la suite' cliqué\n",
            "🛡️ JS 'Tout refuser' cliqué\n",
            "⏳ Pas de pub à skipper\n",
            "▶️ Lecture manuelle déclenchée\n",
            "⌛ Visionnage : 16s\n",
            "✅ Vue simulée\n"
          ]
        },
        {
          "name": "stderr",
          "output_type": "stream",
          "text": [
            "📊 Progression:   8%|█▌                  | 75/1000 [1:02:16<12:35:46, 49.02s/it]"
          ]
        },
        {
          "name": "stdout",
          "output_type": "stream",
          "text": [
            "\n",
            "🔥 Vue n°76\n",
            "📺 Ouverture de https://www.youtube.com/watch?v=FyznRjoS8pM\n",
            "📜 JS 'Lire la suite' cliqué\n",
            "🛡️ JS 'Tout refuser' cliqué\n",
            "⏳ Pas de pub à skipper\n",
            "▶️ Lecture manuelle déclenchée\n",
            "⌛ Visionnage : 17s\n",
            "✅ Vue simulée\n"
          ]
        },
        {
          "name": "stderr",
          "output_type": "stream",
          "text": [
            "📊 Progression:   8%|█▌                  | 76/1000 [1:03:09<12:51:56, 50.13s/it]"
          ]
        },
        {
          "name": "stdout",
          "output_type": "stream",
          "text": [
            "\n",
            "🔥 Vue n°77\n",
            "📺 Ouverture de https://www.youtube.com/watch?v=FyznRjoS8pM\n",
            "📜 JS 'Lire la suite' cliqué\n",
            "🛡️ JS 'Tout refuser' cliqué\n",
            "⏳ Pas de pub à skipper\n",
            "▶️ Lecture manuelle déclenchée\n",
            "⌛ Visionnage : 16s\n",
            "✅ Vue simulée\n"
          ]
        },
        {
          "name": "stderr",
          "output_type": "stream",
          "text": [
            "📊 Progression:   8%|█▌                  | 77/1000 [1:03:57<12:41:37, 49.51s/it]"
          ]
        },
        {
          "name": "stdout",
          "output_type": "stream",
          "text": [
            "\n",
            "🔥 Vue n°78\n",
            "📺 Ouverture de https://www.youtube.com/watch?v=FyznRjoS8pM\n",
            "📜 JS 'Lire la suite' cliqué\n",
            "🛡️ JS 'Tout refuser' cliqué\n",
            "⏳ Pas de pub à skipper\n",
            "▶️ Lecture manuelle déclenchée\n",
            "⌛ Visionnage : 16s\n",
            "✅ Vue simulée\n"
          ]
        },
        {
          "name": "stderr",
          "output_type": "stream",
          "text": [
            "📊 Progression:   8%|█▌                  | 78/1000 [1:04:48<12:49:08, 50.05s/it]"
          ]
        },
        {
          "name": "stdout",
          "output_type": "stream",
          "text": [
            "\n",
            "🔥 Vue n°79\n",
            "📺 Ouverture de https://www.youtube.com/watch?v=FyznRjoS8pM\n",
            "📜 JS 'Lire la suite' cliqué\n",
            "🛡️ JS 'Tout refuser' cliqué\n",
            "⏳ Pas de pub à skipper\n",
            "▶️ Lecture manuelle déclenchée\n",
            "⌛ Visionnage : 17s\n",
            "✅ Vue simulée\n"
          ]
        },
        {
          "name": "stderr",
          "output_type": "stream",
          "text": [
            "📊 Progression:   8%|█▌                  | 79/1000 [1:05:39<12:53:41, 50.40s/it]"
          ]
        },
        {
          "name": "stdout",
          "output_type": "stream",
          "text": [
            "\n",
            "🔥 Vue n°80\n",
            "📺 Ouverture de https://www.youtube.com/watch?v=FyznRjoS8pM\n",
            "📜 JS 'Lire la suite' cliqué\n",
            "🛡️ JS 'Tout refuser' cliqué\n",
            "⏳ Pas de pub à skipper\n",
            "▶️ Lecture manuelle déclenchée\n",
            "⌛ Visionnage : 15s\n",
            "✅ Vue simulée\n"
          ]
        },
        {
          "name": "stderr",
          "output_type": "stream",
          "text": [
            "📊 Progression:   8%|█▌                  | 80/1000 [1:06:28<12:44:06, 49.83s/it]"
          ]
        },
        {
          "name": "stdout",
          "output_type": "stream",
          "text": [
            "\n",
            "🔥 Vue n°81\n",
            "📺 Ouverture de https://www.youtube.com/watch?v=FyznRjoS8pM\n",
            "📜 JS 'Lire la suite' cliqué\n",
            "🛡️ JS 'Tout refuser' cliqué\n",
            "⏳ Pas de pub à skipper\n",
            "▶️ Lecture manuelle déclenchée\n",
            "⌛ Visionnage : 16s\n",
            "✅ Vue simulée\n"
          ]
        },
        {
          "name": "stderr",
          "output_type": "stream",
          "text": [
            "📊 Progression:   8%|█▌                  | 81/1000 [1:07:23<13:05:55, 51.31s/it]"
          ]
        },
        {
          "name": "stdout",
          "output_type": "stream",
          "text": [
            "\n",
            "🔥 Vue n°82\n",
            "📺 Ouverture de https://www.youtube.com/watch?v=FyznRjoS8pM\n",
            "📜 JS 'Lire la suite' cliqué\n",
            "🛡️ JS 'Tout refuser' cliqué\n",
            "⏳ Pas de pub à skipper\n",
            "▶️ Lecture manuelle déclenchée\n",
            "⌛ Visionnage : 17s\n",
            "✅ Vue simulée\n"
          ]
        },
        {
          "name": "stderr",
          "output_type": "stream",
          "text": [
            "📊 Progression:   8%|█▋                  | 82/1000 [1:08:13<13:00:27, 51.01s/it]"
          ]
        },
        {
          "name": "stdout",
          "output_type": "stream",
          "text": [
            "\n",
            "🔥 Vue n°83\n",
            "📺 Ouverture de https://www.youtube.com/watch?v=FyznRjoS8pM\n",
            "📜 JS 'Lire la suite' cliqué\n",
            "🛡️ JS 'Tout refuser' cliqué\n",
            "⏳ Pas de pub à skipper\n",
            "▶️ Lecture manuelle déclenchée\n",
            "⌛ Visionnage : 16s\n",
            "✅ Vue simulée\n"
          ]
        },
        {
          "name": "stderr",
          "output_type": "stream",
          "text": [
            "📊 Progression:   8%|█▋                  | 83/1000 [1:09:01<12:46:30, 50.15s/it]"
          ]
        },
        {
          "name": "stdout",
          "output_type": "stream",
          "text": [
            "\n",
            "🔥 Vue n°84\n",
            "📺 Ouverture de https://www.youtube.com/watch?v=FyznRjoS8pM\n",
            "📜 JS 'Lire la suite' cliqué\n",
            "🛡️ JS 'Tout refuser' cliqué\n",
            "⏳ Pas de pub à skipper\n",
            "⏯️ Vidéo déjà en lecture ou bouton non détecté\n",
            "⌛ Visionnage : 15s\n",
            "✅ Vue simulée\n"
          ]
        },
        {
          "name": "stderr",
          "output_type": "stream",
          "text": [
            "📊 Progression:   8%|█▋                  | 84/1000 [1:09:49<12:37:42, 49.63s/it]"
          ]
        },
        {
          "name": "stdout",
          "output_type": "stream",
          "text": [
            "\n",
            "🔥 Vue n°85\n",
            "📺 Ouverture de https://www.youtube.com/watch?v=FyznRjoS8pM\n",
            "📜 JS 'Lire la suite' cliqué\n",
            "🛡️ JS 'Tout refuser' cliqué\n",
            "⏳ Pas de pub à skipper\n",
            "▶️ Lecture manuelle déclenchée\n",
            "⌛ Visionnage : 17s\n",
            "✅ Vue simulée\n"
          ]
        },
        {
          "name": "stderr",
          "output_type": "stream",
          "text": [
            "📊 Progression:   8%|█▋                  | 85/1000 [1:10:41<12:43:29, 50.07s/it]"
          ]
        },
        {
          "name": "stdout",
          "output_type": "stream",
          "text": [
            "\n",
            "🔥 Vue n°86\n",
            "📺 Ouverture de https://www.youtube.com/watch?v=FyznRjoS8pM\n",
            "📜 JS 'Lire la suite' cliqué\n",
            "🛡️ JS 'Tout refuser' cliqué\n",
            "⏳ Pas de pub à skipper\n",
            "▶️ Lecture manuelle déclenchée\n",
            "⌛ Visionnage : 15s\n",
            "✅ Vue simulée\n"
          ]
        },
        {
          "name": "stderr",
          "output_type": "stream",
          "text": [
            "📊 Progression:   9%|█▋                  | 86/1000 [1:11:28<12:32:08, 49.37s/it]"
          ]
        },
        {
          "name": "stdout",
          "output_type": "stream",
          "text": [
            "\n",
            "🔥 Vue n°87\n",
            "📺 Ouverture de https://www.youtube.com/watch?v=FyznRjoS8pM\n",
            "📜 JS 'Lire la suite' cliqué\n",
            "🛡️ JS 'Tout refuser' cliqué\n",
            "⏳ Pas de pub à skipper\n",
            "▶️ Lecture manuelle déclenchée\n",
            "⌛ Visionnage : 17s\n",
            "✅ Vue simulée\n"
          ]
        },
        {
          "name": "stderr",
          "output_type": "stream",
          "text": [
            "📊 Progression:   9%|█▋                  | 87/1000 [1:12:20<12:41:20, 50.03s/it]"
          ]
        },
        {
          "name": "stdout",
          "output_type": "stream",
          "text": [
            "\n",
            "🔥 Vue n°88\n",
            "📺 Ouverture de https://www.youtube.com/watch?v=FyznRjoS8pM\n",
            "📜 JS 'Lire la suite' cliqué\n",
            "🛡️ JS 'Tout refuser' cliqué\n",
            "⏳ Pas de pub à skipper\n",
            "▶️ Lecture manuelle déclenchée\n",
            "⌛ Visionnage : 16s\n",
            "✅ Vue simulée\n"
          ]
        },
        {
          "name": "stderr",
          "output_type": "stream",
          "text": [
            "📊 Progression:   9%|█▊                  | 88/1000 [1:13:08<12:31:06, 49.42s/it]"
          ]
        },
        {
          "name": "stdout",
          "output_type": "stream",
          "text": [
            "\n",
            "🔥 Vue n°89\n",
            "📺 Ouverture de https://www.youtube.com/watch?v=FyznRjoS8pM\n",
            "📜 JS 'Lire la suite' cliqué\n",
            "🛡️ JS 'Tout refuser' cliqué\n",
            "⏳ Pas de pub à skipper\n",
            "▶️ Lecture manuelle déclenchée\n",
            "⌛ Visionnage : 16s\n",
            "✅ Vue simulée\n"
          ]
        },
        {
          "name": "stderr",
          "output_type": "stream",
          "text": [
            "📊 Progression:   9%|█▊                  | 89/1000 [1:13:59<12:39:49, 50.04s/it]"
          ]
        },
        {
          "name": "stdout",
          "output_type": "stream",
          "text": [
            "\n",
            "🔥 Vue n°90\n",
            "📺 Ouverture de https://www.youtube.com/watch?v=FyznRjoS8pM\n",
            "📜 JS 'Lire la suite' cliqué\n",
            "🛡️ JS 'Tout refuser' cliqué\n",
            "⏳ Pas de pub à skipper\n",
            "▶️ Lecture manuelle déclenchée\n",
            "⌛ Visionnage : 16s\n",
            "✅ Vue simulée\n"
          ]
        },
        {
          "name": "stderr",
          "output_type": "stream",
          "text": [
            "📊 Progression:   9%|█▊                  | 90/1000 [1:14:49<12:35:57, 49.84s/it]"
          ]
        },
        {
          "name": "stdout",
          "output_type": "stream",
          "text": [
            "\n",
            "🔥 Vue n°91\n",
            "📺 Ouverture de https://www.youtube.com/watch?v=FyznRjoS8pM\n",
            "📜 JS 'Lire la suite' cliqué\n",
            "🛡️ JS 'Tout refuser' cliqué\n",
            "⏳ Pas de pub à skipper\n",
            "▶️ Lecture manuelle déclenchée\n",
            "⌛ Visionnage : 16s\n",
            "✅ Vue simulée\n"
          ]
        },
        {
          "name": "stderr",
          "output_type": "stream",
          "text": [
            "📊 Progression:   9%|█▊                  | 91/1000 [1:15:39<12:39:07, 50.11s/it]"
          ]
        },
        {
          "name": "stdout",
          "output_type": "stream",
          "text": [
            "\n",
            "🔥 Vue n°92\n",
            "📺 Ouverture de https://www.youtube.com/watch?v=FyznRjoS8pM\n",
            "📜 JS 'Lire la suite' cliqué\n",
            "🛡️ JS 'Tout refuser' cliqué\n",
            "⏳ Pas de pub à skipper\n",
            "▶️ Lecture manuelle déclenchée\n",
            "⌛ Visionnage : 15s\n",
            "✅ Vue simulée\n"
          ]
        },
        {
          "name": "stderr",
          "output_type": "stream",
          "text": [
            "📊 Progression:   9%|█▊                  | 92/1000 [1:16:25<12:15:57, 48.63s/it]"
          ]
        },
        {
          "name": "stdout",
          "output_type": "stream",
          "text": [
            "\n",
            "🔥 Vue n°93\n",
            "📺 Ouverture de https://www.youtube.com/watch?v=FyznRjoS8pM\n",
            "📜 JS 'Lire la suite' cliqué\n",
            "🛡️ JS 'Tout refuser' cliqué\n",
            "⏳ Pas de pub à skipper\n",
            "▶️ Lecture manuelle déclenchée\n",
            "⌛ Visionnage : 16s\n",
            "✅ Vue simulée\n"
          ]
        },
        {
          "name": "stderr",
          "output_type": "stream",
          "text": [
            "📊 Progression:   9%|█▊                  | 93/1000 [1:17:13<12:12:58, 48.49s/it]"
          ]
        },
        {
          "name": "stdout",
          "output_type": "stream",
          "text": [
            "\n",
            "🔥 Vue n°94\n",
            "📺 Ouverture de https://www.youtube.com/watch?v=FyznRjoS8pM\n",
            "📜 JS 'Lire la suite' cliqué\n",
            "🛡️ JS 'Tout refuser' cliqué\n",
            "⏳ Pas de pub à skipper\n",
            "▶️ Lecture manuelle déclenchée\n",
            "⌛ Visionnage : 16s\n",
            "✅ Vue simulée\n"
          ]
        },
        {
          "name": "stderr",
          "output_type": "stream",
          "text": [
            "📊 Progression:   9%|█▉                  | 94/1000 [1:18:02<12:14:37, 48.65s/it]"
          ]
        },
        {
          "name": "stdout",
          "output_type": "stream",
          "text": [
            "\n",
            "🔥 Vue n°95\n",
            "📺 Ouverture de https://www.youtube.com/watch?v=FyznRjoS8pM\n",
            "📜 JS 'Lire la suite' cliqué\n",
            "🛡️ JS 'Tout refuser' cliqué\n",
            "⏳ Pas de pub à skipper\n",
            "▶️ Lecture manuelle déclenchée\n",
            "⌛ Visionnage : 16s\n",
            "✅ Vue simulée\n"
          ]
        },
        {
          "name": "stderr",
          "output_type": "stream",
          "text": [
            "📊 Progression:  10%|█▉                  | 95/1000 [1:18:50<12:10:57, 48.46s/it]"
          ]
        },
        {
          "name": "stdout",
          "output_type": "stream",
          "text": [
            "\n",
            "🔥 Vue n°96\n",
            "📺 Ouverture de https://www.youtube.com/watch?v=FyznRjoS8pM\n",
            "📜 JS 'Lire la suite' cliqué\n",
            "🛡️ JS 'Tout refuser' cliqué\n",
            "⏳ Pas de pub à skipper\n",
            "▶️ Lecture manuelle déclenchée\n",
            "⌛ Visionnage : 17s\n",
            "✅ Vue simulée\n"
          ]
        },
        {
          "name": "stderr",
          "output_type": "stream",
          "text": [
            "📊 Progression:  10%|█▉                  | 96/1000 [1:19:40<12:19:37, 49.09s/it]"
          ]
        },
        {
          "name": "stdout",
          "output_type": "stream",
          "text": [
            "\n",
            "🔥 Vue n°97\n",
            "📺 Ouverture de https://www.youtube.com/watch?v=FyznRjoS8pM\n",
            "📜 JS 'Lire la suite' cliqué\n",
            "🛡️ JS 'Tout refuser' cliqué\n",
            "⏳ Pas de pub à skipper\n",
            "▶️ Lecture manuelle déclenchée\n",
            "⌛ Visionnage : 15s\n",
            "✅ Vue simulée\n"
          ]
        },
        {
          "name": "stderr",
          "output_type": "stream",
          "text": [
            "📊 Progression:  10%|█▉                  | 97/1000 [1:20:28<12:12:25, 48.67s/it]"
          ]
        },
        {
          "name": "stdout",
          "output_type": "stream",
          "text": [
            "\n",
            "🔥 Vue n°98\n",
            "📺 Ouverture de https://www.youtube.com/watch?v=FyznRjoS8pM\n",
            "📜 JS 'Lire la suite' cliqué\n",
            "🛡️ JS 'Tout refuser' cliqué\n",
            "⏳ Pas de pub à skipper\n",
            "▶️ Lecture manuelle déclenchée\n",
            "⌛ Visionnage : 16s\n",
            "✅ Vue simulée\n"
          ]
        },
        {
          "name": "stderr",
          "output_type": "stream",
          "text": [
            "📊 Progression:  10%|█▉                  | 98/1000 [1:21:17<12:14:34, 48.86s/it]"
          ]
        },
        {
          "name": "stdout",
          "output_type": "stream",
          "text": [
            "\n",
            "🔥 Vue n°99\n",
            "📺 Ouverture de https://www.youtube.com/watch?v=FyznRjoS8pM\n",
            "📜 JS 'Lire la suite' cliqué\n",
            "🛡️ JS 'Tout refuser' cliqué\n",
            "⏳ Pas de pub à skipper\n",
            "▶️ Lecture manuelle déclenchée\n",
            "⌛ Visionnage : 16s\n",
            "✅ Vue simulée\n"
          ]
        },
        {
          "name": "stderr",
          "output_type": "stream",
          "text": [
            "📊 Progression:  10%|█▉                  | 99/1000 [1:22:05<12:06:54, 48.41s/it]"
          ]
        },
        {
          "name": "stdout",
          "output_type": "stream",
          "text": [
            "\n",
            "🔥 Vue n°100\n",
            "📺 Ouverture de https://www.youtube.com/watch?v=FyznRjoS8pM\n",
            "📜 JS 'Lire la suite' cliqué\n",
            "🛡️ JS 'Tout refuser' cliqué\n",
            "⏳ Pas de pub à skipper\n",
            "▶️ Lecture manuelle déclenchée\n",
            "⌛ Visionnage : 17s\n",
            "✅ Vue simulée\n"
          ]
        },
        {
          "name": "stderr",
          "output_type": "stream",
          "text": [
            "📊 Progression:  10%|█▉                 | 100/1000 [1:22:53<12:05:40, 48.38s/it]"
          ]
        },
        {
          "name": "stdout",
          "output_type": "stream",
          "text": [
            "\n",
            "🔥 Vue n°101\n",
            "📺 Ouverture de https://www.youtube.com/watch?v=FyznRjoS8pM\n",
            "📜 JS 'Lire la suite' cliqué\n",
            "🛡️ JS 'Tout refuser' cliqué\n",
            "⏳ Pas de pub à skipper\n",
            "▶️ Lecture manuelle déclenchée\n",
            "⌛ Visionnage : 16s\n",
            "✅ Vue simulée\n"
          ]
        },
        {
          "name": "stderr",
          "output_type": "stream",
          "text": [
            "📊 Progression:  10%|█▉                 | 101/1000 [1:23:44<12:15:58, 49.12s/it]"
          ]
        },
        {
          "name": "stdout",
          "output_type": "stream",
          "text": [
            "\n",
            "🔥 Vue n°102\n",
            "📺 Ouverture de https://www.youtube.com/watch?v=FyznRjoS8pM\n",
            "📜 JS 'Lire la suite' cliqué\n",
            "🛡️ JS 'Tout refuser' cliqué\n",
            "⏳ Pas de pub à skipper\n",
            "▶️ Lecture manuelle déclenchée\n",
            "⌛ Visionnage : 15s\n",
            "✅ Vue simulée\n"
          ]
        },
        {
          "name": "stderr",
          "output_type": "stream",
          "text": [
            "📊 Progression:  10%|█▉                 | 102/1000 [1:24:30<12:01:25, 48.20s/it]"
          ]
        },
        {
          "name": "stdout",
          "output_type": "stream",
          "text": [
            "\n",
            "🔥 Vue n°103\n",
            "📺 Ouverture de https://www.youtube.com/watch?v=FyznRjoS8pM\n",
            "📜 JS 'Lire la suite' cliqué\n",
            "🛡️ JS 'Tout refuser' cliqué\n",
            "⏳ Pas de pub à skipper\n",
            "▶️ Lecture manuelle déclenchée\n",
            "⌛ Visionnage : 15s\n",
            "✅ Vue simulée\n"
          ]
        },
        {
          "name": "stderr",
          "output_type": "stream",
          "text": [
            "📊 Progression:  10%|█▉                 | 103/1000 [1:25:21<12:15:36, 49.20s/it]"
          ]
        },
        {
          "name": "stdout",
          "output_type": "stream",
          "text": [
            "\n",
            "🔥 Vue n°104\n",
            "📺 Ouverture de https://www.youtube.com/watch?v=FyznRjoS8pM\n",
            "📜 JS 'Lire la suite' cliqué\n",
            "🛡️ JS 'Tout refuser' cliqué\n",
            "⏳ Pas de pub à skipper\n",
            "▶️ Lecture manuelle déclenchée\n",
            "⌛ Visionnage : 17s\n",
            "✅ Vue simulée\n"
          ]
        },
        {
          "name": "stderr",
          "output_type": "stream",
          "text": [
            "📊 Progression:  10%|█▉                 | 104/1000 [1:26:15<12:32:15, 50.37s/it]"
          ]
        },
        {
          "name": "stdout",
          "output_type": "stream",
          "text": [
            "\n",
            "🔥 Vue n°105\n",
            "📺 Ouverture de https://www.youtube.com/watch?v=FyznRjoS8pM\n",
            "📜 JS 'Lire la suite' cliqué\n",
            "🛡️ JS 'Tout refuser' cliqué\n",
            "⏳ Pas de pub à skipper\n",
            "▶️ Lecture manuelle déclenchée\n",
            "⌛ Visionnage : 15s\n",
            "✅ Vue simulée\n"
          ]
        },
        {
          "name": "stderr",
          "output_type": "stream",
          "text": [
            "📊 Progression:  10%|█▉                 | 105/1000 [1:27:05<12:33:15, 50.50s/it]"
          ]
        },
        {
          "name": "stdout",
          "output_type": "stream",
          "text": [
            "\n",
            "🔥 Vue n°106\n",
            "📺 Ouverture de https://www.youtube.com/watch?v=FyznRjoS8pM\n",
            "📜 JS 'Lire la suite' cliqué\n",
            "🛡️ JS 'Tout refuser' cliqué\n",
            "⏳ Pas de pub à skipper\n",
            "▶️ Lecture manuelle déclenchée\n",
            "⌛ Visionnage : 15s\n",
            "✅ Vue simulée\n"
          ]
        },
        {
          "name": "stderr",
          "output_type": "stream",
          "text": [
            "📊 Progression:  11%|██                 | 106/1000 [1:27:55<12:26:40, 50.11s/it]"
          ]
        },
        {
          "name": "stdout",
          "output_type": "stream",
          "text": [
            "\n",
            "🔥 Vue n°107\n",
            "📺 Ouverture de https://www.youtube.com/watch?v=FyznRjoS8pM\n",
            "📜 JS 'Lire la suite' cliqué\n",
            "🛡️ JS 'Tout refuser' cliqué\n",
            "⏳ Pas de pub à skipper\n",
            "▶️ Lecture manuelle déclenchée\n",
            "⌛ Visionnage : 16s\n",
            "✅ Vue simulée\n"
          ]
        },
        {
          "name": "stderr",
          "output_type": "stream",
          "text": [
            "📊 Progression:  11%|██                 | 107/1000 [1:28:44<12:24:57, 50.05s/it]"
          ]
        },
        {
          "name": "stdout",
          "output_type": "stream",
          "text": [
            "\n",
            "🔥 Vue n°108\n",
            "📺 Ouverture de https://www.youtube.com/watch?v=FyznRjoS8pM\n",
            "📜 JS 'Lire la suite' cliqué\n",
            "🛡️ JS 'Tout refuser' cliqué\n",
            "⏳ Pas de pub à skipper\n",
            "▶️ Lecture manuelle déclenchée\n",
            "⌛ Visionnage : 15s\n",
            "✅ Vue simulée\n"
          ]
        },
        {
          "name": "stderr",
          "output_type": "stream",
          "text": [
            "📊 Progression:  11%|██                 | 108/1000 [1:29:30<12:01:49, 48.55s/it]"
          ]
        },
        {
          "name": "stdout",
          "output_type": "stream",
          "text": [
            "\n",
            "🔥 Vue n°109\n",
            "📺 Ouverture de https://www.youtube.com/watch?v=FyznRjoS8pM\n",
            "📜 JS 'Lire la suite' cliqué\n",
            "🛡️ JS 'Tout refuser' cliqué\n",
            "⏳ Pas de pub à skipper\n",
            "▶️ Lecture manuelle déclenchée\n",
            "⌛ Visionnage : 16s\n",
            "✅ Vue simulée\n"
          ]
        },
        {
          "name": "stderr",
          "output_type": "stream",
          "text": [
            "📊 Progression:  11%|██                 | 109/1000 [1:30:15<11:47:06, 47.62s/it]"
          ]
        },
        {
          "name": "stdout",
          "output_type": "stream",
          "text": [
            "\n",
            "🔥 Vue n°110\n",
            "📺 Ouverture de https://www.youtube.com/watch?v=FyznRjoS8pM\n",
            "📜 JS 'Lire la suite' cliqué\n",
            "🛡️ JS 'Tout refuser' cliqué\n",
            "⏳ Pas de pub à skipper\n",
            "▶️ Lecture manuelle déclenchée\n",
            "⌛ Visionnage : 16s\n",
            "✅ Vue simulée\n"
          ]
        },
        {
          "name": "stderr",
          "output_type": "stream",
          "text": [
            "📊 Progression:  11%|██                 | 110/1000 [1:31:03<11:49:04, 47.80s/it]"
          ]
        },
        {
          "name": "stdout",
          "output_type": "stream",
          "text": [
            "\n",
            "🔥 Vue n°111\n",
            "📺 Ouverture de https://www.youtube.com/watch?v=FyznRjoS8pM\n",
            "📜 JS 'Lire la suite' cliqué\n",
            "🛡️ JS 'Tout refuser' cliqué\n",
            "⏳ Pas de pub à skipper\n",
            "▶️ Lecture manuelle déclenchée\n",
            "⌛ Visionnage : 15s\n",
            "✅ Vue simulée\n"
          ]
        },
        {
          "name": "stderr",
          "output_type": "stream",
          "text": [
            "📊 Progression:  11%|██                 | 111/1000 [1:31:52<11:50:45, 47.97s/it]"
          ]
        },
        {
          "name": "stdout",
          "output_type": "stream",
          "text": [
            "\n",
            "🔥 Vue n°112\n",
            "📺 Ouverture de https://www.youtube.com/watch?v=FyznRjoS8pM\n",
            "📜 JS 'Lire la suite' cliqué\n",
            "🛡️ JS 'Tout refuser' cliqué\n",
            "⏳ Pas de pub à skipper\n",
            "▶️ Lecture manuelle déclenchée\n",
            "⌛ Visionnage : 17s\n",
            "✅ Vue simulée\n"
          ]
        },
        {
          "name": "stderr",
          "output_type": "stream",
          "text": [
            "📊 Progression:  11%|██▏                | 112/1000 [1:32:42<11:58:46, 48.57s/it]"
          ]
        },
        {
          "name": "stdout",
          "output_type": "stream",
          "text": [
            "\n",
            "🔥 Vue n°113\n",
            "📺 Ouverture de https://www.youtube.com/watch?v=FyznRjoS8pM\n",
            "📜 JS 'Lire la suite' cliqué\n",
            "🛡️ JS 'Tout refuser' cliqué\n",
            "⏳ Pas de pub à skipper\n",
            "▶️ Lecture manuelle déclenchée\n",
            "⌛ Visionnage : 15s\n",
            "✅ Vue simulée\n"
          ]
        },
        {
          "name": "stderr",
          "output_type": "stream",
          "text": [
            "📊 Progression:  11%|██▏                | 113/1000 [1:33:33<12:08:52, 49.30s/it]"
          ]
        },
        {
          "name": "stdout",
          "output_type": "stream",
          "text": [
            "\n",
            "🔥 Vue n°114\n",
            "📺 Ouverture de https://www.youtube.com/watch?v=FyznRjoS8pM\n",
            "📜 JS 'Lire la suite' cliqué\n",
            "🛡️ JS 'Tout refuser' cliqué\n",
            "⏳ Pas de pub à skipper\n",
            "▶️ Lecture manuelle déclenchée\n",
            "⌛ Visionnage : 17s\n",
            "✅ Vue simulée\n"
          ]
        },
        {
          "name": "stderr",
          "output_type": "stream",
          "text": [
            "📊 Progression:  11%|██▏                | 114/1000 [1:34:23<12:12:49, 49.63s/it]"
          ]
        },
        {
          "name": "stdout",
          "output_type": "stream",
          "text": [
            "\n",
            "🔥 Vue n°115\n",
            "📺 Ouverture de https://www.youtube.com/watch?v=FyznRjoS8pM\n",
            "📜 JS 'Lire la suite' cliqué\n",
            "🛡️ JS 'Tout refuser' cliqué\n",
            "⏳ Pas de pub à skipper\n",
            "▶️ Lecture manuelle déclenchée\n",
            "⌛ Visionnage : 16s\n",
            "✅ Vue simulée\n"
          ]
        },
        {
          "name": "stderr",
          "output_type": "stream",
          "text": [
            "📊 Progression:  12%|██▏                | 115/1000 [1:35:13<12:12:36, 49.67s/it]"
          ]
        },
        {
          "name": "stdout",
          "output_type": "stream",
          "text": [
            "\n",
            "🔥 Vue n°116\n",
            "📺 Ouverture de https://www.youtube.com/watch?v=FyznRjoS8pM\n",
            "📜 JS 'Lire la suite' cliqué\n",
            "🛡️ JS 'Tout refuser' cliqué\n",
            "⏳ Pas de pub à skipper\n",
            "▶️ Lecture manuelle déclenchée\n",
            "⌛ Visionnage : 15s\n",
            "✅ Vue simulée\n"
          ]
        },
        {
          "name": "stderr",
          "output_type": "stream",
          "text": [
            "📊 Progression:  12%|██▏                | 116/1000 [1:36:03<12:13:25, 49.78s/it]"
          ]
        },
        {
          "name": "stdout",
          "output_type": "stream",
          "text": [
            "\n",
            "🔥 Vue n°117\n",
            "📺 Ouverture de https://www.youtube.com/watch?v=FyznRjoS8pM\n",
            "📜 JS 'Lire la suite' cliqué\n",
            "🛡️ JS 'Tout refuser' cliqué\n",
            "⏳ Pas de pub à skipper\n",
            "▶️ Lecture manuelle déclenchée\n",
            "⌛ Visionnage : 15s\n",
            "✅ Vue simulée\n"
          ]
        },
        {
          "name": "stderr",
          "output_type": "stream",
          "text": [
            "📊 Progression:  12%|██▏                | 117/1000 [1:36:53<12:14:22, 49.90s/it]"
          ]
        },
        {
          "name": "stdout",
          "output_type": "stream",
          "text": [
            "\n",
            "🔥 Vue n°118\n",
            "📺 Ouverture de https://www.youtube.com/watch?v=FyznRjoS8pM\n",
            "📜 JS 'Lire la suite' cliqué\n",
            "🛡️ JS 'Tout refuser' cliqué\n",
            "⏳ Pas de pub à skipper\n",
            "▶️ Lecture manuelle déclenchée\n",
            "⌛ Visionnage : 17s\n",
            "✅ Vue simulée\n"
          ]
        },
        {
          "name": "stderr",
          "output_type": "stream",
          "text": [
            "📊 Progression:  12%|██▏                | 118/1000 [1:37:45<12:21:01, 50.41s/it]"
          ]
        },
        {
          "name": "stdout",
          "output_type": "stream",
          "text": [
            "\n",
            "🔥 Vue n°119\n",
            "📺 Ouverture de https://www.youtube.com/watch?v=FyznRjoS8pM\n",
            "📜 JS 'Lire la suite' cliqué\n",
            "🛡️ JS 'Tout refuser' cliqué\n",
            "⏳ Pas de pub à skipper\n",
            "▶️ Lecture manuelle déclenchée\n",
            "⌛ Visionnage : 15s\n",
            "✅ Vue simulée\n"
          ]
        },
        {
          "name": "stderr",
          "output_type": "stream",
          "text": [
            "📊 Progression:  12%|██▎                | 119/1000 [1:38:31<12:00:48, 49.09s/it]"
          ]
        },
        {
          "name": "stdout",
          "output_type": "stream",
          "text": [
            "\n",
            "🔥 Vue n°120\n",
            "📺 Ouverture de https://www.youtube.com/watch?v=FyznRjoS8pM\n",
            "📜 JS 'Lire la suite' cliqué\n",
            "🛡️ JS 'Tout refuser' cliqué\n",
            "⏳ Pas de pub à skipper\n",
            "▶️ Lecture manuelle déclenchée\n",
            "⌛ Visionnage : 15s\n",
            "✅ Vue simulée\n"
          ]
        },
        {
          "name": "stderr",
          "output_type": "stream",
          "text": [
            "📊 Progression:  12%|██▎                | 120/1000 [1:39:24<12:19:05, 50.39s/it]"
          ]
        },
        {
          "name": "stdout",
          "output_type": "stream",
          "text": [
            "\n",
            "🔥 Vue n°121\n",
            "📺 Ouverture de https://www.youtube.com/watch?v=FyznRjoS8pM\n",
            "📜 JS 'Lire la suite' cliqué\n",
            "🛡️ JS 'Tout refuser' cliqué\n",
            "⏳ Pas de pub à skipper\n",
            "▶️ Lecture manuelle déclenchée\n",
            "⌛ Visionnage : 15s\n",
            "✅ Vue simulée\n"
          ]
        },
        {
          "name": "stderr",
          "output_type": "stream",
          "text": [
            "📊 Progression:  12%|██▎                | 121/1000 [1:40:13<12:10:31, 49.87s/it]"
          ]
        },
        {
          "name": "stdout",
          "output_type": "stream",
          "text": [
            "\n",
            "🔥 Vue n°122\n",
            "📺 Ouverture de https://www.youtube.com/watch?v=FyznRjoS8pM\n",
            "📜 JS 'Lire la suite' cliqué\n",
            "🛡️ JS 'Tout refuser' cliqué\n",
            "⏳ Pas de pub à skipper\n",
            "▶️ Lecture manuelle déclenchée\n",
            "⌛ Visionnage : 17s\n",
            "✅ Vue simulée\n"
          ]
        },
        {
          "name": "stderr",
          "output_type": "stream",
          "text": [
            "📊 Progression:  12%|██▎                | 122/1000 [1:41:05<12:19:23, 50.53s/it]"
          ]
        },
        {
          "name": "stdout",
          "output_type": "stream",
          "text": [
            "\n",
            "🔥 Vue n°123\n",
            "📺 Ouverture de https://www.youtube.com/watch?v=FyznRjoS8pM\n",
            "📜 JS 'Lire la suite' cliqué\n",
            "🛡️ JS 'Tout refuser' cliqué\n",
            "⏳ Pas de pub à skipper\n",
            "▶️ Lecture manuelle déclenchée\n",
            "⌛ Visionnage : 15s\n",
            "✅ Vue simulée\n"
          ]
        },
        {
          "name": "stderr",
          "output_type": "stream",
          "text": [
            "📊 Progression:  12%|██▎                | 123/1000 [1:41:57<12:26:44, 51.09s/it]"
          ]
        },
        {
          "name": "stdout",
          "output_type": "stream",
          "text": [
            "\n",
            "🔥 Vue n°124\n",
            "📺 Ouverture de https://www.youtube.com/watch?v=FyznRjoS8pM\n",
            "📜 JS 'Lire la suite' cliqué\n",
            "🛡️ JS 'Tout refuser' cliqué\n",
            "⏳ Pas de pub à skipper\n",
            "▶️ Lecture manuelle déclenchée\n",
            "⌛ Visionnage : 17s\n",
            "✅ Vue simulée\n"
          ]
        },
        {
          "name": "stderr",
          "output_type": "stream",
          "text": [
            "📊 Progression:  12%|██▎                | 124/1000 [1:42:45<12:11:21, 50.09s/it]"
          ]
        },
        {
          "name": "stdout",
          "output_type": "stream",
          "text": [
            "\n",
            "🔥 Vue n°125\n",
            "📺 Ouverture de https://www.youtube.com/watch?v=FyznRjoS8pM\n",
            "📜 JS 'Lire la suite' cliqué\n",
            "🛡️ JS 'Tout refuser' cliqué\n",
            "⏳ Pas de pub à skipper\n",
            "▶️ Lecture manuelle déclenchée\n",
            "⌛ Visionnage : 17s\n",
            "✅ Vue simulée\n"
          ]
        },
        {
          "name": "stderr",
          "output_type": "stream",
          "text": [
            "📊 Progression:  12%|██▍                | 125/1000 [1:43:33<12:04:06, 49.65s/it]"
          ]
        },
        {
          "name": "stdout",
          "output_type": "stream",
          "text": [
            "\n",
            "🔥 Vue n°126\n",
            "📺 Ouverture de https://www.youtube.com/watch?v=FyznRjoS8pM\n",
            "📜 JS 'Lire la suite' cliqué\n",
            "🛡️ JS 'Tout refuser' cliqué\n",
            "⏳ Pas de pub à skipper\n",
            "▶️ Lecture manuelle déclenchée\n",
            "⌛ Visionnage : 16s\n",
            "✅ Vue simulée\n"
          ]
        },
        {
          "name": "stderr",
          "output_type": "stream",
          "text": [
            "📊 Progression:  13%|██▍                | 126/1000 [1:44:22<11:57:14, 49.24s/it]"
          ]
        },
        {
          "name": "stdout",
          "output_type": "stream",
          "text": [
            "\n",
            "🔥 Vue n°127\n",
            "📺 Ouverture de https://www.youtube.com/watch?v=FyznRjoS8pM\n",
            "📜 JS 'Lire la suite' cliqué\n",
            "🛡️ JS 'Tout refuser' cliqué\n",
            "⏳ Pas de pub à skipper\n",
            "▶️ Lecture manuelle déclenchée\n",
            "⌛ Visionnage : 17s\n",
            "✅ Vue simulée\n"
          ]
        },
        {
          "name": "stderr",
          "output_type": "stream",
          "text": [
            "📊 Progression:  13%|██▍                | 127/1000 [1:45:13<12:03:33, 49.73s/it]"
          ]
        },
        {
          "name": "stdout",
          "output_type": "stream",
          "text": [
            "\n",
            "🔥 Vue n°128\n",
            "📺 Ouverture de https://www.youtube.com/watch?v=FyznRjoS8pM\n",
            "📜 JS 'Lire la suite' cliqué\n",
            "🛡️ JS 'Tout refuser' cliqué\n",
            "⏳ Pas de pub à skipper\n",
            "▶️ Lecture manuelle déclenchée\n",
            "⌛ Visionnage : 16s\n",
            "✅ Vue simulée\n"
          ]
        },
        {
          "name": "stderr",
          "output_type": "stream",
          "text": [
            "📊 Progression:  13%|██▍                | 128/1000 [1:46:01<11:54:42, 49.18s/it]"
          ]
        },
        {
          "name": "stdout",
          "output_type": "stream",
          "text": [
            "\n",
            "🔥 Vue n°129\n",
            "📺 Ouverture de https://www.youtube.com/watch?v=FyznRjoS8pM\n",
            "📜 JS 'Lire la suite' cliqué\n",
            "🛡️ JS 'Tout refuser' cliqué\n",
            "⏳ Pas de pub à skipper\n",
            "▶️ Lecture manuelle déclenchée\n",
            "⌛ Visionnage : 15s\n",
            "✅ Vue simulée\n"
          ]
        },
        {
          "name": "stderr",
          "output_type": "stream",
          "text": [
            "📊 Progression:  13%|██▍                | 129/1000 [1:46:44<11:27:06, 47.33s/it]"
          ]
        },
        {
          "name": "stdout",
          "output_type": "stream",
          "text": [
            "\n",
            "🔥 Vue n°130\n",
            "📺 Ouverture de https://www.youtube.com/watch?v=FyznRjoS8pM\n",
            "📜 JS 'Lire la suite' cliqué\n",
            "🛡️ JS 'Tout refuser' cliqué\n",
            "⏳ Pas de pub à skipper\n",
            "▶️ Lecture manuelle déclenchée\n",
            "⌛ Visionnage : 16s\n",
            "✅ Vue simulée\n"
          ]
        },
        {
          "name": "stderr",
          "output_type": "stream",
          "text": [
            "📊 Progression:  13%|██▍                | 130/1000 [1:47:34<11:41:05, 48.35s/it]"
          ]
        },
        {
          "name": "stdout",
          "output_type": "stream",
          "text": [
            "\n",
            "🔥 Vue n°131\n",
            "📺 Ouverture de https://www.youtube.com/watch?v=FyznRjoS8pM\n",
            "📜 JS 'Lire la suite' cliqué\n",
            "🛡️ JS 'Tout refuser' cliqué\n",
            "⏳ Pas de pub à skipper\n",
            "▶️ Lecture manuelle déclenchée\n",
            "⌛ Visionnage : 17s\n",
            "✅ Vue simulée\n"
          ]
        },
        {
          "name": "stderr",
          "output_type": "stream",
          "text": [
            "📊 Progression:  13%|██▍                | 131/1000 [1:48:24<11:48:23, 48.91s/it]"
          ]
        },
        {
          "name": "stdout",
          "output_type": "stream",
          "text": [
            "\n",
            "🔥 Vue n°132\n",
            "📺 Ouverture de https://www.youtube.com/watch?v=FyznRjoS8pM\n",
            "📜 JS 'Lire la suite' cliqué\n",
            "🛡️ JS 'Tout refuser' cliqué\n",
            "⏳ Pas de pub à skipper\n",
            "▶️ Lecture manuelle déclenchée\n",
            "⌛ Visionnage : 16s\n",
            "✅ Vue simulée\n"
          ]
        },
        {
          "name": "stderr",
          "output_type": "stream",
          "text": [
            "📊 Progression:  13%|██▌                | 132/1000 [1:49:11<11:37:37, 48.22s/it]"
          ]
        },
        {
          "name": "stdout",
          "output_type": "stream",
          "text": [
            "\n",
            "🔥 Vue n°133\n",
            "📺 Ouverture de https://www.youtube.com/watch?v=FyznRjoS8pM\n",
            "📜 JS 'Lire la suite' cliqué\n",
            "🛡️ JS 'Tout refuser' cliqué\n",
            "⏳ Pas de pub à skipper\n",
            "▶️ Lecture manuelle déclenchée\n",
            "⌛ Visionnage : 17s\n",
            "✅ Vue simulée\n"
          ]
        },
        {
          "name": "stderr",
          "output_type": "stream",
          "text": [
            "📊 Progression:  13%|██▌                | 133/1000 [1:49:58<11:29:11, 47.69s/it]"
          ]
        },
        {
          "name": "stdout",
          "output_type": "stream",
          "text": [
            "\n",
            "🔥 Vue n°134\n",
            "📺 Ouverture de https://www.youtube.com/watch?v=FyznRjoS8pM\n",
            "📜 JS 'Lire la suite' cliqué\n",
            "🛡️ JS 'Tout refuser' cliqué\n",
            "⏳ Pas de pub à skipper\n",
            "▶️ Lecture manuelle déclenchée\n",
            "⌛ Visionnage : 16s\n",
            "✅ Vue simulée\n"
          ]
        },
        {
          "name": "stderr",
          "output_type": "stream",
          "text": [
            "📊 Progression:  13%|██▌                | 134/1000 [1:50:47<11:35:32, 48.19s/it]"
          ]
        },
        {
          "name": "stdout",
          "output_type": "stream",
          "text": [
            "\n",
            "🔥 Vue n°135\n",
            "📺 Ouverture de https://www.youtube.com/watch?v=FyznRjoS8pM\n",
            "📜 JS 'Lire la suite' cliqué\n",
            "🛡️ JS 'Tout refuser' cliqué\n",
            "⏳ Pas de pub à skipper\n",
            "▶️ Lecture manuelle déclenchée\n",
            "⌛ Visionnage : 16s\n",
            "✅ Vue simulée\n"
          ]
        },
        {
          "name": "stderr",
          "output_type": "stream",
          "text": [
            "📊 Progression:  14%|██▌                | 135/1000 [1:51:36<11:40:03, 48.56s/it]"
          ]
        },
        {
          "name": "stdout",
          "output_type": "stream",
          "text": [
            "\n",
            "🔥 Vue n°136\n",
            "📺 Ouverture de https://www.youtube.com/watch?v=FyznRjoS8pM\n",
            "📜 JS 'Lire la suite' cliqué\n",
            "🛡️ JS 'Tout refuser' cliqué\n",
            "⏳ Pas de pub à skipper\n",
            "▶️ Lecture manuelle déclenchée\n",
            "⌛ Visionnage : 17s\n",
            "✅ Vue simulée\n"
          ]
        },
        {
          "name": "stderr",
          "output_type": "stream",
          "text": [
            "📊 Progression:  14%|██▌                | 136/1000 [1:52:21<11:21:25, 47.32s/it]"
          ]
        },
        {
          "name": "stdout",
          "output_type": "stream",
          "text": [
            "\n",
            "🔥 Vue n°137\n",
            "📺 Ouverture de https://www.youtube.com/watch?v=FyznRjoS8pM\n",
            "📜 JS 'Lire la suite' cliqué\n",
            "🛡️ JS 'Tout refuser' cliqué\n",
            "⏳ Pas de pub à skipper\n",
            "▶️ Lecture manuelle déclenchée\n",
            "⌛ Visionnage : 15s\n",
            "✅ Vue simulée\n"
          ]
        },
        {
          "name": "stderr",
          "output_type": "stream",
          "text": [
            "📊 Progression:  14%|██▌                | 137/1000 [1:53:07<11:17:42, 47.12s/it]"
          ]
        },
        {
          "name": "stdout",
          "output_type": "stream",
          "text": [
            "\n",
            "🔥 Vue n°138\n",
            "📺 Ouverture de https://www.youtube.com/watch?v=FyznRjoS8pM\n",
            "📜 JS 'Lire la suite' cliqué\n",
            "🛡️ JS 'Tout refuser' cliqué\n",
            "⏳ Pas de pub à skipper\n",
            "▶️ Lecture manuelle déclenchée\n",
            "⌛ Visionnage : 17s\n",
            "✅ Vue simulée\n"
          ]
        },
        {
          "name": "stderr",
          "output_type": "stream",
          "text": [
            "📊 Progression:  14%|██▌                | 138/1000 [1:53:55<11:18:55, 47.26s/it]"
          ]
        },
        {
          "name": "stdout",
          "output_type": "stream",
          "text": [
            "\n",
            "🔥 Vue n°139\n",
            "📺 Ouverture de https://www.youtube.com/watch?v=FyznRjoS8pM\n",
            "📜 JS 'Lire la suite' cliqué\n",
            "🛡️ JS 'Tout refuser' cliqué\n",
            "⏳ Pas de pub à skipper\n",
            "▶️ Lecture manuelle déclenchée\n",
            "⌛ Visionnage : 16s\n",
            "✅ Vue simulée\n"
          ]
        },
        {
          "name": "stderr",
          "output_type": "stream",
          "text": [
            "📊 Progression:  14%|██▋                | 139/1000 [1:54:49<11:45:13, 49.14s/it]"
          ]
        },
        {
          "name": "stdout",
          "output_type": "stream",
          "text": [
            "\n",
            "🔥 Vue n°140\n",
            "📺 Ouverture de https://www.youtube.com/watch?v=FyznRjoS8pM\n",
            "📜 JS 'Lire la suite' cliqué\n",
            "🛡️ JS 'Tout refuser' cliqué\n",
            "⏳ Pas de pub à skipper\n",
            "▶️ Lecture manuelle déclenchée\n",
            "⌛ Visionnage : 15s\n",
            "✅ Vue simulée\n"
          ]
        },
        {
          "name": "stderr",
          "output_type": "stream",
          "text": [
            "📊 Progression:  14%|██▋                | 140/1000 [1:55:35<11:30:51, 48.20s/it]"
          ]
        },
        {
          "name": "stdout",
          "output_type": "stream",
          "text": [
            "\n",
            "🔥 Vue n°141\n",
            "📺 Ouverture de https://www.youtube.com/watch?v=FyznRjoS8pM\n",
            "📜 JS 'Lire la suite' cliqué\n",
            "🛡️ JS 'Tout refuser' cliqué\n",
            "⏳ Pas de pub à skipper\n",
            "▶️ Lecture manuelle déclenchée\n",
            "⌛ Visionnage : 15s\n",
            "✅ Vue simulée\n"
          ]
        },
        {
          "name": "stderr",
          "output_type": "stream",
          "text": [
            "📊 Progression:  14%|██▋                | 141/1000 [1:56:23<11:30:09, 48.21s/it]"
          ]
        },
        {
          "name": "stdout",
          "output_type": "stream",
          "text": [
            "\n",
            "🔥 Vue n°142\n",
            "📺 Ouverture de https://www.youtube.com/watch?v=FyznRjoS8pM\n",
            "📜 JS 'Lire la suite' cliqué\n",
            "🛡️ JS 'Tout refuser' cliqué\n",
            "⏳ Pas de pub à skipper\n",
            "▶️ Lecture manuelle déclenchée\n",
            "⌛ Visionnage : 16s\n",
            "✅ Vue simulée\n"
          ]
        },
        {
          "name": "stderr",
          "output_type": "stream",
          "text": [
            "📊 Progression:  14%|██▋                | 142/1000 [1:57:12<11:34:30, 48.57s/it]"
          ]
        },
        {
          "name": "stdout",
          "output_type": "stream",
          "text": [
            "\n",
            "🔥 Vue n°143\n",
            "📺 Ouverture de https://www.youtube.com/watch?v=FyznRjoS8pM\n",
            "📜 JS 'Lire la suite' cliqué\n",
            "🛡️ JS 'Tout refuser' cliqué\n",
            "⏳ Pas de pub à skipper\n",
            "▶️ Lecture manuelle déclenchée\n",
            "⌛ Visionnage : 15s\n",
            "✅ Vue simulée\n"
          ]
        },
        {
          "name": "stderr",
          "output_type": "stream",
          "text": [
            "📊 Progression:  14%|██▋                | 143/1000 [1:57:58<11:23:35, 47.86s/it]"
          ]
        },
        {
          "name": "stdout",
          "output_type": "stream",
          "text": [
            "\n",
            "🔥 Vue n°144\n",
            "📺 Ouverture de https://www.youtube.com/watch?v=FyznRjoS8pM\n",
            "📜 JS 'Lire la suite' cliqué\n",
            "🛡️ JS 'Tout refuser' cliqué\n",
            "⏳ Pas de pub à skipper\n",
            "▶️ Lecture manuelle déclenchée\n",
            "⌛ Visionnage : 15s\n",
            "✅ Vue simulée\n"
          ]
        },
        {
          "name": "stderr",
          "output_type": "stream",
          "text": [
            "📊 Progression:  14%|██▋                | 144/1000 [1:58:46<11:20:58, 47.73s/it]"
          ]
        },
        {
          "name": "stdout",
          "output_type": "stream",
          "text": [
            "\n",
            "🔥 Vue n°145\n",
            "📺 Ouverture de https://www.youtube.com/watch?v=FyznRjoS8pM\n",
            "📜 JS 'Lire la suite' cliqué\n",
            "🛡️ JS 'Tout refuser' cliqué\n",
            "⏳ Pas de pub à skipper\n",
            "▶️ Lecture manuelle déclenchée\n",
            "⌛ Visionnage : 15s\n",
            "✅ Vue simulée\n"
          ]
        },
        {
          "name": "stderr",
          "output_type": "stream",
          "text": [
            "📊 Progression:  14%|██▊                | 145/1000 [1:59:31<11:10:38, 47.06s/it]"
          ]
        },
        {
          "name": "stdout",
          "output_type": "stream",
          "text": [
            "\n",
            "🔥 Vue n°146\n",
            "📺 Ouverture de https://www.youtube.com/watch?v=FyznRjoS8pM\n",
            "📜 JS 'Lire la suite' cliqué\n",
            "🛡️ JS 'Tout refuser' cliqué\n",
            "⏳ Pas de pub à skipper\n",
            "⏯️ Vidéo déjà en lecture ou bouton non détecté\n",
            "⌛ Visionnage : 16s\n",
            "✅ Vue simulée\n"
          ]
        },
        {
          "name": "stderr",
          "output_type": "stream",
          "text": [
            "📊 Progression:  15%|██▊                | 146/1000 [2:00:19<11:12:09, 47.22s/it]"
          ]
        },
        {
          "name": "stdout",
          "output_type": "stream",
          "text": [
            "\n",
            "🔥 Vue n°147\n",
            "📺 Ouverture de https://www.youtube.com/watch?v=FyznRjoS8pM\n",
            "📜 JS 'Lire la suite' cliqué\n",
            "🛡️ JS 'Tout refuser' cliqué\n",
            "⏳ Pas de pub à skipper\n",
            "▶️ Lecture manuelle déclenchée\n",
            "⌛ Visionnage : 17s\n",
            "✅ Vue simulée\n"
          ]
        },
        {
          "name": "stderr",
          "output_type": "stream",
          "text": [
            "📊 Progression:  15%|██▊                | 147/1000 [2:01:06<11:12:03, 47.27s/it]"
          ]
        },
        {
          "name": "stdout",
          "output_type": "stream",
          "text": [
            "\n",
            "🔥 Vue n°148\n",
            "📺 Ouverture de https://www.youtube.com/watch?v=FyznRjoS8pM\n",
            "📜 JS 'Lire la suite' cliqué\n",
            "🛡️ JS 'Tout refuser' cliqué\n",
            "⏳ Pas de pub à skipper\n",
            "▶️ Lecture manuelle déclenchée\n",
            "⌛ Visionnage : 16s\n",
            "✅ Vue simulée\n"
          ]
        },
        {
          "name": "stderr",
          "output_type": "stream",
          "text": [
            "📊 Progression:  15%|██▊                | 148/1000 [2:01:59<11:34:29, 48.91s/it]"
          ]
        },
        {
          "name": "stdout",
          "output_type": "stream",
          "text": [
            "\n",
            "🔥 Vue n°149\n",
            "📺 Ouverture de https://www.youtube.com/watch?v=FyznRjoS8pM\n",
            "📜 JS 'Lire la suite' cliqué\n",
            "🛡️ JS 'Tout refuser' cliqué\n",
            "⏳ Pas de pub à skipper\n",
            "▶️ Lecture manuelle déclenchée\n",
            "⌛ Visionnage : 15s\n",
            "✅ Vue simulée\n"
          ]
        },
        {
          "name": "stderr",
          "output_type": "stream",
          "text": [
            "📊 Progression:  15%|██▊                | 149/1000 [2:02:47<11:30:13, 48.66s/it]"
          ]
        },
        {
          "name": "stdout",
          "output_type": "stream",
          "text": [
            "\n",
            "🔥 Vue n°150\n",
            "📺 Ouverture de https://www.youtube.com/watch?v=FyznRjoS8pM\n",
            "📜 JS 'Lire la suite' cliqué\n",
            "🛡️ JS 'Tout refuser' cliqué\n",
            "⏳ Pas de pub à skipper\n",
            "▶️ Lecture manuelle déclenchée\n",
            "⌛ Visionnage : 16s\n",
            "✅ Vue simulée\n"
          ]
        },
        {
          "name": "stderr",
          "output_type": "stream",
          "text": [
            "📊 Progression:  15%|██▊                | 150/1000 [2:03:34<11:23:34, 48.25s/it]"
          ]
        },
        {
          "name": "stdout",
          "output_type": "stream",
          "text": [
            "\n",
            "🔥 Vue n°151\n",
            "📺 Ouverture de https://www.youtube.com/watch?v=FyznRjoS8pM\n",
            "📜 JS 'Lire la suite' cliqué\n",
            "🛡️ JS 'Tout refuser' cliqué\n",
            "⏳ Pas de pub à skipper\n",
            "▶️ Lecture manuelle déclenchée\n",
            "⌛ Visionnage : 17s\n",
            "✅ Vue simulée\n"
          ]
        },
        {
          "name": "stderr",
          "output_type": "stream",
          "text": [
            "📊 Progression:  15%|██▊                | 151/1000 [2:04:25<11:30:41, 48.81s/it]"
          ]
        },
        {
          "name": "stdout",
          "output_type": "stream",
          "text": [
            "\n",
            "🔥 Vue n°152\n",
            "📺 Ouverture de https://www.youtube.com/watch?v=FyznRjoS8pM\n",
            "📜 JS 'Lire la suite' cliqué\n",
            "🛡️ JS 'Tout refuser' cliqué\n",
            "⏳ Pas de pub à skipper\n",
            "▶️ Lecture manuelle déclenchée\n",
            "⌛ Visionnage : 17s\n",
            "✅ Vue simulée\n"
          ]
        },
        {
          "name": "stderr",
          "output_type": "stream",
          "text": [
            "📊 Progression:  15%|██▉                | 152/1000 [2:05:14<11:34:20, 49.13s/it]"
          ]
        },
        {
          "name": "stdout",
          "output_type": "stream",
          "text": [
            "\n",
            "🔥 Vue n°153\n",
            "📺 Ouverture de https://www.youtube.com/watch?v=FyznRjoS8pM\n",
            "📜 JS 'Lire la suite' cliqué\n",
            "🛡️ JS 'Tout refuser' cliqué\n",
            "⏳ Pas de pub à skipper\n",
            "▶️ Lecture manuelle déclenchée\n",
            "⌛ Visionnage : 15s\n",
            "✅ Vue simulée\n"
          ]
        },
        {
          "name": "stderr",
          "output_type": "stream",
          "text": [
            "📊 Progression:  15%|██▉                | 153/1000 [2:06:08<11:54:12, 50.59s/it]"
          ]
        },
        {
          "name": "stdout",
          "output_type": "stream",
          "text": [
            "\n",
            "🔥 Vue n°154\n",
            "📺 Ouverture de https://www.youtube.com/watch?v=FyznRjoS8pM\n",
            "📜 JS 'Lire la suite' cliqué\n",
            "🛡️ JS 'Tout refuser' cliqué\n",
            "⏳ Pas de pub à skipper\n",
            "▶️ Lecture manuelle déclenchée\n",
            "⌛ Visionnage : 17s\n",
            "✅ Vue simulée\n"
          ]
        },
        {
          "name": "stderr",
          "output_type": "stream",
          "text": [
            "📊 Progression:  15%|██▉                | 154/1000 [2:06:58<11:50:09, 50.37s/it]"
          ]
        },
        {
          "name": "stdout",
          "output_type": "stream",
          "text": [
            "\n",
            "🔥 Vue n°155\n",
            "📺 Ouverture de https://www.youtube.com/watch?v=FyznRjoS8pM\n",
            "📜 JS 'Lire la suite' cliqué\n",
            "🛡️ JS 'Tout refuser' cliqué\n",
            "⏳ Pas de pub à skipper\n",
            "▶️ Lecture manuelle déclenchée\n",
            "⌛ Visionnage : 16s\n",
            "✅ Vue simulée\n"
          ]
        },
        {
          "name": "stderr",
          "output_type": "stream",
          "text": [
            "📊 Progression:  16%|██▉                | 155/1000 [2:07:45<11:33:45, 49.26s/it]"
          ]
        },
        {
          "name": "stdout",
          "output_type": "stream",
          "text": [
            "\n",
            "🔥 Vue n°156\n",
            "📺 Ouverture de https://www.youtube.com/watch?v=FyznRjoS8pM\n",
            "📜 JS 'Lire la suite' cliqué\n",
            "🛡️ JS 'Tout refuser' cliqué\n",
            "⏳ Pas de pub à skipper\n",
            "▶️ Lecture manuelle déclenchée\n",
            "⌛ Visionnage : 17s\n",
            "✅ Vue simulée\n"
          ]
        },
        {
          "name": "stderr",
          "output_type": "stream",
          "text": [
            "📊 Progression:  16%|██▉                | 156/1000 [2:08:31<11:19:33, 48.31s/it]"
          ]
        },
        {
          "name": "stdout",
          "output_type": "stream",
          "text": [
            "\n",
            "🔥 Vue n°157\n",
            "📺 Ouverture de https://www.youtube.com/watch?v=FyznRjoS8pM\n",
            "📜 JS 'Lire la suite' cliqué\n",
            "🛡️ JS 'Tout refuser' cliqué\n",
            "⏳ Pas de pub à skipper\n",
            "▶️ Lecture manuelle déclenchée\n",
            "⌛ Visionnage : 15s\n",
            "✅ Vue simulée\n"
          ]
        },
        {
          "name": "stderr",
          "output_type": "stream",
          "text": [
            "📊 Progression:  16%|██▉                | 157/1000 [2:09:24<11:36:29, 49.57s/it]"
          ]
        },
        {
          "name": "stdout",
          "output_type": "stream",
          "text": [
            "\n",
            "🔥 Vue n°158\n",
            "📺 Ouverture de https://www.youtube.com/watch?v=FyznRjoS8pM\n",
            "📜 JS 'Lire la suite' cliqué\n",
            "🛡️ JS 'Tout refuser' cliqué\n",
            "⏳ Pas de pub à skipper\n",
            "▶️ Lecture manuelle déclenchée\n",
            "⌛ Visionnage : 15s\n",
            "✅ Vue simulée\n"
          ]
        },
        {
          "name": "stderr",
          "output_type": "stream",
          "text": [
            "📊 Progression:  16%|███                | 158/1000 [2:10:10<11:23:43, 48.72s/it]"
          ]
        },
        {
          "name": "stdout",
          "output_type": "stream",
          "text": [
            "\n",
            "🔥 Vue n°159\n",
            "📺 Ouverture de https://www.youtube.com/watch?v=FyznRjoS8pM\n",
            "📜 JS 'Lire la suite' cliqué\n",
            "🛡️ JS 'Tout refuser' cliqué\n",
            "⏳ Pas de pub à skipper\n",
            "▶️ Lecture manuelle déclenchée\n",
            "⌛ Visionnage : 17s\n",
            "✅ Vue simulée\n"
          ]
        },
        {
          "name": "stderr",
          "output_type": "stream",
          "text": [
            "📊 Progression:  16%|███                | 159/1000 [2:11:00<11:27:59, 49.08s/it]"
          ]
        },
        {
          "name": "stdout",
          "output_type": "stream",
          "text": [
            "\n",
            "🔥 Vue n°160\n",
            "📺 Ouverture de https://www.youtube.com/watch?v=FyznRjoS8pM\n",
            "📜 JS 'Lire la suite' cliqué\n",
            "🛡️ JS 'Tout refuser' cliqué\n",
            "⏳ Pas de pub à skipper\n",
            "▶️ Lecture manuelle déclenchée\n",
            "⌛ Visionnage : 16s\n",
            "✅ Vue simulée\n"
          ]
        },
        {
          "name": "stderr",
          "output_type": "stream",
          "text": [
            "📊 Progression:  16%|███                | 160/1000 [2:11:50<11:29:15, 49.23s/it]"
          ]
        },
        {
          "name": "stdout",
          "output_type": "stream",
          "text": [
            "\n",
            "🔥 Vue n°161\n",
            "📺 Ouverture de https://www.youtube.com/watch?v=FyznRjoS8pM\n",
            "📜 JS 'Lire la suite' cliqué\n",
            "🛡️ JS 'Tout refuser' cliqué\n",
            "⏳ Pas de pub à skipper\n",
            "▶️ Lecture manuelle déclenchée\n",
            "⌛ Visionnage : 16s\n",
            "✅ Vue simulée\n"
          ]
        },
        {
          "name": "stderr",
          "output_type": "stream",
          "text": [
            "📊 Progression:  16%|███                | 161/1000 [2:12:41<11:35:00, 49.70s/it]"
          ]
        },
        {
          "name": "stdout",
          "output_type": "stream",
          "text": [
            "\n",
            "🔥 Vue n°162\n",
            "📺 Ouverture de https://www.youtube.com/watch?v=FyznRjoS8pM\n",
            "📜 JS 'Lire la suite' cliqué\n",
            "🛡️ JS 'Tout refuser' cliqué\n",
            "⏳ Pas de pub à skipper\n",
            "▶️ Lecture manuelle déclenchée\n",
            "⌛ Visionnage : 15s\n",
            "✅ Vue simulée\n"
          ]
        },
        {
          "name": "stderr",
          "output_type": "stream",
          "text": [
            "📊 Progression:  16%|███                | 162/1000 [2:13:29<11:29:39, 49.38s/it]"
          ]
        },
        {
          "name": "stdout",
          "output_type": "stream",
          "text": [
            "\n",
            "🔥 Vue n°163\n",
            "📺 Ouverture de https://www.youtube.com/watch?v=FyznRjoS8pM\n",
            "📜 JS 'Lire la suite' cliqué\n",
            "🛡️ JS 'Tout refuser' cliqué\n",
            "⏳ Pas de pub à skipper\n",
            "▶️ Lecture manuelle déclenchée\n",
            "⌛ Visionnage : 15s\n",
            "✅ Vue simulée\n"
          ]
        },
        {
          "name": "stderr",
          "output_type": "stream",
          "text": [
            "📊 Progression:  16%|███                | 163/1000 [2:14:19<11:31:47, 49.59s/it]"
          ]
        },
        {
          "name": "stdout",
          "output_type": "stream",
          "text": [
            "\n",
            "🔥 Vue n°164\n",
            "📺 Ouverture de https://www.youtube.com/watch?v=FyznRjoS8pM\n",
            "📜 JS 'Lire la suite' cliqué\n",
            "🛡️ JS 'Tout refuser' cliqué\n",
            "⏳ Pas de pub à skipper\n",
            "⏯️ Vidéo déjà en lecture ou bouton non détecté\n",
            "⌛ Visionnage : 15s\n",
            "✅ Vue simulée\n"
          ]
        },
        {
          "name": "stderr",
          "output_type": "stream",
          "text": [
            "📊 Progression:  16%|███                | 164/1000 [2:15:04<11:09:20, 48.04s/it]"
          ]
        },
        {
          "name": "stdout",
          "output_type": "stream",
          "text": [
            "\n",
            "🔥 Vue n°165\n",
            "📺 Ouverture de https://www.youtube.com/watch?v=FyznRjoS8pM\n",
            "📜 JS 'Lire la suite' cliqué\n",
            "🛡️ JS 'Tout refuser' cliqué\n",
            "⏳ Pas de pub à skipper\n",
            "▶️ Lecture manuelle déclenchée\n",
            "⌛ Visionnage : 15s\n",
            "✅ Vue simulée\n"
          ]
        },
        {
          "name": "stderr",
          "output_type": "stream",
          "text": [
            "📊 Progression:  16%|███▏               | 165/1000 [2:15:53<11:14:18, 48.45s/it]"
          ]
        },
        {
          "name": "stdout",
          "output_type": "stream",
          "text": [
            "\n",
            "🔥 Vue n°166\n",
            "📺 Ouverture de https://www.youtube.com/watch?v=FyznRjoS8pM\n",
            "📜 JS 'Lire la suite' cliqué\n",
            "🛡️ JS 'Tout refuser' cliqué\n",
            "⏳ Pas de pub à skipper\n",
            "▶️ Lecture manuelle déclenchée\n",
            "⌛ Visionnage : 15s\n",
            "✅ Vue simulée\n"
          ]
        },
        {
          "name": "stderr",
          "output_type": "stream",
          "text": [
            "📊 Progression:  17%|███▏               | 166/1000 [2:16:44<11:24:11, 49.22s/it]"
          ]
        },
        {
          "name": "stdout",
          "output_type": "stream",
          "text": [
            "\n",
            "🔥 Vue n°167\n",
            "📺 Ouverture de https://www.youtube.com/watch?v=FyznRjoS8pM\n",
            "📜 JS 'Lire la suite' cliqué\n",
            "🛡️ JS 'Tout refuser' cliqué\n",
            "⏳ Pas de pub à skipper\n",
            "▶️ Lecture manuelle déclenchée\n",
            "⌛ Visionnage : 16s\n",
            "✅ Vue simulée\n"
          ]
        },
        {
          "name": "stderr",
          "output_type": "stream",
          "text": [
            "📊 Progression:  17%|███▏               | 167/1000 [2:17:32<11:17:06, 48.77s/it]"
          ]
        },
        {
          "name": "stdout",
          "output_type": "stream",
          "text": [
            "\n",
            "🔥 Vue n°168\n",
            "📺 Ouverture de https://www.youtube.com/watch?v=FyznRjoS8pM\n",
            "📜 JS 'Lire la suite' cliqué\n",
            "🛡️ JS 'Tout refuser' cliqué\n",
            "⏳ Pas de pub à skipper\n",
            "▶️ Lecture manuelle déclenchée\n",
            "⌛ Visionnage : 16s\n",
            "✅ Vue simulée\n"
          ]
        },
        {
          "name": "stderr",
          "output_type": "stream",
          "text": [
            "📊 Progression:  17%|███▏               | 168/1000 [2:18:20<11:14:49, 48.67s/it]"
          ]
        },
        {
          "name": "stdout",
          "output_type": "stream",
          "text": [
            "\n",
            "🔥 Vue n°169\n",
            "📺 Ouverture de https://www.youtube.com/watch?v=FyznRjoS8pM\n",
            "📜 JS 'Lire la suite' cliqué\n",
            "🛡️ JS 'Tout refuser' cliqué\n",
            "⏳ Pas de pub à skipper\n",
            "▶️ Lecture manuelle déclenchée\n",
            "⌛ Visionnage : 17s\n",
            "✅ Vue simulée\n"
          ]
        },
        {
          "name": "stderr",
          "output_type": "stream",
          "text": [
            "📊 Progression:  17%|███▏               | 169/1000 [2:19:15<11:38:22, 50.42s/it]"
          ]
        },
        {
          "name": "stdout",
          "output_type": "stream",
          "text": [
            "\n",
            "🔥 Vue n°170\n",
            "📺 Ouverture de https://www.youtube.com/watch?v=FyznRjoS8pM\n",
            "📜 JS 'Lire la suite' cliqué\n",
            "🛡️ JS 'Tout refuser' cliqué\n",
            "⏳ Pas de pub à skipper\n",
            "▶️ Lecture manuelle déclenchée\n",
            "⌛ Visionnage : 15s\n",
            "✅ Vue simulée\n"
          ]
        },
        {
          "name": "stderr",
          "output_type": "stream",
          "text": [
            "📊 Progression:  17%|███▏               | 170/1000 [2:20:05<11:38:39, 50.51s/it]"
          ]
        },
        {
          "name": "stdout",
          "output_type": "stream",
          "text": [
            "\n",
            "🔥 Vue n°171\n",
            "📺 Ouverture de https://www.youtube.com/watch?v=FyznRjoS8pM\n",
            "📜 JS 'Lire la suite' cliqué\n",
            "🛡️ JS 'Tout refuser' cliqué\n",
            "⏳ Pas de pub à skipper\n",
            "▶️ Lecture manuelle déclenchée\n",
            "⌛ Visionnage : 15s\n",
            "✅ Vue simulée\n"
          ]
        },
        {
          "name": "stderr",
          "output_type": "stream",
          "text": [
            "📊 Progression:  17%|███▏               | 171/1000 [2:21:00<11:54:56, 51.74s/it]"
          ]
        },
        {
          "name": "stdout",
          "output_type": "stream",
          "text": [
            "\n",
            "🔥 Vue n°172\n",
            "📺 Ouverture de https://www.youtube.com/watch?v=FyznRjoS8pM\n",
            "📜 JS 'Lire la suite' cliqué\n",
            "🛡️ JS 'Tout refuser' cliqué\n",
            "⏳ Pas de pub à skipper\n",
            "▶️ Lecture manuelle déclenchée\n",
            "⌛ Visionnage : 17s\n",
            "✅ Vue simulée\n"
          ]
        },
        {
          "name": "stderr",
          "output_type": "stream",
          "text": [
            "📊 Progression:  17%|███▎               | 172/1000 [2:21:51<11:51:07, 51.53s/it]"
          ]
        },
        {
          "name": "stdout",
          "output_type": "stream",
          "text": [
            "\n",
            "🔥 Vue n°173\n",
            "📺 Ouverture de https://www.youtube.com/watch?v=FyznRjoS8pM\n",
            "📜 JS 'Lire la suite' cliqué\n",
            "🛡️ JS 'Tout refuser' cliqué\n",
            "⏳ Pas de pub à skipper\n",
            "▶️ Lecture manuelle déclenchée\n",
            "⌛ Visionnage : 17s\n",
            "✅ Vue simulée\n"
          ]
        },
        {
          "name": "stderr",
          "output_type": "stream",
          "text": [
            "📊 Progression:  17%|███▎               | 173/1000 [2:22:44<11:54:40, 51.85s/it]"
          ]
        },
        {
          "name": "stdout",
          "output_type": "stream",
          "text": [
            "\n",
            "🔥 Vue n°174\n",
            "📺 Ouverture de https://www.youtube.com/watch?v=FyznRjoS8pM\n",
            "📜 JS 'Lire la suite' cliqué\n",
            "🛡️ JS 'Tout refuser' cliqué\n",
            "⏳ Pas de pub à skipper\n",
            "▶️ Lecture manuelle déclenchée\n",
            "⌛ Visionnage : 17s\n",
            "✅ Vue simulée\n"
          ]
        },
        {
          "name": "stderr",
          "output_type": "stream",
          "text": [
            "📊 Progression:  17%|███▎               | 174/1000 [2:23:34<11:46:02, 51.29s/it]"
          ]
        },
        {
          "name": "stdout",
          "output_type": "stream",
          "text": [
            "\n",
            "🔥 Vue n°175\n",
            "📺 Ouverture de https://www.youtube.com/watch?v=FyznRjoS8pM\n",
            "📜 JS 'Lire la suite' cliqué\n",
            "🛡️ JS 'Tout refuser' cliqué\n",
            "⏳ Pas de pub à skipper\n",
            "▶️ Lecture manuelle déclenchée\n",
            "⌛ Visionnage : 15s\n",
            "✅ Vue simulée\n"
          ]
        },
        {
          "name": "stderr",
          "output_type": "stream",
          "text": [
            "📊 Progression:  18%|███▎               | 175/1000 [2:24:19<11:19:53, 49.45s/it]"
          ]
        },
        {
          "name": "stdout",
          "output_type": "stream",
          "text": [
            "\n",
            "🔥 Vue n°176\n",
            "📺 Ouverture de https://www.youtube.com/watch?v=FyznRjoS8pM\n",
            "📜 JS 'Lire la suite' cliqué\n",
            "🛡️ JS 'Tout refuser' cliqué\n",
            "⏳ Pas de pub à skipper\n",
            "▶️ Lecture manuelle déclenchée\n",
            "⌛ Visionnage : 15s\n",
            "✅ Vue simulée\n"
          ]
        },
        {
          "name": "stderr",
          "output_type": "stream",
          "text": [
            "📊 Progression:  18%|███▎               | 176/1000 [2:25:07<11:15:16, 49.17s/it]"
          ]
        },
        {
          "name": "stdout",
          "output_type": "stream",
          "text": [
            "\n",
            "🔥 Vue n°177\n",
            "📺 Ouverture de https://www.youtube.com/watch?v=FyznRjoS8pM\n",
            "📜 JS 'Lire la suite' cliqué\n",
            "🛡️ JS 'Tout refuser' cliqué\n",
            "⏳ Pas de pub à skipper\n",
            "▶️ Lecture manuelle déclenchée\n",
            "⌛ Visionnage : 15s\n",
            "✅ Vue simulée\n"
          ]
        },
        {
          "name": "stderr",
          "output_type": "stream",
          "text": [
            "📊 Progression:  18%|███▎               | 177/1000 [2:25:58<11:18:17, 49.45s/it]"
          ]
        },
        {
          "name": "stdout",
          "output_type": "stream",
          "text": [
            "\n",
            "🔥 Vue n°178\n",
            "📺 Ouverture de https://www.youtube.com/watch?v=FyznRjoS8pM\n",
            "📜 JS 'Lire la suite' cliqué\n",
            "🛡️ JS 'Tout refuser' cliqué\n",
            "⏳ Pas de pub à skipper\n",
            "▶️ Lecture manuelle déclenchée\n",
            "⌛ Visionnage : 15s\n",
            "✅ Vue simulée\n"
          ]
        },
        {
          "name": "stderr",
          "output_type": "stream",
          "text": [
            "📊 Progression:  18%|███▍               | 178/1000 [2:26:52<11:38:38, 51.00s/it]"
          ]
        },
        {
          "name": "stdout",
          "output_type": "stream",
          "text": [
            "\n",
            "🔥 Vue n°179\n",
            "📺 Ouverture de https://www.youtube.com/watch?v=FyznRjoS8pM\n",
            "📜 JS 'Lire la suite' cliqué\n",
            "🛡️ JS 'Tout refuser' cliqué\n",
            "⏳ Pas de pub à skipper\n",
            "▶️ Lecture manuelle déclenchée\n",
            "⌛ Visionnage : 16s\n",
            "✅ Vue simulée\n"
          ]
        },
        {
          "name": "stderr",
          "output_type": "stream",
          "text": [
            "📊 Progression:  18%|███▍               | 179/1000 [2:27:39<11:21:14, 49.79s/it]"
          ]
        },
        {
          "name": "stdout",
          "output_type": "stream",
          "text": [
            "\n",
            "🔥 Vue n°180\n",
            "📺 Ouverture de https://www.youtube.com/watch?v=FyznRjoS8pM\n",
            "📜 JS 'Lire la suite' cliqué\n",
            "🛡️ JS 'Tout refuser' cliqué\n",
            "⏳ Pas de pub à skipper\n",
            "▶️ Lecture manuelle déclenchée\n",
            "⌛ Visionnage : 15s\n",
            "✅ Vue simulée\n"
          ]
        },
        {
          "name": "stderr",
          "output_type": "stream",
          "text": [
            "📊 Progression:  18%|███▍               | 180/1000 [2:28:31<11:29:24, 50.44s/it]"
          ]
        },
        {
          "name": "stdout",
          "output_type": "stream",
          "text": [
            "\n",
            "🔥 Vue n°181\n",
            "📺 Ouverture de https://www.youtube.com/watch?v=FyznRjoS8pM\n",
            "📜 JS 'Lire la suite' cliqué\n",
            "🛡️ JS 'Tout refuser' cliqué\n",
            "⏳ Pas de pub à skipper\n",
            "▶️ Lecture manuelle déclenchée\n",
            "⌛ Visionnage : 15s\n",
            "✅ Vue simulée\n"
          ]
        },
        {
          "name": "stderr",
          "output_type": "stream",
          "text": [
            "📊 Progression:  18%|███▍               | 181/1000 [2:29:19<11:20:17, 49.84s/it]"
          ]
        },
        {
          "name": "stdout",
          "output_type": "stream",
          "text": [
            "\n",
            "🔥 Vue n°182\n",
            "📺 Ouverture de https://www.youtube.com/watch?v=FyznRjoS8pM\n",
            "📜 JS 'Lire la suite' cliqué\n",
            "🛡️ JS 'Tout refuser' cliqué\n",
            "⏳ Pas de pub à skipper\n",
            "▶️ Lecture manuelle déclenchée\n",
            "⌛ Visionnage : 16s\n",
            "✅ Vue simulée\n"
          ]
        },
        {
          "name": "stderr",
          "output_type": "stream",
          "text": [
            "📊 Progression:  18%|███▍               | 182/1000 [2:30:11<11:27:32, 50.43s/it]"
          ]
        },
        {
          "name": "stdout",
          "output_type": "stream",
          "text": [
            "\n",
            "🔥 Vue n°183\n",
            "📺 Ouverture de https://www.youtube.com/watch?v=FyznRjoS8pM\n",
            "📜 JS 'Lire la suite' cliqué\n",
            "🛡️ JS 'Tout refuser' cliqué\n",
            "⏳ Pas de pub à skipper\n",
            "▶️ Lecture manuelle déclenchée\n",
            "⌛ Visionnage : 16s\n",
            "✅ Vue simulée\n"
          ]
        },
        {
          "name": "stderr",
          "output_type": "stream",
          "text": [
            "📊 Progression:  18%|███▍               | 183/1000 [2:31:00<11:20:31, 49.98s/it]"
          ]
        },
        {
          "name": "stdout",
          "output_type": "stream",
          "text": [
            "\n",
            "🔥 Vue n°184\n",
            "📺 Ouverture de https://www.youtube.com/watch?v=FyznRjoS8pM\n",
            "📜 JS 'Lire la suite' cliqué\n",
            "🛡️ JS 'Tout refuser' cliqué\n",
            "⏳ Pas de pub à skipper\n",
            "▶️ Lecture manuelle déclenchée\n",
            "⌛ Visionnage : 17s\n",
            "✅ Vue simulée\n"
          ]
        },
        {
          "name": "stderr",
          "output_type": "stream",
          "text": [
            "📊 Progression:  18%|███▍               | 184/1000 [2:31:52<11:26:50, 50.50s/it]"
          ]
        },
        {
          "name": "stdout",
          "output_type": "stream",
          "text": [
            "\n",
            "🔥 Vue n°185\n",
            "📺 Ouverture de https://www.youtube.com/watch?v=FyznRjoS8pM\n",
            "📜 JS 'Lire la suite' cliqué\n",
            "🛡️ JS 'Tout refuser' cliqué\n",
            "⏳ Pas de pub à skipper\n",
            "▶️ Lecture manuelle déclenchée\n",
            "⌛ Visionnage : 16s\n",
            "✅ Vue simulée\n"
          ]
        },
        {
          "name": "stderr",
          "output_type": "stream",
          "text": [
            "📊 Progression:  18%|███▌               | 185/1000 [2:32:43<11:27:54, 50.64s/it]"
          ]
        },
        {
          "name": "stdout",
          "output_type": "stream",
          "text": [
            "\n",
            "🔥 Vue n°186\n",
            "📺 Ouverture de https://www.youtube.com/watch?v=FyznRjoS8pM\n",
            "📜 JS 'Lire la suite' cliqué\n",
            "🛡️ JS 'Tout refuser' cliqué\n",
            "⏳ Pas de pub à skipper\n",
            "▶️ Lecture manuelle déclenchée\n",
            "⌛ Visionnage : 17s\n",
            "✅ Vue simulée\n"
          ]
        },
        {
          "name": "stderr",
          "output_type": "stream",
          "text": [
            "📊 Progression:  19%|███▌               | 186/1000 [2:33:35<11:31:09, 50.95s/it]"
          ]
        },
        {
          "name": "stdout",
          "output_type": "stream",
          "text": [
            "\n",
            "🔥 Vue n°187\n",
            "📺 Ouverture de https://www.youtube.com/watch?v=FyznRjoS8pM\n",
            "📜 JS 'Lire la suite' cliqué\n",
            "🛡️ JS 'Tout refuser' cliqué\n",
            "⏳ Pas de pub à skipper\n",
            "▶️ Lecture manuelle déclenchée\n",
            "⌛ Visionnage : 15s\n",
            "✅ Vue simulée\n"
          ]
        },
        {
          "name": "stderr",
          "output_type": "stream",
          "text": [
            "📊 Progression:  19%|███▌               | 187/1000 [2:34:25<11:28:49, 50.84s/it]"
          ]
        },
        {
          "name": "stdout",
          "output_type": "stream",
          "text": [
            "\n",
            "🔥 Vue n°188\n",
            "📺 Ouverture de https://www.youtube.com/watch?v=FyznRjoS8pM\n",
            "📜 JS 'Lire la suite' cliqué\n",
            "🛡️ JS 'Tout refuser' cliqué\n",
            "⏳ Pas de pub à skipper\n",
            "▶️ Lecture manuelle déclenchée\n",
            "⌛ Visionnage : 16s\n",
            "✅ Vue simulée\n"
          ]
        },
        {
          "name": "stderr",
          "output_type": "stream",
          "text": [
            "📊 Progression:  19%|███▌               | 188/1000 [2:35:17<11:33:29, 51.24s/it]"
          ]
        },
        {
          "name": "stdout",
          "output_type": "stream",
          "text": [
            "\n",
            "🔥 Vue n°189\n",
            "📺 Ouverture de https://www.youtube.com/watch?v=FyznRjoS8pM\n",
            "📜 JS 'Lire la suite' cliqué\n",
            "🛡️ JS 'Tout refuser' cliqué\n",
            "⏳ Pas de pub à skipper\n",
            "▶️ Lecture manuelle déclenchée\n",
            "⌛ Visionnage : 17s\n",
            "✅ Vue simulée\n"
          ]
        },
        {
          "name": "stderr",
          "output_type": "stream",
          "text": [
            "📊 Progression:  19%|███▌               | 189/1000 [2:36:05<11:19:46, 50.29s/it]"
          ]
        },
        {
          "name": "stdout",
          "output_type": "stream",
          "text": [
            "\n",
            "🔥 Vue n°190\n",
            "📺 Ouverture de https://www.youtube.com/watch?v=FyznRjoS8pM\n",
            "📜 JS 'Lire la suite' cliqué\n",
            "🛡️ JS 'Tout refuser' cliqué\n",
            "⏳ Pas de pub à skipper\n",
            "▶️ Lecture manuelle déclenchée\n",
            "⌛ Visionnage : 17s\n",
            "✅ Vue simulée\n"
          ]
        },
        {
          "name": "stderr",
          "output_type": "stream",
          "text": [
            "📊 Progression:  19%|███▌               | 190/1000 [2:36:55<11:16:44, 50.13s/it]"
          ]
        },
        {
          "name": "stdout",
          "output_type": "stream",
          "text": [
            "\n",
            "🔥 Vue n°191\n",
            "📺 Ouverture de https://www.youtube.com/watch?v=FyznRjoS8pM\n",
            "📜 JS 'Lire la suite' cliqué\n",
            "🛡️ JS 'Tout refuser' cliqué\n",
            "⏳ Pas de pub à skipper\n",
            "▶️ Lecture manuelle déclenchée\n",
            "⌛ Visionnage : 15s\n",
            "✅ Vue simulée\n"
          ]
        },
        {
          "name": "stderr",
          "output_type": "stream",
          "text": [
            "📊 Progression:  19%|███▋               | 191/1000 [2:37:43<11:05:08, 49.33s/it]"
          ]
        },
        {
          "name": "stdout",
          "output_type": "stream",
          "text": [
            "\n",
            "🔥 Vue n°192\n",
            "📺 Ouverture de https://www.youtube.com/watch?v=FyznRjoS8pM\n",
            "📜 JS 'Lire la suite' cliqué\n",
            "🛡️ JS 'Tout refuser' cliqué\n",
            "⏳ Pas de pub à skipper\n",
            "▶️ Lecture manuelle déclenchée\n",
            "⌛ Visionnage : 16s\n",
            "✅ Vue simulée\n"
          ]
        },
        {
          "name": "stderr",
          "output_type": "stream",
          "text": [
            "📊 Progression:  19%|███▋               | 192/1000 [2:38:34<11:14:15, 50.07s/it]"
          ]
        },
        {
          "name": "stdout",
          "output_type": "stream",
          "text": [
            "\n",
            "🔥 Vue n°193\n",
            "📺 Ouverture de https://www.youtube.com/watch?v=FyznRjoS8pM\n",
            "📜 JS 'Lire la suite' cliqué\n",
            "🛡️ JS 'Tout refuser' cliqué\n",
            "⏳ Pas de pub à skipper\n",
            "▶️ Lecture manuelle déclenchée\n",
            "⌛ Visionnage : 16s\n",
            "✅ Vue simulée\n"
          ]
        },
        {
          "name": "stderr",
          "output_type": "stream",
          "text": [
            "📊 Progression:  19%|███▋               | 193/1000 [2:39:29<11:31:34, 51.42s/it]"
          ]
        },
        {
          "name": "stdout",
          "output_type": "stream",
          "text": [
            "\n",
            "🔥 Vue n°194\n",
            "📺 Ouverture de https://www.youtube.com/watch?v=FyznRjoS8pM\n",
            "📜 JS 'Lire la suite' cliqué\n",
            "🛡️ JS 'Tout refuser' cliqué\n",
            "⏳ Pas de pub à skipper\n",
            "▶️ Lecture manuelle déclenchée\n",
            "⌛ Visionnage : 16s\n",
            "✅ Vue simulée\n"
          ]
        },
        {
          "name": "stderr",
          "output_type": "stream",
          "text": [
            "📊 Progression:  19%|███▋               | 194/1000 [2:40:20<11:30:08, 51.38s/it]"
          ]
        },
        {
          "name": "stdout",
          "output_type": "stream",
          "text": [
            "\n",
            "🔥 Vue n°195\n",
            "📺 Ouverture de https://www.youtube.com/watch?v=FyznRjoS8pM\n",
            "📜 JS 'Lire la suite' cliqué\n",
            "🛡️ JS 'Tout refuser' cliqué\n",
            "⏳ Pas de pub à skipper\n",
            "▶️ Lecture manuelle déclenchée\n",
            "⌛ Visionnage : 17s\n",
            "✅ Vue simulée\n"
          ]
        },
        {
          "name": "stderr",
          "output_type": "stream",
          "text": [
            "📊 Progression:  20%|███▋               | 195/1000 [2:41:09<11:17:35, 50.50s/it]"
          ]
        },
        {
          "name": "stdout",
          "output_type": "stream",
          "text": [
            "\n",
            "🔥 Vue n°196\n",
            "📺 Ouverture de https://www.youtube.com/watch?v=FyznRjoS8pM\n",
            "📜 JS 'Lire la suite' cliqué\n",
            "🛡️ JS 'Tout refuser' cliqué\n",
            "⏳ Pas de pub à skipper\n",
            "▶️ Lecture manuelle déclenchée\n",
            "⌛ Visionnage : 16s\n",
            "✅ Vue simulée\n"
          ]
        },
        {
          "name": "stderr",
          "output_type": "stream",
          "text": [
            "📊 Progression:  20%|███▋               | 196/1000 [2:41:57<11:06:40, 49.75s/it]"
          ]
        },
        {
          "name": "stdout",
          "output_type": "stream",
          "text": [
            "\n",
            "🔥 Vue n°197\n",
            "📺 Ouverture de https://www.youtube.com/watch?v=FyznRjoS8pM\n",
            "📜 JS 'Lire la suite' cliqué\n",
            "🛡️ JS 'Tout refuser' cliqué\n",
            "⏳ Pas de pub à skipper\n",
            "▶️ Lecture manuelle déclenchée\n",
            "⌛ Visionnage : 16s\n",
            "✅ Vue simulée\n"
          ]
        },
        {
          "name": "stderr",
          "output_type": "stream",
          "text": [
            "📊 Progression:  20%|███▋               | 197/1000 [2:42:51<11:24:22, 51.14s/it]"
          ]
        },
        {
          "name": "stdout",
          "output_type": "stream",
          "text": [
            "\n",
            "🔥 Vue n°198\n",
            "📺 Ouverture de https://www.youtube.com/watch?v=FyznRjoS8pM\n",
            "📜 JS 'Lire la suite' cliqué\n",
            "🛡️ JS 'Tout refuser' cliqué\n",
            "⏳ Pas de pub à skipper\n",
            "▶️ Lecture manuelle déclenchée\n",
            "⌛ Visionnage : 15s\n",
            "✅ Vue simulée\n"
          ]
        },
        {
          "name": "stderr",
          "output_type": "stream",
          "text": [
            "📊 Progression:  20%|███▊               | 198/1000 [2:43:42<11:23:16, 51.12s/it]"
          ]
        },
        {
          "name": "stdout",
          "output_type": "stream",
          "text": [
            "\n",
            "🔥 Vue n°199\n",
            "📺 Ouverture de https://www.youtube.com/watch?v=FyznRjoS8pM\n",
            "📜 JS 'Lire la suite' cliqué\n",
            "🛡️ JS 'Tout refuser' cliqué\n",
            "⏳ Pas de pub à skipper\n",
            "▶️ Lecture manuelle déclenchée\n",
            "⌛ Visionnage : 15s\n",
            "✅ Vue simulée\n"
          ]
        },
        {
          "name": "stderr",
          "output_type": "stream",
          "text": [
            "📊 Progression:  20%|███▊               | 199/1000 [2:44:32<11:17:30, 50.75s/it]"
          ]
        },
        {
          "name": "stdout",
          "output_type": "stream",
          "text": [
            "\n",
            "🔥 Vue n°200\n",
            "📺 Ouverture de https://www.youtube.com/watch?v=FyznRjoS8pM\n",
            "📜 JS 'Lire la suite' cliqué\n",
            "🛡️ JS 'Tout refuser' cliqué\n",
            "⏳ Pas de pub à skipper\n",
            "▶️ Lecture manuelle déclenchée\n",
            "⌛ Visionnage : 15s\n",
            "✅ Vue simulée\n"
          ]
        },
        {
          "name": "stderr",
          "output_type": "stream",
          "text": [
            "📊 Progression:  20%|███▊               | 200/1000 [2:45:17<10:53:19, 49.00s/it]"
          ]
        },
        {
          "name": "stdout",
          "output_type": "stream",
          "text": [
            "\n",
            "🔥 Vue n°201\n",
            "📺 Ouverture de https://www.youtube.com/watch?v=FyznRjoS8pM\n",
            "📜 JS 'Lire la suite' cliqué\n",
            "🛡️ JS 'Tout refuser' cliqué\n",
            "⏳ Pas de pub à skipper\n",
            "▶️ Lecture manuelle déclenchée\n",
            "⌛ Visionnage : 15s\n",
            "✅ Vue simulée\n"
          ]
        },
        {
          "name": "stderr",
          "output_type": "stream",
          "text": [
            "📊 Progression:  20%|███▊               | 201/1000 [2:46:11<11:10:44, 50.37s/it]"
          ]
        },
        {
          "name": "stdout",
          "output_type": "stream",
          "text": [
            "\n",
            "🔥 Vue n°202\n",
            "📺 Ouverture de https://www.youtube.com/watch?v=FyznRjoS8pM\n",
            "📜 JS 'Lire la suite' cliqué\n",
            "🛡️ JS 'Tout refuser' cliqué\n",
            "⏳ Pas de pub à skipper\n",
            "⏯️ Vidéo déjà en lecture ou bouton non détecté\n",
            "⌛ Visionnage : 16s\n",
            "✅ Vue simulée\n"
          ]
        },
        {
          "name": "stderr",
          "output_type": "stream",
          "text": [
            "📊 Progression:  20%|███▊               | 202/1000 [2:46:59<11:00:58, 49.70s/it]"
          ]
        },
        {
          "name": "stdout",
          "output_type": "stream",
          "text": [
            "\n",
            "🔥 Vue n°203\n",
            "📺 Ouverture de https://www.youtube.com/watch?v=FyznRjoS8pM\n",
            "📜 JS 'Lire la suite' cliqué\n",
            "🛡️ JS 'Tout refuser' cliqué\n",
            "⏳ Pas de pub à skipper\n",
            "▶️ Lecture manuelle déclenchée\n",
            "⌛ Visionnage : 15s\n",
            "✅ Vue simulée\n"
          ]
        },
        {
          "name": "stderr",
          "output_type": "stream",
          "text": [
            "📊 Progression:  20%|███▊               | 203/1000 [2:47:47<10:56:01, 49.39s/it]"
          ]
        },
        {
          "name": "stdout",
          "output_type": "stream",
          "text": [
            "\n",
            "🔥 Vue n°204\n",
            "📺 Ouverture de https://www.youtube.com/watch?v=FyznRjoS8pM\n",
            "📜 JS 'Lire la suite' cliqué\n",
            "🛡️ JS 'Tout refuser' cliqué\n",
            "⏳ Pas de pub à skipper\n",
            "▶️ Lecture manuelle déclenchée\n",
            "⌛ Visionnage : 16s\n",
            "✅ Vue simulée\n"
          ]
        },
        {
          "name": "stderr",
          "output_type": "stream",
          "text": [
            "📊 Progression:  20%|███▉               | 204/1000 [2:48:35<10:48:59, 48.92s/it]"
          ]
        },
        {
          "name": "stdout",
          "output_type": "stream",
          "text": [
            "\n",
            "🔥 Vue n°205\n",
            "📺 Ouverture de https://www.youtube.com/watch?v=FyznRjoS8pM\n",
            "📜 JS 'Lire la suite' cliqué\n",
            "🛡️ JS 'Tout refuser' cliqué\n",
            "⏳ Pas de pub à skipper\n",
            "▶️ Lecture manuelle déclenchée\n",
            "⌛ Visionnage : 17s\n",
            "✅ Vue simulée\n"
          ]
        },
        {
          "name": "stderr",
          "output_type": "stream",
          "text": [
            "📊 Progression:  20%|███▉               | 205/1000 [2:49:27<10:57:51, 49.65s/it]"
          ]
        },
        {
          "name": "stdout",
          "output_type": "stream",
          "text": [
            "\n",
            "🔥 Vue n°206\n",
            "📺 Ouverture de https://www.youtube.com/watch?v=FyznRjoS8pM\n",
            "📜 JS 'Lire la suite' cliqué\n",
            "🛡️ JS 'Tout refuser' cliqué\n",
            "⏳ Pas de pub à skipper\n",
            "▶️ Lecture manuelle déclenchée\n",
            "⌛ Visionnage : 17s\n",
            "✅ Vue simulée\n"
          ]
        },
        {
          "name": "stderr",
          "output_type": "stream",
          "text": [
            "📊 Progression:  21%|███▉               | 206/1000 [2:50:12<10:42:09, 48.53s/it]"
          ]
        },
        {
          "name": "stdout",
          "output_type": "stream",
          "text": [
            "\n",
            "🔥 Vue n°207\n",
            "📺 Ouverture de https://www.youtube.com/watch?v=FyznRjoS8pM\n",
            "📜 JS 'Lire la suite' cliqué\n",
            "🛡️ JS 'Tout refuser' cliqué\n",
            "⏳ Pas de pub à skipper\n",
            "▶️ Lecture manuelle déclenchée\n",
            "⌛ Visionnage : 16s\n",
            "✅ Vue simulée\n"
          ]
        },
        {
          "name": "stderr",
          "output_type": "stream",
          "text": [
            "📊 Progression:  21%|███▉               | 207/1000 [2:50:57<10:26:05, 47.37s/it]"
          ]
        },
        {
          "name": "stdout",
          "output_type": "stream",
          "text": [
            "\n",
            "🔥 Vue n°208\n",
            "📺 Ouverture de https://www.youtube.com/watch?v=FyznRjoS8pM\n",
            "📜 JS 'Lire la suite' cliqué\n",
            "🛡️ JS 'Tout refuser' cliqué\n",
            "⏳ Pas de pub à skipper\n",
            "▶️ Lecture manuelle déclenchée\n",
            "⌛ Visionnage : 17s\n",
            "✅ Vue simulée\n"
          ]
        },
        {
          "name": "stderr",
          "output_type": "stream",
          "text": [
            "📊 Progression:  21%|███▉               | 208/1000 [2:51:47<10:34:26, 48.06s/it]"
          ]
        },
        {
          "name": "stdout",
          "output_type": "stream",
          "text": [
            "\n",
            "🔥 Vue n°209\n",
            "📺 Ouverture de https://www.youtube.com/watch?v=FyznRjoS8pM\n",
            "📜 JS 'Lire la suite' cliqué\n",
            "🛡️ JS 'Tout refuser' cliqué\n",
            "⏳ Pas de pub à skipper\n",
            "▶️ Lecture manuelle déclenchée\n",
            "⌛ Visionnage : 15s\n",
            "✅ Vue simulée\n"
          ]
        },
        {
          "name": "stderr",
          "output_type": "stream",
          "text": [
            "📊 Progression:  21%|███▉               | 209/1000 [2:52:41<10:59:30, 50.03s/it]"
          ]
        },
        {
          "name": "stdout",
          "output_type": "stream",
          "text": [
            "\n",
            "🔥 Vue n°210\n",
            "📺 Ouverture de https://www.youtube.com/watch?v=FyznRjoS8pM\n",
            "📜 JS 'Lire la suite' cliqué\n",
            "🛡️ JS 'Tout refuser' cliqué\n",
            "⏳ Pas de pub à skipper\n",
            "▶️ Lecture manuelle déclenchée\n",
            "⌛ Visionnage : 16s\n",
            "✅ Vue simulée\n"
          ]
        },
        {
          "name": "stderr",
          "output_type": "stream",
          "text": [
            "📊 Progression:  21%|███▉               | 210/1000 [2:53:32<11:00:10, 50.14s/it]"
          ]
        },
        {
          "name": "stdout",
          "output_type": "stream",
          "text": [
            "\n",
            "🔥 Vue n°211\n",
            "📺 Ouverture de https://www.youtube.com/watch?v=FyznRjoS8pM\n",
            "📜 JS 'Lire la suite' cliqué\n",
            "🛡️ JS 'Tout refuser' cliqué\n",
            "⏳ Pas de pub à skipper\n",
            "▶️ Lecture manuelle déclenchée\n",
            "⌛ Visionnage : 15s\n",
            "✅ Vue simulée\n"
          ]
        },
        {
          "name": "stderr",
          "output_type": "stream",
          "text": [
            "📊 Progression:  21%|████               | 211/1000 [2:54:21<10:54:15, 49.75s/it]"
          ]
        },
        {
          "name": "stdout",
          "output_type": "stream",
          "text": [
            "\n",
            "🔥 Vue n°212\n",
            "📺 Ouverture de https://www.youtube.com/watch?v=FyznRjoS8pM\n",
            "📜 JS 'Lire la suite' cliqué\n",
            "🛡️ JS 'Tout refuser' cliqué\n",
            "⏳ Pas de pub à skipper\n",
            "▶️ Lecture manuelle déclenchée\n",
            "⌛ Visionnage : 16s\n",
            "✅ Vue simulée\n"
          ]
        },
        {
          "name": "stderr",
          "output_type": "stream",
          "text": [
            "📊 Progression:  21%|████               | 212/1000 [2:55:07<10:41:23, 48.84s/it]"
          ]
        },
        {
          "name": "stdout",
          "output_type": "stream",
          "text": [
            "\n",
            "🔥 Vue n°213\n",
            "📺 Ouverture de https://www.youtube.com/watch?v=FyznRjoS8pM\n",
            "📜 JS 'Lire la suite' cliqué\n",
            "🛡️ JS 'Tout refuser' cliqué\n",
            "⏳ Pas de pub à skipper\n",
            "▶️ Lecture manuelle déclenchée\n",
            "⌛ Visionnage : 16s\n",
            "✅ Vue simulée\n"
          ]
        },
        {
          "name": "stderr",
          "output_type": "stream",
          "text": [
            "📊 Progression:  21%|████               | 213/1000 [2:55:57<10:42:21, 48.97s/it]"
          ]
        },
        {
          "name": "stdout",
          "output_type": "stream",
          "text": [
            "\n",
            "🔥 Vue n°214\n",
            "📺 Ouverture de https://www.youtube.com/watch?v=FyznRjoS8pM\n",
            "📜 JS 'Lire la suite' cliqué\n",
            "🛡️ JS 'Tout refuser' cliqué\n",
            "⏳ Pas de pub à skipper\n",
            "▶️ Lecture manuelle déclenchée\n",
            "⌛ Visionnage : 17s\n",
            "✅ Vue simulée\n"
          ]
        },
        {
          "name": "stderr",
          "output_type": "stream",
          "text": [
            "📊 Progression:  21%|████               | 214/1000 [2:56:44<10:36:51, 48.62s/it]"
          ]
        },
        {
          "name": "stdout",
          "output_type": "stream",
          "text": [
            "\n",
            "🔥 Vue n°215\n",
            "📺 Ouverture de https://www.youtube.com/watch?v=FyznRjoS8pM\n",
            "📜 JS 'Lire la suite' cliqué\n",
            "🛡️ JS 'Tout refuser' cliqué\n",
            "⏳ Pas de pub à skipper\n",
            "▶️ Lecture manuelle déclenchée\n",
            "⌛ Visionnage : 15s\n",
            "✅ Vue simulée\n"
          ]
        },
        {
          "name": "stderr",
          "output_type": "stream",
          "text": [
            "📊 Progression:  22%|████               | 215/1000 [2:57:32<10:31:20, 48.26s/it]"
          ]
        },
        {
          "name": "stdout",
          "output_type": "stream",
          "text": [
            "\n",
            "🔥 Vue n°216\n",
            "📺 Ouverture de https://www.youtube.com/watch?v=FyznRjoS8pM\n",
            "📜 JS 'Lire la suite' cliqué\n",
            "🛡️ JS 'Tout refuser' cliqué\n",
            "⏳ Pas de pub à skipper\n",
            "▶️ Lecture manuelle déclenchée\n",
            "⌛ Visionnage : 16s\n",
            "✅ Vue simulée\n"
          ]
        },
        {
          "name": "stderr",
          "output_type": "stream",
          "text": [
            "📊 Progression:  22%|████               | 216/1000 [2:58:21<10:33:27, 48.48s/it]"
          ]
        },
        {
          "name": "stdout",
          "output_type": "stream",
          "text": [
            "\n",
            "🔥 Vue n°217\n",
            "📺 Ouverture de https://www.youtube.com/watch?v=FyznRjoS8pM\n",
            "📜 JS 'Lire la suite' cliqué\n",
            "🛡️ JS 'Tout refuser' cliqué\n",
            "⏳ Pas de pub à skipper\n",
            "▶️ Lecture manuelle déclenchée\n",
            "⌛ Visionnage : 15s\n",
            "✅ Vue simulée\n"
          ]
        },
        {
          "name": "stderr",
          "output_type": "stream",
          "text": [
            "📊 Progression:  22%|████               | 217/1000 [2:59:12<10:43:45, 49.33s/it]"
          ]
        },
        {
          "name": "stdout",
          "output_type": "stream",
          "text": [
            "\n",
            "🔥 Vue n°218\n",
            "📺 Ouverture de https://www.youtube.com/watch?v=FyznRjoS8pM\n",
            "📜 JS 'Lire la suite' cliqué\n",
            "🛡️ JS 'Tout refuser' cliqué\n",
            "⏳ Pas de pub à skipper\n",
            "▶️ Lecture manuelle déclenchée\n",
            "⌛ Visionnage : 15s\n",
            "✅ Vue simulée\n"
          ]
        },
        {
          "name": "stderr",
          "output_type": "stream",
          "text": [
            "📊 Progression:  22%|████▏              | 218/1000 [3:00:00<10:36:53, 48.87s/it]"
          ]
        },
        {
          "name": "stdout",
          "output_type": "stream",
          "text": [
            "\n",
            "🔥 Vue n°219\n",
            "📺 Ouverture de https://www.youtube.com/watch?v=FyznRjoS8pM\n",
            "📜 JS 'Lire la suite' cliqué\n",
            "🛡️ JS 'Tout refuser' cliqué\n",
            "⏳ Pas de pub à skipper\n",
            "▶️ Lecture manuelle déclenchée\n",
            "⌛ Visionnage : 16s\n",
            "✅ Vue simulée\n"
          ]
        },
        {
          "name": "stderr",
          "output_type": "stream",
          "text": [
            "📊 Progression:  22%|████▏              | 219/1000 [3:00:51<10:45:08, 49.56s/it]"
          ]
        },
        {
          "name": "stdout",
          "output_type": "stream",
          "text": [
            "\n",
            "🔥 Vue n°220\n",
            "📺 Ouverture de https://www.youtube.com/watch?v=FyznRjoS8pM\n",
            "📜 JS 'Lire la suite' cliqué\n",
            "🛡️ JS 'Tout refuser' cliqué\n",
            "⏳ Pas de pub à skipper\n",
            "▶️ Lecture manuelle déclenchée\n",
            "⌛ Visionnage : 17s\n",
            "✅ Vue simulée\n"
          ]
        },
        {
          "name": "stderr",
          "output_type": "stream",
          "text": [
            "📊 Progression:  22%|████▏              | 220/1000 [3:01:46<11:05:16, 51.18s/it]"
          ]
        },
        {
          "name": "stdout",
          "output_type": "stream",
          "text": [
            "\n",
            "🔥 Vue n°221\n",
            "📺 Ouverture de https://www.youtube.com/watch?v=FyznRjoS8pM\n",
            "📜 JS 'Lire la suite' cliqué\n",
            "🛡️ JS 'Tout refuser' cliqué\n",
            "⏳ Pas de pub à skipper\n",
            "▶️ Lecture manuelle déclenchée\n",
            "⌛ Visionnage : 16s\n",
            "✅ Vue simulée\n"
          ]
        },
        {
          "name": "stderr",
          "output_type": "stream",
          "text": [
            "📊 Progression:  22%|████▏              | 221/1000 [3:02:35<10:55:30, 50.49s/it]"
          ]
        },
        {
          "name": "stdout",
          "output_type": "stream",
          "text": [
            "\n",
            "🔥 Vue n°222\n",
            "📺 Ouverture de https://www.youtube.com/watch?v=FyznRjoS8pM\n",
            "📜 JS 'Lire la suite' cliqué\n",
            "🛡️ JS 'Tout refuser' cliqué\n",
            "⏳ Pas de pub à skipper\n",
            "▶️ Lecture manuelle déclenchée\n",
            "⌛ Visionnage : 17s\n",
            "✅ Vue simulée\n"
          ]
        },
        {
          "name": "stderr",
          "output_type": "stream",
          "text": [
            "📊 Progression:  22%|████▏              | 222/1000 [3:03:31<11:15:27, 52.09s/it]"
          ]
        },
        {
          "name": "stdout",
          "output_type": "stream",
          "text": [
            "\n",
            "🔥 Vue n°223\n",
            "📺 Ouverture de https://www.youtube.com/watch?v=FyznRjoS8pM\n",
            "📜 JS 'Lire la suite' cliqué\n",
            "🛡️ JS 'Tout refuser' cliqué\n",
            "⏳ Pas de pub à skipper\n",
            "▶️ Lecture manuelle déclenchée\n",
            "⌛ Visionnage : 17s\n",
            "✅ Vue simulée\n"
          ]
        },
        {
          "name": "stderr",
          "output_type": "stream",
          "text": [
            "📊 Progression:  22%|████▏              | 223/1000 [3:04:19<10:59:54, 50.96s/it]"
          ]
        },
        {
          "name": "stdout",
          "output_type": "stream",
          "text": [
            "\n",
            "🔥 Vue n°224\n",
            "📺 Ouverture de https://www.youtube.com/watch?v=FyznRjoS8pM\n",
            "📜 JS 'Lire la suite' cliqué\n",
            "🛡️ JS 'Tout refuser' cliqué\n",
            "⏳ Pas de pub à skipper\n",
            "▶️ Lecture manuelle déclenchée\n",
            "⌛ Visionnage : 17s\n",
            "✅ Vue simulée\n"
          ]
        },
        {
          "name": "stderr",
          "output_type": "stream",
          "text": [
            "📊 Progression:  22%|████▎              | 224/1000 [3:05:12<11:06:52, 51.56s/it]"
          ]
        },
        {
          "name": "stdout",
          "output_type": "stream",
          "text": [
            "\n",
            "🔥 Vue n°225\n",
            "📺 Ouverture de https://www.youtube.com/watch?v=FyznRjoS8pM\n",
            "📜 JS 'Lire la suite' cliqué\n",
            "🛡️ JS 'Tout refuser' cliqué\n",
            "⏳ Pas de pub à skipper\n",
            "▶️ Lecture manuelle déclenchée\n",
            "⌛ Visionnage : 15s\n",
            "✅ Vue simulée\n"
          ]
        },
        {
          "name": "stderr",
          "output_type": "stream",
          "text": [
            "📊 Progression:  22%|████▎              | 225/1000 [3:05:59<10:49:39, 50.30s/it]"
          ]
        },
        {
          "name": "stdout",
          "output_type": "stream",
          "text": [
            "\n",
            "🔥 Vue n°226\n",
            "📺 Ouverture de https://www.youtube.com/watch?v=FyznRjoS8pM\n",
            "📜 JS 'Lire la suite' cliqué\n",
            "🛡️ JS 'Tout refuser' cliqué\n",
            "⏳ Pas de pub à skipper\n",
            "▶️ Lecture manuelle déclenchée\n",
            "⌛ Visionnage : 15s\n",
            "✅ Vue simulée\n"
          ]
        },
        {
          "name": "stderr",
          "output_type": "stream",
          "text": [
            "📊 Progression:  23%|████▎              | 226/1000 [3:06:47<10:39:52, 49.60s/it]"
          ]
        },
        {
          "name": "stdout",
          "output_type": "stream",
          "text": [
            "\n",
            "🔥 Vue n°227\n",
            "📺 Ouverture de https://www.youtube.com/watch?v=FyznRjoS8pM\n",
            "📜 JS 'Lire la suite' cliqué\n",
            "🛡️ JS 'Tout refuser' cliqué\n",
            "⏳ Pas de pub à skipper\n",
            "▶️ Lecture manuelle déclenchée\n",
            "⌛ Visionnage : 15s\n",
            "✅ Vue simulée\n"
          ]
        },
        {
          "name": "stderr",
          "output_type": "stream",
          "text": [
            "📊 Progression:  23%|████▎              | 227/1000 [3:07:33<10:21:47, 48.26s/it]"
          ]
        },
        {
          "name": "stdout",
          "output_type": "stream",
          "text": [
            "\n",
            "🔥 Vue n°228\n",
            "📺 Ouverture de https://www.youtube.com/watch?v=FyznRjoS8pM\n",
            "📜 JS 'Lire la suite' cliqué\n",
            "🛡️ JS 'Tout refuser' cliqué\n",
            "⏳ Pas de pub à skipper\n",
            "▶️ Lecture manuelle déclenchée\n",
            "⌛ Visionnage : 17s\n",
            "✅ Vue simulée\n"
          ]
        },
        {
          "name": "stderr",
          "output_type": "stream",
          "text": [
            "📊 Progression:  23%|████▎              | 228/1000 [3:08:22<10:24:56, 48.57s/it]"
          ]
        },
        {
          "name": "stdout",
          "output_type": "stream",
          "text": [
            "\n",
            "🔥 Vue n°229\n",
            "📺 Ouverture de https://www.youtube.com/watch?v=FyznRjoS8pM\n",
            "📜 JS 'Lire la suite' cliqué\n",
            "🛡️ JS 'Tout refuser' cliqué\n",
            "⏳ Pas de pub à skipper\n",
            "▶️ Lecture manuelle déclenchée\n",
            "⌛ Visionnage : 17s\n",
            "✅ Vue simulée\n"
          ]
        },
        {
          "name": "stderr",
          "output_type": "stream",
          "text": [
            "📊 Progression:  23%|████▎              | 229/1000 [3:09:16<10:45:14, 50.21s/it]"
          ]
        },
        {
          "name": "stdout",
          "output_type": "stream",
          "text": [
            "\n",
            "🔥 Vue n°230\n",
            "📺 Ouverture de https://www.youtube.com/watch?v=FyznRjoS8pM\n",
            "📜 JS 'Lire la suite' cliqué\n",
            "🛡️ JS 'Tout refuser' cliqué\n",
            "⏳ Pas de pub à skipper\n",
            "▶️ Lecture manuelle déclenchée\n",
            "⌛ Visionnage : 17s\n",
            "✅ Vue simulée\n"
          ]
        },
        {
          "name": "stderr",
          "output_type": "stream",
          "text": [
            "📊 Progression:  23%|████▎              | 230/1000 [3:10:11<11:03:50, 51.73s/it]"
          ]
        },
        {
          "name": "stdout",
          "output_type": "stream",
          "text": [
            "\n",
            "🔥 Vue n°231\n",
            "📺 Ouverture de https://www.youtube.com/watch?v=FyznRjoS8pM\n",
            "📜 JS 'Lire la suite' cliqué\n",
            "🛡️ JS 'Tout refuser' cliqué\n",
            "⏳ Pas de pub à skipper\n",
            "▶️ Lecture manuelle déclenchée\n",
            "⌛ Visionnage : 17s\n",
            "✅ Vue simulée\n"
          ]
        },
        {
          "name": "stderr",
          "output_type": "stream",
          "text": [
            "📊 Progression:  23%|████▍              | 231/1000 [3:11:02<10:58:08, 51.35s/it]"
          ]
        },
        {
          "name": "stdout",
          "output_type": "stream",
          "text": [
            "\n",
            "🔥 Vue n°232\n",
            "📺 Ouverture de https://www.youtube.com/watch?v=FyznRjoS8pM\n",
            "📜 JS 'Lire la suite' cliqué\n",
            "🛡️ JS 'Tout refuser' cliqué\n",
            "⏳ Pas de pub à skipper\n",
            "▶️ Lecture manuelle déclenchée\n",
            "⌛ Visionnage : 16s\n",
            "✅ Vue simulée\n"
          ]
        },
        {
          "name": "stderr",
          "output_type": "stream",
          "text": [
            "📊 Progression:  23%|████▍              | 232/1000 [3:11:50<10:44:35, 50.36s/it]"
          ]
        },
        {
          "name": "stdout",
          "output_type": "stream",
          "text": [
            "\n",
            "🔥 Vue n°233\n",
            "📺 Ouverture de https://www.youtube.com/watch?v=FyznRjoS8pM\n",
            "📜 JS 'Lire la suite' cliqué\n",
            "🛡️ JS 'Tout refuser' cliqué\n",
            "⏳ Pas de pub à skipper\n",
            "▶️ Lecture manuelle déclenchée\n",
            "⌛ Visionnage : 16s\n",
            "✅ Vue simulée\n"
          ]
        },
        {
          "name": "stderr",
          "output_type": "stream",
          "text": [
            "📊 Progression:  23%|████▍              | 233/1000 [3:12:39<10:39:26, 50.02s/it]"
          ]
        },
        {
          "name": "stdout",
          "output_type": "stream",
          "text": [
            "\n",
            "🔥 Vue n°234\n",
            "📺 Ouverture de https://www.youtube.com/watch?v=FyznRjoS8pM\n",
            "📜 JS 'Lire la suite' cliqué\n",
            "🛡️ JS 'Tout refuser' cliqué\n",
            "⏳ Pas de pub à skipper\n",
            "⏯️ Vidéo déjà en lecture ou bouton non détecté\n",
            "⌛ Visionnage : 15s\n",
            "✅ Vue simulée\n"
          ]
        },
        {
          "name": "stderr",
          "output_type": "stream",
          "text": [
            "📊 Progression:  23%|████▍              | 234/1000 [3:13:24<10:18:47, 48.47s/it]"
          ]
        },
        {
          "name": "stdout",
          "output_type": "stream",
          "text": [
            "\n",
            "🔥 Vue n°235\n",
            "📺 Ouverture de https://www.youtube.com/watch?v=FyznRjoS8pM\n",
            "📜 JS 'Lire la suite' cliqué\n",
            "🛡️ JS 'Tout refuser' cliqué\n",
            "⏳ Pas de pub à skipper\n",
            "▶️ Lecture manuelle déclenchée\n",
            "⌛ Visionnage : 16s\n",
            "✅ Vue simulée\n"
          ]
        },
        {
          "name": "stderr",
          "output_type": "stream",
          "text": [
            "📊 Progression:  24%|████▍              | 235/1000 [3:14:15<10:28:22, 49.28s/it]"
          ]
        },
        {
          "name": "stdout",
          "output_type": "stream",
          "text": [
            "\n",
            "🔥 Vue n°236\n",
            "📺 Ouverture de https://www.youtube.com/watch?v=FyznRjoS8pM\n",
            "📜 JS 'Lire la suite' cliqué\n",
            "🛡️ JS 'Tout refuser' cliqué\n",
            "⏳ Pas de pub à skipper\n",
            "▶️ Lecture manuelle déclenchée\n",
            "⌛ Visionnage : 17s\n",
            "✅ Vue simulée\n"
          ]
        },
        {
          "name": "stderr",
          "output_type": "stream",
          "text": [
            "📊 Progression:  24%|████▍              | 236/1000 [3:15:08<10:41:57, 50.42s/it]"
          ]
        },
        {
          "name": "stdout",
          "output_type": "stream",
          "text": [
            "\n",
            "🔥 Vue n°237\n",
            "📺 Ouverture de https://www.youtube.com/watch?v=FyznRjoS8pM\n",
            "📜 JS 'Lire la suite' cliqué\n",
            "🛡️ JS 'Tout refuser' cliqué\n",
            "⏳ Pas de pub à skipper\n",
            "▶️ Lecture manuelle déclenchée\n",
            "⌛ Visionnage : 15s\n",
            "✅ Vue simulée\n"
          ]
        },
        {
          "name": "stderr",
          "output_type": "stream",
          "text": [
            "📊 Progression:  24%|████▌              | 237/1000 [3:15:56<10:32:17, 49.72s/it]"
          ]
        },
        {
          "name": "stdout",
          "output_type": "stream",
          "text": [
            "\n",
            "🔥 Vue n°238\n",
            "📺 Ouverture de https://www.youtube.com/watch?v=FyznRjoS8pM\n",
            "📜 JS 'Lire la suite' cliqué\n",
            "🛡️ JS 'Tout refuser' cliqué\n",
            "⏳ Pas de pub à skipper\n",
            "▶️ Lecture manuelle déclenchée\n",
            "⌛ Visionnage : 16s\n",
            "✅ Vue simulée\n"
          ]
        },
        {
          "name": "stderr",
          "output_type": "stream",
          "text": [
            "📊 Progression:  24%|████▌              | 238/1000 [3:16:46<10:32:55, 49.84s/it]"
          ]
        },
        {
          "name": "stdout",
          "output_type": "stream",
          "text": [
            "\n",
            "🔥 Vue n°239\n",
            "📺 Ouverture de https://www.youtube.com/watch?v=FyznRjoS8pM\n",
            "📜 JS 'Lire la suite' cliqué\n",
            "🛡️ JS 'Tout refuser' cliqué\n",
            "⏳ Pas de pub à skipper\n",
            "▶️ Lecture manuelle déclenchée\n",
            "⌛ Visionnage : 15s\n",
            "✅ Vue simulée\n"
          ]
        },
        {
          "name": "stderr",
          "output_type": "stream",
          "text": [
            "📊 Progression:  24%|████▌              | 239/1000 [3:17:38<10:38:09, 50.31s/it]"
          ]
        },
        {
          "name": "stdout",
          "output_type": "stream",
          "text": [
            "\n",
            "🔥 Vue n°240\n",
            "📺 Ouverture de https://www.youtube.com/watch?v=FyznRjoS8pM\n",
            "📜 JS 'Lire la suite' cliqué\n",
            "🛡️ JS 'Tout refuser' cliqué\n",
            "⏳ Pas de pub à skipper\n",
            "▶️ Lecture manuelle déclenchée\n",
            "⌛ Visionnage : 15s\n",
            "✅ Vue simulée\n"
          ]
        },
        {
          "name": "stderr",
          "output_type": "stream",
          "text": [
            "📊 Progression:  24%|████▌              | 240/1000 [3:18:31<10:47:18, 51.10s/it]"
          ]
        },
        {
          "name": "stdout",
          "output_type": "stream",
          "text": [
            "\n",
            "🔥 Vue n°241\n",
            "📺 Ouverture de https://www.youtube.com/watch?v=FyznRjoS8pM\n",
            "📜 JS 'Lire la suite' cliqué\n",
            "🛡️ JS 'Tout refuser' cliqué\n",
            "⏳ Pas de pub à skipper\n",
            "▶️ Lecture manuelle déclenchée\n",
            "⌛ Visionnage : 17s\n",
            "✅ Vue simulée\n"
          ]
        },
        {
          "name": "stderr",
          "output_type": "stream",
          "text": [
            "📊 Progression:  24%|████▌              | 241/1000 [3:19:17<10:27:14, 49.58s/it]"
          ]
        },
        {
          "name": "stdout",
          "output_type": "stream",
          "text": [
            "\n",
            "🔥 Vue n°242\n",
            "📺 Ouverture de https://www.youtube.com/watch?v=FyznRjoS8pM\n",
            "📜 JS 'Lire la suite' cliqué\n",
            "🛡️ JS 'Tout refuser' cliqué\n",
            "⏳ Pas de pub à skipper\n",
            "▶️ Lecture manuelle déclenchée\n",
            "⌛ Visionnage : 15s\n",
            "✅ Vue simulée\n"
          ]
        },
        {
          "name": "stderr",
          "output_type": "stream",
          "text": [
            "📊 Progression:  24%|████▌              | 242/1000 [3:20:04<10:17:02, 48.84s/it]"
          ]
        },
        {
          "name": "stdout",
          "output_type": "stream",
          "text": [
            "\n",
            "🔥 Vue n°243\n",
            "📺 Ouverture de https://www.youtube.com/watch?v=FyznRjoS8pM\n",
            "📜 JS 'Lire la suite' cliqué\n",
            "🛡️ JS 'Tout refuser' cliqué\n",
            "⏳ Pas de pub à skipper\n",
            "▶️ Lecture manuelle déclenchée\n",
            "⌛ Visionnage : 17s\n",
            "✅ Vue simulée\n"
          ]
        },
        {
          "name": "stderr",
          "output_type": "stream",
          "text": [
            "📊 Progression:  24%|████▌              | 243/1000 [3:20:51<10:11:43, 48.49s/it]"
          ]
        },
        {
          "name": "stdout",
          "output_type": "stream",
          "text": [
            "\n",
            "🔥 Vue n°244\n",
            "📺 Ouverture de https://www.youtube.com/watch?v=FyznRjoS8pM\n",
            "📜 JS 'Lire la suite' cliqué\n",
            "🛡️ JS 'Tout refuser' cliqué\n",
            "⏳ Pas de pub à skipper\n",
            "▶️ Lecture manuelle déclenchée\n",
            "⌛ Visionnage : 16s\n",
            "✅ Vue simulée\n"
          ]
        },
        {
          "name": "stderr",
          "output_type": "stream",
          "text": [
            "📊 Progression:  24%|████▋              | 244/1000 [3:21:40<10:10:24, 48.44s/it]"
          ]
        },
        {
          "name": "stdout",
          "output_type": "stream",
          "text": [
            "\n",
            "🔥 Vue n°245\n",
            "📺 Ouverture de https://www.youtube.com/watch?v=FyznRjoS8pM\n",
            "📜 JS 'Lire la suite' cliqué\n",
            "🛡️ JS 'Tout refuser' cliqué\n",
            "⏳ Pas de pub à skipper\n",
            "▶️ Lecture manuelle déclenchée\n",
            "⌛ Visionnage : 15s\n",
            "✅ Vue simulée\n"
          ]
        },
        {
          "name": "stderr",
          "output_type": "stream",
          "text": [
            "📊 Progression:  24%|████▋              | 245/1000 [3:22:30<10:16:13, 48.97s/it]"
          ]
        },
        {
          "name": "stdout",
          "output_type": "stream",
          "text": [
            "\n",
            "🔥 Vue n°246\n",
            "📺 Ouverture de https://www.youtube.com/watch?v=FyznRjoS8pM\n",
            "📜 JS 'Lire la suite' cliqué\n",
            "🛡️ JS 'Tout refuser' cliqué\n",
            "⏳ Pas de pub à skipper\n",
            "▶️ Lecture manuelle déclenchée\n",
            "⌛ Visionnage : 17s\n",
            "✅ Vue simulée\n"
          ]
        },
        {
          "name": "stderr",
          "output_type": "stream",
          "text": [
            "📊 Progression:  25%|████▋              | 246/1000 [3:23:27<10:45:22, 51.36s/it]"
          ]
        },
        {
          "name": "stdout",
          "output_type": "stream",
          "text": [
            "\n",
            "🔥 Vue n°247\n",
            "📺 Ouverture de https://www.youtube.com/watch?v=FyznRjoS8pM\n",
            "📜 JS 'Lire la suite' cliqué\n",
            "🛡️ JS 'Tout refuser' cliqué\n",
            "⏳ Pas de pub à skipper\n",
            "▶️ Lecture manuelle déclenchée\n",
            "⌛ Visionnage : 16s\n",
            "✅ Vue simulée\n"
          ]
        },
        {
          "name": "stderr",
          "output_type": "stream",
          "text": [
            "📊 Progression:  25%|████▋              | 247/1000 [3:24:17<10:38:18, 50.86s/it]"
          ]
        },
        {
          "name": "stdout",
          "output_type": "stream",
          "text": [
            "\n",
            "🔥 Vue n°248\n",
            "📺 Ouverture de https://www.youtube.com/watch?v=FyznRjoS8pM\n",
            "📜 JS 'Lire la suite' cliqué\n",
            "🛡️ JS 'Tout refuser' cliqué\n",
            "⏳ Pas de pub à skipper\n",
            "▶️ Lecture manuelle déclenchée\n",
            "⌛ Visionnage : 17s\n",
            "✅ Vue simulée\n"
          ]
        },
        {
          "name": "stderr",
          "output_type": "stream",
          "text": [
            "📊 Progression:  25%|████▋              | 248/1000 [3:25:12<10:53:23, 52.13s/it]"
          ]
        },
        {
          "name": "stdout",
          "output_type": "stream",
          "text": [
            "\n",
            "🔥 Vue n°249\n",
            "📺 Ouverture de https://www.youtube.com/watch?v=FyznRjoS8pM\n",
            "📜 JS 'Lire la suite' cliqué\n",
            "🛡️ JS 'Tout refuser' cliqué\n",
            "⏳ Pas de pub à skipper\n",
            "▶️ Lecture manuelle déclenchée\n",
            "⌛ Visionnage : 15s\n",
            "✅ Vue simulée\n"
          ]
        },
        {
          "name": "stderr",
          "output_type": "stream",
          "text": [
            "📊 Progression:  25%|████▋              | 249/1000 [3:26:02<10:45:12, 51.55s/it]"
          ]
        },
        {
          "name": "stdout",
          "output_type": "stream",
          "text": [
            "\n",
            "🔥 Vue n°250\n",
            "📺 Ouverture de https://www.youtube.com/watch?v=FyznRjoS8pM\n",
            "📜 JS 'Lire la suite' cliqué\n",
            "🛡️ JS 'Tout refuser' cliqué\n",
            "⏳ Pas de pub à skipper\n",
            "▶️ Lecture manuelle déclenchée\n",
            "⌛ Visionnage : 17s\n",
            "✅ Vue simulée\n"
          ]
        },
        {
          "name": "stderr",
          "output_type": "stream",
          "text": [
            "📊 Progression:  25%|████▊              | 250/1000 [3:26:52<10:38:18, 51.06s/it]"
          ]
        },
        {
          "name": "stdout",
          "output_type": "stream",
          "text": [
            "\n",
            "🔥 Vue n°251\n",
            "📺 Ouverture de https://www.youtube.com/watch?v=FyznRjoS8pM\n",
            "📜 JS 'Lire la suite' cliqué\n",
            "🛡️ JS 'Tout refuser' cliqué\n",
            "⏳ Pas de pub à skipper\n",
            "▶️ Lecture manuelle déclenchée\n",
            "⌛ Visionnage : 17s\n",
            "✅ Vue simulée\n"
          ]
        },
        {
          "name": "stderr",
          "output_type": "stream",
          "text": [
            "📊 Progression:  25%|████▊              | 251/1000 [3:27:37<10:14:46, 49.25s/it]"
          ]
        },
        {
          "name": "stdout",
          "output_type": "stream",
          "text": [
            "\n",
            "🔥 Vue n°252\n",
            "📺 Ouverture de https://www.youtube.com/watch?v=FyznRjoS8pM\n",
            "📜 JS 'Lire la suite' cliqué\n",
            "🛡️ JS 'Tout refuser' cliqué\n",
            "⏳ Pas de pub à skipper\n",
            "▶️ Lecture manuelle déclenchée\n",
            "⌛ Visionnage : 15s\n",
            "✅ Vue simulée\n"
          ]
        },
        {
          "name": "stderr",
          "output_type": "stream",
          "text": [
            "📊 Progression:  25%|████▊              | 252/1000 [3:28:32<10:37:33, 51.14s/it]"
          ]
        },
        {
          "name": "stdout",
          "output_type": "stream",
          "text": [
            "\n",
            "🔥 Vue n°253\n",
            "📺 Ouverture de https://www.youtube.com/watch?v=FyznRjoS8pM\n",
            "📜 JS 'Lire la suite' cliqué\n",
            "🛡️ JS 'Tout refuser' cliqué\n",
            "⏳ Pas de pub à skipper\n",
            "▶️ Lecture manuelle déclenchée\n",
            "⌛ Visionnage : 16s\n",
            "✅ Vue simulée\n"
          ]
        },
        {
          "name": "stderr",
          "output_type": "stream",
          "text": [
            "📊 Progression:  25%|████▊              | 253/1000 [3:29:21<10:26:14, 50.30s/it]"
          ]
        },
        {
          "name": "stdout",
          "output_type": "stream",
          "text": [
            "\n",
            "🔥 Vue n°254\n",
            "📺 Ouverture de https://www.youtube.com/watch?v=FyznRjoS8pM\n",
            "📜 JS 'Lire la suite' cliqué\n",
            "🛡️ JS 'Tout refuser' cliqué\n",
            "⏳ Pas de pub à skipper\n",
            "▶️ Lecture manuelle déclenchée\n",
            "⌛ Visionnage : 17s\n",
            "✅ Vue simulée\n"
          ]
        },
        {
          "name": "stderr",
          "output_type": "stream",
          "text": [
            "📊 Progression:  25%|████▊              | 254/1000 [3:30:13<10:32:49, 50.90s/it]"
          ]
        },
        {
          "name": "stdout",
          "output_type": "stream",
          "text": [
            "\n",
            "🔥 Vue n°255\n",
            "📺 Ouverture de https://www.youtube.com/watch?v=FyznRjoS8pM\n",
            "📜 JS 'Lire la suite' cliqué\n",
            "🛡️ JS 'Tout refuser' cliqué\n",
            "⏳ Pas de pub à skipper\n",
            "▶️ Lecture manuelle déclenchée\n",
            "⌛ Visionnage : 15s\n",
            "✅ Vue simulée\n"
          ]
        },
        {
          "name": "stderr",
          "output_type": "stream",
          "text": [
            "📊 Progression:  26%|████▊              | 255/1000 [3:31:02<10:24:15, 50.28s/it]"
          ]
        },
        {
          "name": "stdout",
          "output_type": "stream",
          "text": [
            "\n",
            "🔥 Vue n°256\n",
            "📺 Ouverture de https://www.youtube.com/watch?v=FyznRjoS8pM\n",
            "📜 JS 'Lire la suite' cliqué\n",
            "🛡️ JS 'Tout refuser' cliqué\n",
            "⏳ Pas de pub à skipper\n",
            "▶️ Lecture manuelle déclenchée\n",
            "⌛ Visionnage : 16s\n",
            "✅ Vue simulée\n"
          ]
        },
        {
          "name": "stderr",
          "output_type": "stream",
          "text": [
            "📊 Progression:  26%|████▊              | 256/1000 [3:31:53<10:25:11, 50.42s/it]"
          ]
        },
        {
          "name": "stdout",
          "output_type": "stream",
          "text": [
            "\n",
            "🔥 Vue n°257\n",
            "📺 Ouverture de https://www.youtube.com/watch?v=FyznRjoS8pM\n",
            "📜 JS 'Lire la suite' cliqué\n",
            "🛡️ JS 'Tout refuser' cliqué\n",
            "⏳ Pas de pub à skipper\n",
            "▶️ Lecture manuelle déclenchée\n",
            "⌛ Visionnage : 15s\n",
            "✅ Vue simulée\n"
          ]
        },
        {
          "name": "stderr",
          "output_type": "stream",
          "text": [
            "📊 Progression:  26%|████▉              | 257/1000 [3:32:42<10:22:28, 50.27s/it]"
          ]
        },
        {
          "name": "stdout",
          "output_type": "stream",
          "text": [
            "\n",
            "🔥 Vue n°258\n",
            "📺 Ouverture de https://www.youtube.com/watch?v=FyznRjoS8pM\n",
            "📜 JS 'Lire la suite' cliqué\n",
            "🛡️ JS 'Tout refuser' cliqué\n",
            "⏳ Pas de pub à skipper\n",
            "▶️ Lecture manuelle déclenchée\n",
            "⌛ Visionnage : 15s\n",
            "✅ Vue simulée\n"
          ]
        },
        {
          "name": "stderr",
          "output_type": "stream",
          "text": [
            "📊 Progression:  26%|████▉              | 258/1000 [3:33:32<10:19:44, 50.11s/it]"
          ]
        },
        {
          "name": "stdout",
          "output_type": "stream",
          "text": [
            "\n",
            "🔥 Vue n°259\n",
            "📺 Ouverture de https://www.youtube.com/watch?v=FyznRjoS8pM\n",
            "📜 JS 'Lire la suite' cliqué\n",
            "🛡️ JS 'Tout refuser' cliqué\n",
            "⏳ Pas de pub à skipper\n",
            "▶️ Lecture manuelle déclenchée\n",
            "⌛ Visionnage : 16s\n",
            "✅ Vue simulée\n"
          ]
        },
        {
          "name": "stderr",
          "output_type": "stream",
          "text": [
            "📊 Progression:  26%|████▉              | 259/1000 [3:34:26<10:33:43, 51.31s/it]"
          ]
        },
        {
          "name": "stdout",
          "output_type": "stream",
          "text": [
            "\n",
            "🔥 Vue n°260\n",
            "📺 Ouverture de https://www.youtube.com/watch?v=FyznRjoS8pM\n",
            "📜 JS 'Lire la suite' cliqué\n",
            "🛡️ JS 'Tout refuser' cliqué\n",
            "⏳ Pas de pub à skipper\n",
            "▶️ Lecture manuelle déclenchée\n",
            "⌛ Visionnage : 15s\n",
            "✅ Vue simulée\n"
          ]
        },
        {
          "name": "stderr",
          "output_type": "stream",
          "text": [
            "📊 Progression:  26%|████▉              | 260/1000 [3:35:16<10:26:26, 50.79s/it]"
          ]
        },
        {
          "name": "stdout",
          "output_type": "stream",
          "text": [
            "\n",
            "🔥 Vue n°261\n",
            "📺 Ouverture de https://www.youtube.com/watch?v=FyznRjoS8pM\n",
            "📜 JS 'Lire la suite' cliqué\n",
            "🛡️ JS 'Tout refuser' cliqué\n",
            "⏳ Pas de pub à skipper\n",
            "▶️ Lecture manuelle déclenchée\n",
            "⌛ Visionnage : 16s\n",
            "✅ Vue simulée\n"
          ]
        },
        {
          "name": "stderr",
          "output_type": "stream",
          "text": [
            "📊 Progression:  26%|████▉              | 261/1000 [3:36:05<10:18:16, 50.20s/it]"
          ]
        },
        {
          "name": "stdout",
          "output_type": "stream",
          "text": [
            "\n",
            "🔥 Vue n°262\n",
            "📺 Ouverture de https://www.youtube.com/watch?v=FyznRjoS8pM\n",
            "📜 JS 'Lire la suite' cliqué\n",
            "🛡️ JS 'Tout refuser' cliqué\n",
            "⏳ Pas de pub à skipper\n",
            "▶️ Lecture manuelle déclenchée\n",
            "⌛ Visionnage : 17s\n",
            "✅ Vue simulée\n"
          ]
        },
        {
          "name": "stderr",
          "output_type": "stream",
          "text": [
            "📊 Progression:  26%|████▉              | 262/1000 [3:36:53<10:09:34, 49.56s/it]"
          ]
        },
        {
          "name": "stdout",
          "output_type": "stream",
          "text": [
            "\n",
            "🔥 Vue n°263\n",
            "📺 Ouverture de https://www.youtube.com/watch?v=FyznRjoS8pM\n",
            "📜 JS 'Lire la suite' cliqué\n",
            "🛡️ JS 'Tout refuser' cliqué\n",
            "⏳ Pas de pub à skipper\n",
            "▶️ Lecture manuelle déclenchée\n",
            "⌛ Visionnage : 15s\n",
            "✅ Vue simulée\n"
          ]
        },
        {
          "name": "stderr",
          "output_type": "stream",
          "text": [
            "📊 Progression:  26%|████▉              | 263/1000 [3:37:43<10:11:37, 49.79s/it]"
          ]
        },
        {
          "name": "stdout",
          "output_type": "stream",
          "text": [
            "\n",
            "🔥 Vue n°264\n",
            "📺 Ouverture de https://www.youtube.com/watch?v=FyznRjoS8pM\n",
            "📜 JS 'Lire la suite' cliqué\n",
            "🛡️ JS 'Tout refuser' cliqué\n",
            "⏳ Pas de pub à skipper\n",
            "▶️ Lecture manuelle déclenchée\n",
            "⌛ Visionnage : 15s\n",
            "✅ Vue simulée\n"
          ]
        },
        {
          "name": "stderr",
          "output_type": "stream",
          "text": [
            "📊 Progression:  26%|█████▎              | 264/1000 [3:38:27<9:49:04, 48.02s/it]"
          ]
        },
        {
          "name": "stdout",
          "output_type": "stream",
          "text": [
            "\n",
            "🔥 Vue n°265\n",
            "📺 Ouverture de https://www.youtube.com/watch?v=FyznRjoS8pM\n",
            "📜 JS 'Lire la suite' cliqué\n",
            "🛡️ JS 'Tout refuser' cliqué\n",
            "⏳ Pas de pub à skipper\n",
            "▶️ Lecture manuelle déclenchée\n",
            "⌛ Visionnage : 17s\n",
            "✅ Vue simulée\n"
          ]
        },
        {
          "name": "stderr",
          "output_type": "stream",
          "text": [
            "📊 Progression:  26%|█████▎              | 265/1000 [3:39:16<9:53:17, 48.43s/it]"
          ]
        },
        {
          "name": "stdout",
          "output_type": "stream",
          "text": [
            "\n",
            "🔥 Vue n°266\n",
            "📺 Ouverture de https://www.youtube.com/watch?v=FyznRjoS8pM\n",
            "📜 JS 'Lire la suite' cliqué\n",
            "🛡️ JS 'Tout refuser' cliqué\n",
            "⏳ Pas de pub à skipper\n",
            "▶️ Lecture manuelle déclenchée\n",
            "⌛ Visionnage : 16s\n",
            "✅ Vue simulée\n"
          ]
        },
        {
          "name": "stderr",
          "output_type": "stream",
          "text": [
            "📊 Progression:  27%|█████              | 266/1000 [3:40:09<10:08:23, 49.73s/it]"
          ]
        },
        {
          "name": "stdout",
          "output_type": "stream",
          "text": [
            "\n",
            "🔥 Vue n°267\n",
            "📺 Ouverture de https://www.youtube.com/watch?v=FyznRjoS8pM\n",
            "📜 JS 'Lire la suite' cliqué\n",
            "🛡️ JS 'Tout refuser' cliqué\n",
            "⏳ Pas de pub à skipper\n",
            "▶️ Lecture manuelle déclenchée\n",
            "⌛ Visionnage : 15s\n",
            "✅ Vue simulée\n"
          ]
        },
        {
          "name": "stderr",
          "output_type": "stream",
          "text": [
            "📊 Progression:  27%|█████              | 267/1000 [3:41:02<10:18:43, 50.65s/it]"
          ]
        },
        {
          "name": "stdout",
          "output_type": "stream",
          "text": [
            "\n",
            "🔥 Vue n°268\n",
            "📺 Ouverture de https://www.youtube.com/watch?v=FyznRjoS8pM\n",
            "📜 JS 'Lire la suite' cliqué\n",
            "🛡️ JS 'Tout refuser' cliqué\n",
            "⏳ Pas de pub à skipper\n",
            "▶️ Lecture manuelle déclenchée\n",
            "⌛ Visionnage : 17s\n",
            "✅ Vue simulée\n"
          ]
        },
        {
          "name": "stderr",
          "output_type": "stream",
          "text": [
            "📊 Progression:  27%|█████              | 268/1000 [3:41:54<10:24:27, 51.18s/it]"
          ]
        },
        {
          "name": "stdout",
          "output_type": "stream",
          "text": [
            "\n",
            "🔥 Vue n°269\n",
            "📺 Ouverture de https://www.youtube.com/watch?v=FyznRjoS8pM\n",
            "📜 JS 'Lire la suite' cliqué\n",
            "🛡️ JS 'Tout refuser' cliqué\n",
            "⏳ Pas de pub à skipper\n",
            "▶️ Lecture manuelle déclenchée\n",
            "⌛ Visionnage : 16s\n",
            "✅ Vue simulée\n"
          ]
        },
        {
          "name": "stderr",
          "output_type": "stream",
          "text": [
            "📊 Progression:  27%|█████              | 269/1000 [3:42:46<10:26:53, 51.45s/it]"
          ]
        },
        {
          "name": "stdout",
          "output_type": "stream",
          "text": [
            "\n",
            "🔥 Vue n°270\n",
            "📺 Ouverture de https://www.youtube.com/watch?v=FyznRjoS8pM\n",
            "📜 JS 'Lire la suite' cliqué\n",
            "🛡️ JS 'Tout refuser' cliqué\n",
            "⏳ Pas de pub à skipper\n",
            "⏯️ Vidéo déjà en lecture ou bouton non détecté\n",
            "⌛ Visionnage : 17s\n",
            "✅ Vue simulée\n"
          ]
        },
        {
          "name": "stderr",
          "output_type": "stream",
          "text": [
            "📊 Progression:  27%|█████▏             | 270/1000 [3:43:36<10:18:48, 50.86s/it]"
          ]
        },
        {
          "name": "stdout",
          "output_type": "stream",
          "text": [
            "\n",
            "🔥 Vue n°271\n",
            "📺 Ouverture de https://www.youtube.com/watch?v=FyznRjoS8pM\n",
            "📜 JS 'Lire la suite' cliqué\n",
            "🛡️ JS 'Tout refuser' cliqué\n",
            "⏳ Pas de pub à skipper\n",
            "▶️ Lecture manuelle déclenchée\n",
            "⌛ Visionnage : 17s\n",
            "✅ Vue simulée\n"
          ]
        },
        {
          "name": "stderr",
          "output_type": "stream",
          "text": [
            "📊 Progression:  27%|█████▏             | 271/1000 [3:44:26<10:15:25, 50.65s/it]"
          ]
        },
        {
          "name": "stdout",
          "output_type": "stream",
          "text": [
            "\n",
            "🔥 Vue n°272\n",
            "📺 Ouverture de https://www.youtube.com/watch?v=FyznRjoS8pM\n",
            "📜 JS 'Lire la suite' cliqué\n",
            "🛡️ JS 'Tout refuser' cliqué\n",
            "⏳ Pas de pub à skipper\n",
            "▶️ Lecture manuelle déclenchée\n",
            "⌛ Visionnage : 15s\n",
            "✅ Vue simulée\n"
          ]
        },
        {
          "name": "stderr",
          "output_type": "stream",
          "text": [
            "📊 Progression:  27%|█████▏             | 272/1000 [3:45:15<10:09:03, 50.20s/it]"
          ]
        },
        {
          "name": "stdout",
          "output_type": "stream",
          "text": [
            "\n",
            "🔥 Vue n°273\n",
            "📺 Ouverture de https://www.youtube.com/watch?v=FyznRjoS8pM\n",
            "📜 JS 'Lire la suite' cliqué\n",
            "🛡️ JS 'Tout refuser' cliqué\n",
            "⏳ Pas de pub à skipper\n",
            "▶️ Lecture manuelle déclenchée\n",
            "⌛ Visionnage : 15s\n",
            "✅ Vue simulée\n"
          ]
        },
        {
          "name": "stderr",
          "output_type": "stream",
          "text": [
            "📊 Progression:  27%|█████▏             | 273/1000 [3:46:05<10:04:58, 49.93s/it]"
          ]
        },
        {
          "name": "stdout",
          "output_type": "stream",
          "text": [
            "\n",
            "🔥 Vue n°274\n",
            "📺 Ouverture de https://www.youtube.com/watch?v=FyznRjoS8pM\n",
            "📜 JS 'Lire la suite' cliqué\n",
            "🛡️ JS 'Tout refuser' cliqué\n",
            "⏳ Pas de pub à skipper\n",
            "▶️ Lecture manuelle déclenchée\n",
            "⌛ Visionnage : 16s\n",
            "✅ Vue simulée\n"
          ]
        },
        {
          "name": "stderr",
          "output_type": "stream",
          "text": [
            "📊 Progression:  27%|█████▏             | 274/1000 [3:46:59<10:19:15, 51.18s/it]"
          ]
        },
        {
          "name": "stdout",
          "output_type": "stream",
          "text": [
            "\n",
            "🔥 Vue n°275\n",
            "📺 Ouverture de https://www.youtube.com/watch?v=FyznRjoS8pM\n",
            "📜 JS 'Lire la suite' cliqué\n",
            "🛡️ JS 'Tout refuser' cliqué\n",
            "⏳ Pas de pub à skipper\n",
            "▶️ Lecture manuelle déclenchée\n",
            "⌛ Visionnage : 17s\n",
            "✅ Vue simulée\n"
          ]
        },
        {
          "name": "stderr",
          "output_type": "stream",
          "text": [
            "📊 Progression:  28%|█████▏             | 275/1000 [3:47:57<10:43:42, 53.27s/it]"
          ]
        },
        {
          "name": "stdout",
          "output_type": "stream",
          "text": [
            "\n",
            "🔥 Vue n°276\n",
            "📺 Ouverture de https://www.youtube.com/watch?v=FyznRjoS8pM\n",
            "📜 JS 'Lire la suite' cliqué\n",
            "🛡️ JS 'Tout refuser' cliqué\n",
            "⏳ Pas de pub à skipper\n",
            "▶️ Lecture manuelle déclenchée\n",
            "⌛ Visionnage : 15s\n",
            "✅ Vue simulée\n"
          ]
        },
        {
          "name": "stderr",
          "output_type": "stream",
          "text": [
            "📊 Progression:  28%|█████▏             | 276/1000 [3:48:47<10:33:37, 52.51s/it]"
          ]
        },
        {
          "name": "stdout",
          "output_type": "stream",
          "text": [
            "\n",
            "🔥 Vue n°277\n",
            "📺 Ouverture de https://www.youtube.com/watch?v=FyznRjoS8pM\n",
            "📜 JS 'Lire la suite' cliqué\n",
            "🛡️ JS 'Tout refuser' cliqué\n",
            "⏳ Pas de pub à skipper\n",
            "▶️ Lecture manuelle déclenchée\n",
            "⌛ Visionnage : 16s\n",
            "✅ Vue simulée\n"
          ]
        },
        {
          "name": "stderr",
          "output_type": "stream",
          "text": [
            "📊 Progression:  28%|█████▎             | 277/1000 [3:49:37<10:20:59, 51.53s/it]"
          ]
        },
        {
          "name": "stdout",
          "output_type": "stream",
          "text": [
            "\n",
            "🔥 Vue n°278\n",
            "📺 Ouverture de https://www.youtube.com/watch?v=FyznRjoS8pM\n",
            "📜 JS 'Lire la suite' cliqué\n",
            "🛡️ JS 'Tout refuser' cliqué\n",
            "⏳ Pas de pub à skipper\n",
            "▶️ Lecture manuelle déclenchée\n",
            "⌛ Visionnage : 16s\n",
            "✅ Vue simulée\n"
          ]
        },
        {
          "name": "stderr",
          "output_type": "stream",
          "text": [
            "📊 Progression:  28%|█████▎             | 278/1000 [3:50:29<10:21:36, 51.66s/it]"
          ]
        },
        {
          "name": "stdout",
          "output_type": "stream",
          "text": [
            "\n",
            "🔥 Vue n°279\n",
            "📺 Ouverture de https://www.youtube.com/watch?v=FyznRjoS8pM\n",
            "📜 JS 'Lire la suite' cliqué\n",
            "🛡️ JS 'Tout refuser' cliqué\n",
            "⏳ Pas de pub à skipper\n",
            "▶️ Lecture manuelle déclenchée\n",
            "⌛ Visionnage : 16s\n",
            "✅ Vue simulée\n"
          ]
        },
        {
          "name": "stderr",
          "output_type": "stream",
          "text": [
            "📊 Progression:  28%|█████▎             | 279/1000 [3:51:23<10:31:56, 52.59s/it]"
          ]
        },
        {
          "name": "stdout",
          "output_type": "stream",
          "text": [
            "\n",
            "🔥 Vue n°280\n",
            "📺 Ouverture de https://www.youtube.com/watch?v=FyznRjoS8pM\n",
            "📜 JS 'Lire la suite' cliqué\n",
            "🛡️ JS 'Tout refuser' cliqué\n",
            "⏳ Pas de pub à skipper\n",
            "▶️ Lecture manuelle déclenchée\n",
            "⌛ Visionnage : 15s\n",
            "✅ Vue simulée\n"
          ]
        },
        {
          "name": "stderr",
          "output_type": "stream",
          "text": [
            "📊 Progression:  28%|█████▎             | 280/1000 [3:52:13<10:19:32, 51.63s/it]"
          ]
        },
        {
          "name": "stdout",
          "output_type": "stream",
          "text": [
            "\n",
            "🔥 Vue n°281\n",
            "📺 Ouverture de https://www.youtube.com/watch?v=FyznRjoS8pM\n",
            "📜 JS 'Lire la suite' cliqué\n",
            "🛡️ JS 'Tout refuser' cliqué\n",
            "⏳ Pas de pub à skipper\n",
            "▶️ Lecture manuelle déclenchée\n",
            "⌛ Visionnage : 16s\n",
            "✅ Vue simulée\n"
          ]
        },
        {
          "name": "stderr",
          "output_type": "stream",
          "text": [
            "📊 Progression:  28%|█████▎             | 281/1000 [3:53:01<10:05:58, 50.57s/it]"
          ]
        },
        {
          "name": "stdout",
          "output_type": "stream",
          "text": [
            "\n",
            "🔥 Vue n°282\n",
            "📺 Ouverture de https://www.youtube.com/watch?v=FyznRjoS8pM\n",
            "📜 JS 'Lire la suite' cliqué\n",
            "🛡️ JS 'Tout refuser' cliqué\n",
            "⏳ Pas de pub à skipper\n",
            "▶️ Lecture manuelle déclenchée\n",
            "⌛ Visionnage : 15s\n",
            "✅ Vue simulée\n"
          ]
        },
        {
          "name": "stderr",
          "output_type": "stream",
          "text": [
            "📊 Progression:  28%|█████▎             | 282/1000 [3:53:54<10:12:21, 51.17s/it]"
          ]
        },
        {
          "name": "stdout",
          "output_type": "stream",
          "text": [
            "\n",
            "🔥 Vue n°283\n",
            "📺 Ouverture de https://www.youtube.com/watch?v=FyznRjoS8pM\n",
            "📜 JS 'Lire la suite' cliqué\n",
            "🛡️ JS 'Tout refuser' cliqué\n",
            "⏳ Pas de pub à skipper\n",
            "▶️ Lecture manuelle déclenchée\n",
            "⌛ Visionnage : 16s\n",
            "✅ Vue simulée\n"
          ]
        },
        {
          "name": "stderr",
          "output_type": "stream",
          "text": [
            "📊 Progression:  28%|█████▋              | 283/1000 [3:54:41<9:57:31, 50.00s/it]"
          ]
        },
        {
          "name": "stdout",
          "output_type": "stream",
          "text": [
            "\n",
            "🔥 Vue n°284\n",
            "📺 Ouverture de https://www.youtube.com/watch?v=FyznRjoS8pM\n",
            "📜 JS 'Lire la suite' cliqué\n",
            "🛡️ JS 'Tout refuser' cliqué\n",
            "⏳ Pas de pub à skipper\n",
            "▶️ Lecture manuelle déclenchée\n",
            "⌛ Visionnage : 15s\n",
            "✅ Vue simulée\n"
          ]
        },
        {
          "name": "stderr",
          "output_type": "stream",
          "text": [
            "📊 Progression:  28%|█████▋              | 284/1000 [3:55:24<9:32:20, 47.96s/it]"
          ]
        },
        {
          "name": "stdout",
          "output_type": "stream",
          "text": [
            "\n",
            "🔥 Vue n°285\n",
            "📺 Ouverture de https://www.youtube.com/watch?v=FyznRjoS8pM\n",
            "📜 JS 'Lire la suite' cliqué\n",
            "🛡️ JS 'Tout refuser' cliqué\n"
          ]
        }
      ],
      "source": [
        "from selenium import webdriver\n",
        "from selenium.webdriver.edge.options import Options\n",
        "from selenium.webdriver.common.by import By\n",
        "from fake_useragent import UserAgent\n",
        "from tqdm import tqdm\n",
        "import time\n",
        "import random\n",
        "import shutil\n",
        "import os\n",
        "\n",
        "# ✅ Vérifie s'il y a internet, sinon attend jusqu'à dispo\n",
        "\n",
        "def wait_for_internet():\n",
        "    while True:\n",
        "        try:\n",
        "            requests.get(\"https://www.google.com\", timeout=3)\n",
        "            print(\"✅ Connexion internet détectée\")\n",
        "            return\n",
        "        except requests.ConnectionError:\n",
        "            print(\"🔌 Pas de connexion... nouvelle tentative dans 5s\")\n",
        "            time.sleep(5)\n",
        "\n",
        "# 🔁 LANCEMENT\n",
        "wait_for_internet()  # ✅ Avant tout : vérifier la connexion\n",
        "video_link = video_link\n",
        "\n",
        "def watch_video_edge(video_url, watch_time=40, profile_index=0, force_duration=False):\n",
        "    ua = UserAgent()\n",
        "    profile_dir = f\"user_profile_{profile_index}\"\n",
        "    if os.path.exists(profile_dir):\n",
        "        shutil.rmtree(profile_dir)\n",
        "\n",
        "    options = Options()\n",
        "    options.use_chromium = True\n",
        "    options.add_argument(f\"user-agent={ua.random}\")\n",
        "    options.add_argument(f\"--user-data-dir={os.path.abspath(profile_dir)}\")\n",
        "    options.add_argument(\"--disable-gpu\")\n",
        "    options.add_argument(\"--start-maximized\")\n",
        "    options.add_argument(\"--mute-audio\") # Coupe le son\n",
        "    options.add_argument(\"--headless\")  # Masque le navigateur\n",
        "\n",
        "    driver = webdriver.Edge(options=options)\n",
        "\n",
        "    try:\n",
        "        print(f\"📺 Ouverture de {video_url}\")\n",
        "        driver.get(video_url)\n",
        "        time.sleep(random.uniform(2.5, 5.0))\n",
        "\n",
        "        # 🔘 Lire la suite\n",
        "        try:\n",
        "            time.sleep(random.uniform(1.0, 2.5))\n",
        "            driver.execute_script(\"\"\"\n",
        "                let btns = [...document.querySelectorAll('button')];\n",
        "                let lire = btns.find(b => b.innerText.trim().includes(\"Lire la suite\"));\n",
        "                if (lire) lire.click();\n",
        "            \"\"\")\n",
        "            print(\"📜 JS 'Lire la suite' cliqué\")\n",
        "            time.sleep(random.uniform(1.0, 2.5))\n",
        "        except Exception as e:\n",
        "            print(\"⛔ Erreur JS Lire la suite :\", e)\n",
        "\n",
        "        # 🔘 Tout refuser\n",
        "        try:\n",
        "            time.sleep(random.uniform(1.0, 2.5))\n",
        "            driver.execute_script(\"\"\"\n",
        "                let btns = [...document.querySelectorAll('button')];\n",
        "                let refuser = btns.find(b => b.innerText.trim().includes(\"Tout refuser\"));\n",
        "                if (refuser) refuser.click();\n",
        "            \"\"\")\n",
        "            print(\"🛡️ JS 'Tout refuser' cliqué\")\n",
        "            time.sleep(random.uniform(1.0, 2.5))\n",
        "        except Exception as e:\n",
        "            print(\"⛔ Erreur JS Tout refuser :\", e)\n",
        "\n",
        "        # ⏩ Skip pub\n",
        "        try:\n",
        "            time.sleep(random.uniform(4.0, 6.0))\n",
        "            skip_btn = driver.find_element(By.CLASS_NAME, \"ytp-ad-skip-button\")\n",
        "            skip_btn.click()\n",
        "            print(\"⏩ Pub skippée\")\n",
        "            time.sleep(random.uniform(1.0, 2.5))\n",
        "        except:\n",
        "            print(\"⏳ Pas de pub à skipper\")\n",
        "\n",
        "        # ▶️ Lecture manuelle si arrêtée\n",
        "        try:\n",
        "            play_btn = driver.find_element(By.CSS_SELECTOR, \"button.ytp-large-play-button\")\n",
        "            play_btn.click()\n",
        "            print(\"▶️ Lecture manuelle déclenchée\")\n",
        "            time.sleep(random.uniform(1.5, 3.0))\n",
        "        except:\n",
        "            print(\"⏯️ Vidéo déjà en lecture ou bouton non détecté\")\n",
        "\n",
        "        # ⏱️ Visionnage\n",
        "        if force_duration:\n",
        "            watch_duration = watch_time + random.randint(1, 3)\n",
        "        else:\n",
        "            watch_duration = max(35, watch_time + random.randint(15, 45))\n",
        "\n",
        "        print(f\"⌛ Visionnage : {watch_duration}s\")\n",
        "        time.sleep(watch_duration)\n",
        "\n",
        "        print(\"✅ Vue simulée\")\n",
        "    except Exception as e:\n",
        "        print(\"❌ Erreur globale :\", e)\n",
        "    finally:\n",
        "        driver.quit()\n",
        "        if os.path.exists(profile_dir):\n",
        "            shutil.rmtree(profile_dir)\n",
        "\n",
        "# 🔁 LANCEMENT\n",
        "video_link = video_link\n",
        "\n",
        "# 🔁 Boucle jusqu'à saisie correcte d'une durée\n",
        "while True:\n",
        "    try:\n",
        "        # 🧾 On demande à l'utilisateur la durée exacte de la vidéo :\n",
        "        # - Si la vidéo dure moins de 30s → YouTube exige souvent de la **regarder jusqu’au bout**\n",
        "        # - Si elle dure plus de 30s → une **vue est comptée après environ 30 secondes de visionnage réel**\n",
        "        # Donc :\n",
        "        # 👉 Si <35s = on entre la vraie durée\n",
        "        # 👉 Sinon = on peut appuyer sur Entrée pour laisser 35s par défaut\n",
        "        raw = input(\"⏱️ Durée de la vidéo (obligatoire si <35s, sinon entrer) : \").strip()\n",
        "\n",
        "        # 🔢 Si une valeur est saisie → on la convertit\n",
        "        # 🔁 Sinon on impose 35s par défaut (car YouTube valide une vue en général après ce seuil)\n",
        "        video_duration = int(raw) if raw else 35\n",
        "\n",
        "        # ❌ On empêche les entrées non valides (0, négatives, vides, caractères)\n",
        "        if video_duration < 1:\n",
        "            raise ValueError\n",
        "\n",
        "        break  # ✅ Si tout est OK, on sort de la boucle\n",
        "    except ValueError:\n",
        "        # ⚠️ Feedback utilisateur si mauvaise saisie\n",
        "        print(\"⛔ Entrez une durée valide supérieure à 0.\")\n",
        "\n",
        "# 🔢 Ensuite, on demande combien de vues on veut simuler\n",
        "while True:\n",
        "    try:\n",
        "        nb_views = int(input(\"🔥 Combien de vues veux-tu simuler ? \").strip())\n",
        "        if nb_views < 1:\n",
        "            raise ValueError  # ❌ Interdit 0 ou négatif\n",
        "        break\n",
        "    except ValueError:\n",
        "        print(\"⛔ Entrez un nombre valide strictement supérieur à 0.\")\n",
        "\n",
        "force_duration = video_duration < 30\n",
        "\n",
        "# ⏳ Temps estimé global\n",
        "estimated_total = nb_views * (video_duration + 45 + 9 if force_duration else 40 + 45 + 9)\n",
        "h = estimated_total // 3600\n",
        "m = (estimated_total % 3600) // 60\n",
        "s = estimated_total % 60\n",
        "print(f\"\\n⏳ Temps max estimé pour {nb_views} vues : {h}h {m}min {s}s\\n\")\n",
        "\n",
        "for i in tqdm(range(nb_views), desc=\"📊 Progression\", ncols=80):\n",
        "    wait_for_internet()  # ✅ Avant chaque vue, on vérifie aussi\n",
        "    print(f\"\\n🔥 Vue n°{i+1}\")\n",
        "    watch_video_edge(video_link, video_duration, profile_index=i, force_duration=force_duration)\n",
        "    time.sleep(random.randint(3, 9))"
      ]
    }
  ],
  "metadata": {
    "colab": {
      "provenance": []
    },
    "kernelspec": {
      "display_name": "Python 3",
      "name": "python3"
    },
    "language_info": {
      "codemirror_mode": {
        "name": "ipython",
        "version": 3
      },
      "file_extension": ".py",
      "mimetype": "text/x-python",
      "name": "python",
      "nbconvert_exporter": "python",
      "pygments_lexer": "ipython3",
      "version": "3.13.2"
    }
  },
  "nbformat": 4,
  "nbformat_minor": 0
}
